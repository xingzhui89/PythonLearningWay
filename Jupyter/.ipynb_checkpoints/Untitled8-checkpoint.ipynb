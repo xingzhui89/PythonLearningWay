{
 "cells": [
  {
   "cell_type": "markdown",
   "metadata": {},
   "source": [
    "今天主要讲一下如何读取视频文件，显示视频，保存视频文件\n",
    "学会从摄像头获取并显示视频\n",
    "cv2.VideoCapture(),cv2.VideoWrite()是今天主要使用的函数"
   ]
  },
  {
   "cell_type": "markdown",
   "metadata": {},
   "source": [
    "# 捕获视频\n",
    "简单的任务是从摄像头捕获一段视频，并把它转换成灰度视频显示出来。\n",
    "为了获取视频，你应该创建一个 VideoCapture 对象。\n",
    "他的参数可以是设备的索引号，或者是一个视频文件。\n",
    "设备索引号就是在指定要使用的摄像头。\n",
    "一般的笔记本电脑都有内置摄像头。所以参数就是 0。\n",
    "你可以通过设置成 1 或者其他的来选择别的摄像头。\n",
    "之后，你就可以一帧一帧的捕获视频了。但是最后，别忘了停止捕获视频。\n",
    "cap.read()返回一个布尔值，如果帧读取的是正确的，就是True，所以通过检查该函数的返回值来确定视频文件是否已经到了结尾。\n",
    "\n",
    "可以使用函数 cap.get(propId) 来获得视频的一些参数信息，比如我们要获取每一帧的宽和高。\n",
    "其实这个是比较固定的。"
   ]
  },
  {
   "cell_type": "code",
   "execution_count": null,
   "metadata": {},
   "outputs": [],
   "source": [
    "import cv2\n",
    "\n",
    "cap=cv2.VideoCapture(0)\n",
    "i=0\n",
    "while(True):\n",
    "    i=i+1\n",
    "    ret,frame=cap.read()\n",
    "    print('Frame ID: ',i,cap.get(3),cap.get(4))\n",
    "    gray=cv2.cvtColor(frame,cv2.COLOR_BGR2GRAY)\n",
    "\n",
    "    cv2.imshow('frame',gray)\n",
    "    if cv2.waitKey(1)==ord('q'):\n",
    "        break\n",
    "\n",
    "cap.release()\n",
    "cv2.destroyAllWindows()"
   ]
  },
  {
   "cell_type": "code",
   "execution_count": null,
   "metadata": {},
   "outputs": [],
   "source": []
  },
  {
   "cell_type": "markdown",
   "metadata": {},
   "source": [
    "# 保存视频的操作\n",
    "需要创建一个VideoWriter的对象，我们应该确定一个输出文件的名字。\n",
    "指定FourCC编码，播放帧率和帧的大小也需要确定，最后就是isColor标签。\n",
    "\n",
    "在下面的例子中\n",
    "首先通过VideoCapture函数得到一个抓取器\n",
    "FOURCC的设置方法，在opencv3中也有所改变\n",
    "然后定义了一个VideoWriter对象。"
   ]
  },
  {
   "cell_type": "code",
   "execution_count": null,
   "metadata": {},
   "outputs": [],
   "source": [
    "import cv2\n",
    "\n",
    "cap=cv2.VideoCapture(0)\n",
    "fourcc=cv2.VideoWriter_fourcc('X','V','I','D')\n",
    "out=cv2.VideoWriter('pic/output.avi',fourcc,20.0,(640,480))\n",
    "\n",
    "while(cap.isOpened()):\n",
    "    #这里的ret值得是read方法的结果，如果读到帧，就是true，否则就是false\n",
    "    ret,frame=cap.read()\n",
    "    if ret==True:\n",
    "        #frame=cv2.flip(frame,0)\n",
    "        out.write(frame)\n",
    "        cv2.imshow('frame',frame)\n",
    "        if cv2.waitKey(1)==ord('q'):\n",
    "            break\n",
    "    else:\n",
    "        cap.open()\n",
    "\n",
    "cap.release()\n",
    "out.release()\n",
    "cv2.destroyAllWindows()\n"
   ]
  },
  {
   "cell_type": "code",
   "execution_count": null,
   "metadata": {},
   "outputs": [],
   "source": []
  },
  {
   "cell_type": "markdown",
   "metadata": {},
   "source": [
    "# 视频的读取\n",
    "与从摄像头中捕获一样，你只需要把设备索引号改成视频文件的名字。在\n",
    "播放每一帧时，使用 cv2.waiKey() 设置适当的持续时间。如果设置的太低视\n",
    "频就会播放的非常快，如果设置的太高就会播放的很慢（你可以使用这种方法\n",
    "控制视频的播放速度）。通常情况下 25 毫秒就可以了"
   ]
  },
  {
   "cell_type": "code",
   "execution_count": null,
   "metadata": {},
   "outputs": [],
   "source": [
    "import cv2\n",
    "\n",
    "cap=cv2.VideoCapture('pic/output.avi')\n",
    "\n",
    "while(cap.isOpened()):\n",
    "    ret,frame=cap.read()\n",
    "    if ret:\n",
    "        #frame=cv2.flip(frame,0)\n",
    "        cv2.imshow('frame',frame)\n",
    "    else:\n",
    "        break\n",
    "    if cv2.waitKey(100)==ord('q'):\n",
    "        break\n",
    "\n",
    "cap.release()\n",
    "cv2.destroyAllWindows()"
   ]
  },
  {
   "cell_type": "code",
   "execution_count": null,
   "metadata": {},
   "outputs": [],
   "source": []
  }
 ],
 "metadata": {
  "kernelspec": {
   "display_name": "Python 3",
   "language": "python",
   "name": "python3"
  },
  "language_info": {
   "codemirror_mode": {
    "name": "ipython",
    "version": 3
   },
   "file_extension": ".py",
   "mimetype": "text/x-python",
   "name": "python",
   "nbconvert_exporter": "python",
   "pygments_lexer": "ipython3",
   "version": "3.5.2"
  }
 },
 "nbformat": 4,
 "nbformat_minor": 2
}
