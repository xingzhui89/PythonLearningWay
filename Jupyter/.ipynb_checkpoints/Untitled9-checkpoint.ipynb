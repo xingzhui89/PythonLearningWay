{
 "cells": [
  {
   "cell_type": "markdown",
   "metadata": {},
   "source": [
    "学习使用OpenCV绘制不同几何图形\n",
    "学习的函数包括：；\n",
    "cv2.line()用来绘制直线\n",
    "cv2.circle()用来绘制圆\n",
    "cv2.rectangle()用来绘制矩形\n",
    "cv2.ellipse()用来绘制椭圆\n",
    "cv2.putText()用来输出文字\n",
    "上面几个函数，都需要设置一下参数：\n",
    "• img：你想要绘制图形的那幅图像。\n",
    "• color：形状的颜色。以 RGB 为例，需要传入一个元组，例如：（255,0,0）\n",
    "代表蓝色。对于灰度图只需要传入灰度值。\n",
    "• thickness：线条的粗细。如果给一个闭合图形设置为 -1，那么这个图形\n",
    "就会被填充。默认值是 1.\n",
    "• linetype：线条的类型， 8连接，抗锯齿等。默认情况是 8连接。 cv2.LINE_AA\n",
    "为抗锯齿，这样看起来会非常平滑。"
   ]
  },
  {
   "cell_type": "code",
   "execution_count": null,
   "metadata": {},
   "outputs": [],
   "source": [
    "import cv2\n",
    "import numpy as np\n",
    "\n",
    "img=np.zeros((512,512,3),np.uint8)\n",
    "\n",
    "cv2.line(img,(0,0),(511,511),(255,0,0),5,cv2.LINE_AA)\n",
    "cv2.rectangle(img,(384,15),(500,228),(0,255,0),3)\n",
    "cv2.circle(img,(447,63),63,(0,0,255),-1)\n",
    "cv2.ellipse(img,(256,256),(100,50),-45,0,180,255,-1)\n",
    "cv2.putText(img,'OpenCV',(10,500),cv2.FONT_HERSHEY_SIMPLEX,4,(255,255,255),5)\n",
    "\n",
    "cv2.imshow('frame',img)\n",
    "cv2.waitKey(0)\n",
    "cv2.destroyAllWindows()\n"
   ]
  },
  {
   "cell_type": "markdown",
   "metadata": {},
   "source": [
    "下面是显示的图片。"
   ]
  }
 ],
 "metadata": {
  "kernelspec": {
   "display_name": "Python 3",
   "language": "python",
   "name": "python3"
  },
  "language_info": {
   "codemirror_mode": {
    "name": "ipython",
    "version": 3
   },
   "file_extension": ".py",
   "mimetype": "text/x-python",
   "name": "python",
   "nbconvert_exporter": "python",
   "pygments_lexer": "ipython3",
   "version": "3.5.2"
  }
 },
 "nbformat": 4,
 "nbformat_minor": 2
}
