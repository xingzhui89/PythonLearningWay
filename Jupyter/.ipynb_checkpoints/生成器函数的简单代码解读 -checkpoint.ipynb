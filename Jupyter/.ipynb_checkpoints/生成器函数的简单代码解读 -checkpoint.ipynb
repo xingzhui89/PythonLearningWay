{
 "cells": [
  {
   "cell_type": "code",
   "execution_count": null,
   "metadata": {},
   "outputs": [],
   "source": [
    "# 第一个测试\n",
    "import time\n",
    "def generator():\n",
    "\tprint('开始生孩子啦。。。。。。')\n",
    "\tprint('开始生孩子啦。。。。。。')\n",
    "\tprint('开始生孩子啦。。。。。。')\n",
    "\tyield '我' #yield是生成器的关键，遇到yield就是抛出后面的内容，跳出函数体，再次运行这个函数时，从yield之后开始运行\n",
    "\n",
    "\ttime.sleep(3)\n",
    "\tprint('开始生儿子啦')\n",
    "\tyield '儿子'\n",
    "\n",
    "\ttime.sleep(3)\n",
    "\tprint('开始生孙子啦')\n",
    "\tyield '孙子'"
   ]
  },
  {
   "cell_type": "code",
   "execution_count": null,
   "metadata": {},
   "outputs": [],
   "source": [
    "res=generator()\n",
    "print(res)\n",
    "print(res.__next__()) #这时开始运行生儿子的代码\n",
    "print(res.__next__()) #这时开始运行生孙子的代码\n",
    "print(res.__next__()) #结束了\n"
   ]
  },
  {
   "cell_type": "code",
   "execution_count": null,
   "metadata": {},
   "outputs": [],
   "source": [
    "#第二个测试\n",
    "#这个函数直接把所有的包子都生成到list中了\n",
    "def product_baozi():\n",
    "\tret=[]\n",
    "\tfor i in range(100):\n",
    "\t\tret.append('一屉包子%s' %i)\n",
    "\treturn ret\n",
    "baozi_list=product_baozi()\n",
    "print(baozi_list)\n",
    "\n",
    "#这个函数是一个一个的生产，不是一次性的\n",
    "def product_baozi():\n",
    "\tfor i in range(100):\n",
    "\t\tprint('正在生产包子')\n",
    "\t\tyield '一屉包子%s' %i #i=1\n",
    "\t\tprint('开始卖包子')\n",
    "pro_g=product_baozi()"
   ]
  },
  {
   "cell_type": "code",
   "execution_count": null,
   "metadata": {},
   "outputs": [],
   "source": [
    "print(pro_g)\n",
    "print(pro_g.__next__())\n",
    "print(pro_g.__next__())\n",
    "baozi1=pro_g.__next__()\n",
    "#加代码\n",
    "baozi1=pro_g.__next__()\n"
   ]
  },
  {
   "cell_type": "code",
   "execution_count": null,
   "metadata": {},
   "outputs": [],
   "source": [
    "def xiadan():\n",
    "\tret=[]\n",
    "\tfor i in range(10000):\n",
    "\t\tret.append('鸡蛋%s' %i)\n",
    "\treturn ret\n",
    "\n",
    "print(xiadan())\n",
    "#缺点1：占空间大\n",
    "#缺点2：效率低\n",
    "\n",
    "def xiadan():\n",
    "\tfor i in range(5):\n",
    "\t\tyield '鸡蛋%s' %i\n",
    "\n",
    "alex_lmj=xiadan()\n",
    "print(alex_lmj.__next__())\n",
    "print(alex_lmj.__next__())\n",
    "print(alex_lmj.__next__())\n",
    "print(alex_lmj.__next__())\n",
    "print(alex_lmj.__next__())\n",
    "print(alex_lmj.__next__())\n",
    "\n",
    "# 如果不想一个个的打印，可以通过循环来实现\n",
    "for jidan in alex_lmj:\n",
    "\tprint(jidan)\n",
    "\n",
    "\n",
    "jidan=alex_lmj.__next__()\n",
    "jidan=alex_lmj.__next__()\n",
    "jidan=alex_lmj.__next__()\n",
    "jidan=alex_lmj.__next__()\n",
    "jidan=alex_lmj.__next__()\n",
    "jidan=alex_lmj.__next__()\n",
    "\n",
    "print('zhoushaochen 取鸡蛋',jidan)"
   ]
  },
  {
   "cell_type": "markdown",
   "metadata": {},
   "source": [
    "\n",
    "在Python中创建生成器是相当简单的。 它使用yield语句而不是return语句来定义，与正常函数一样简单。\n",
    "\n",
    "如果函数包含至少一个yield语句(它可能包含其他yield或return语句)，那么它将成为一个生成器函数。 yield和return都将从函数返回一些值。\n",
    "\n",
    "不同的是，return语句完全终止函数，但yield语句会暂停函数保存其所有状态，并在以后的连续调用中继续执行(有点像线程挂起的意思)。"
   ]
  }
 ],
 "metadata": {
  "kernelspec": {
   "display_name": "Python 3",
   "language": "python",
   "name": "python3"
  },
  "language_info": {
   "codemirror_mode": {
    "name": "ipython",
    "version": 3
   },
   "file_extension": ".py",
   "mimetype": "text/x-python",
   "name": "python",
   "nbconvert_exporter": "python",
   "pygments_lexer": "ipython3",
   "version": "3.5.2"
  }
 },
 "nbformat": 4,
 "nbformat_minor": 2
}
