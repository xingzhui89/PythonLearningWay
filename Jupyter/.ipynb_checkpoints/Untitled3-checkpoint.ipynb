{
 "cells": [
  {
   "cell_type": "markdown",
   "metadata": {},
   "source": [
    "\n",
    "第一个测试\n",
    "类属性\n",
    "下面我们定义了一个Chinese类。\n",
    "这个对象类有一个属性country，是这个类所具有的，每个从这个类实例化的对象都有这个属性。\n",
    "初始化init函数中定义了每个实例对象的name属性\n",
    "还有具有一个play_ball的动作\n",
    "python是没有真正的私有和公共的概念的\n",
    "这个例子的重点在于如何从类外面修改类内部的动作属性\n"
   ]
  },
  {
   "cell_type": "code",
   "execution_count": null,
   "metadata": {},
   "outputs": [],
   "source": [
    "\n",
    "class Chinese:\n",
    "    country='China'\n",
    "    def __init__(self,name):\n",
    "        self.name=name\n",
    "    def play_ball(self,ball):\n",
    "        print('%s 正在打 %s' %(self.name))\n",
    "#查看类属性，类属性不需要实例化就可以查看\n",
    "print(Chinese.country)\n",
    "#修改,因为目前这个类属性是公共的，所以可以直接修改\n",
    "Chinese.country='Japan'\n",
    "print(Chinese.country)\n",
    "p1=Chinese('alex')\n",
    "print(p1.__dict__)\n",
    "print(p1.country)\n",
    "#增加一个类属性\n",
    "Chinese.dang='共产党'\n",
    "# print(Chinese.dang)\n",
    "# print(p1.dang)\n",
    "#删除类属型\n",
    "del Chinese.dang\n",
    "del Chinese.country\n",
    "print(Chinese.__dict__)\n",
    "# print(Chinese.country)\n",
    "def eat_food(self,food):\n",
    "    print('%s 正在吃%s' %(self.name,food))\n",
    "#这里演示了如何给一个类增加动作，\n",
    "Chinese.eat=eat_food\n",
    "print(Chinese.__dict__)\n",
    "p1.eat('屎')\n",
    "def ceshi(self):\n",
    "    print('test')\n",
    "##这里演示了修改类的某个动作，\n",
    "Chinese.play_ball=ceshi\n",
    "p1.play_ball()# Chinese.play_ball(p1)\n",
    "\n"
   ]
  },
  {
   "cell_type": "markdown",
   "metadata": {},
   "source": [
    "\n",
    "第二个例子\n",
    "实例属性\n",
    "实例只的是对类进行初始化得到的独特的一个对象。\n",
    "实例的变量和方法也可以进行增改删的操作\n"
   ]
  },
  {
   "cell_type": "code",
   "execution_count": null,
   "metadata": {},
   "outputs": [],
   "source": [
    "\n",
    "class Chinese:\n",
    "    country='China'\n",
    "    def __init__(self,name):\n",
    "        self.name=name\n",
    "    def play_ball(self,ball):\n",
    "        print('%s 正在打 %s' %(self.name,ball))\n",
    "p1=Chinese('alex')\n",
    "print(p1.__dict__)\n",
    "#查看\n",
    "# print(p1.name)\n",
    "# print(p1.play_ball)\n",
    "#增加\n",
    "p1.age=18\n",
    "print(p1.__dict__)\n",
    "print(p1.age)\n",
    "#不要修改底层的属性字典\n",
    "# p1.__dict__['sex']='male'\n",
    "# print(p1.__dict__)\n",
    "# print(p1.sex)\n",
    "#修改\n",
    "p1.age=19\n",
    "print(p1.__dict__)\n",
    "print(p1.age)\n",
    "#删除\n",
    "del p1.age\n",
    "print(p1.__dict__)"
   ]
  }
 ],
 "metadata": {
  "kernelspec": {
   "display_name": "Python 3",
   "language": "python",
   "name": "python3"
  },
  "language_info": {
   "codemirror_mode": {
    "name": "ipython",
    "version": 3
   },
   "file_extension": ".py",
   "mimetype": "text/x-python",
   "name": "python",
   "nbconvert_exporter": "python",
   "pygments_lexer": "ipython3",
   "version": "3.5.2"
  }
 },
 "nbformat": 4,
 "nbformat_minor": 2
}
