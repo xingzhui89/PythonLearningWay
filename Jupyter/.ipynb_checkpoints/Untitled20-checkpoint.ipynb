{
 "cells": [
  {
   "cell_type": "markdown",
   "metadata": {},
   "source": [
    "本节要介绍的是图像梯度，图像边界等概念。\n",
    "使用到的函数有Sobel(),Scharr(),Laplacian()等。\n",
    "\n",
    "梯度简单来说就是求导。\n",
    "OpenCV提供了三种不同的梯度滤波器，Sobel,Scharr,Laplacian。\n",
    "\n",
    "# Sobel算子和Scharr算子\n",
    "    Sobel算子是高斯平滑和微分操作的结合，所以抗噪能力很好。\n",
    "    可以设置求导的方向xorder或者yorder，还可以设定使用的卷积核的大小ksize。\n",
    "    如果ksize=-1，会使用3x3的Scharr滤波器，效果更好。\n",
    "    x方向[[-3,0,3],[-10,0,10],[-3,0,3]]\n",
    "    y方向[[-3,-10,-3],[0,0,0],[3,10,3]]\n",
    "\n",
    "# Laplacian算子\n",
    "    拉普拉斯算子可以使用二阶导数的形式定义。其离散实现类似于二阶Sobel导数。\n",
    "    计算公式略过。。。\n",
    "\n",
    "我们来看一个实例，看看几种算法的不同之处。"
   ]
  },
  {
   "cell_type": "code",
   "execution_count": null,
   "metadata": {},
   "outputs": [],
   "source": [
    "import cv2 as cv\n",
    "import numpy as np\n",
    "import matplotlib.pyplot as plt\n",
    "\n",
    "img=cv.imread('pic/dave.jpg',0)\n",
    "\n",
    "laplacian=cv.Laplacian(img,cv.CV_64F)\n",
    "\n",
    "sobelx=cv.Sobel(img,cv.CV_64F,1,0,ksize=5)\n",
    "\n",
    "sobely=cv.Sobel(img,cv.CV_64F,0,1,ksize=5)\n",
    "\n",
    "plt.subplot(2,2,1), plt.imshow(img,cmap='gray')\n",
    "plt.title('Original'),plt.xticks([]),plt.yticks([])\n",
    "plt.subplot(2,2,2), plt.imshow(laplacian,cmap='gray')\n",
    "plt.title('Laplacian'),plt.xticks([]),plt.yticks([])\n",
    "plt.subplot(2,2,3), plt.imshow(sobelx,cmap='gray')\n",
    "plt.title('Sobel X'),plt.xticks([]),plt.yticks([])\n",
    "plt.subplot(2,2,4), plt.imshow(sobely,cmap='gray')\n",
    "plt.title('Sobel Y'),plt.xticks([]),plt.yticks([])\n",
    "plt.show()"
   ]
  },
  {
   "cell_type": "markdown",
   "metadata": {},
   "source": [
    "传入上面例子的图片\n",
    "\n",
    "另外需要着重关注的一点是，我们可以通过参数-1来设定输出图像的深度（数据类型）与原图保持一直，但是我们更倾向于使用更高的数据类型，\n",
    "以免丢失图像边界。\n"
   ]
  },
  {
   "cell_type": "code",
   "execution_count": null,
   "metadata": {},
   "outputs": [],
   "source": []
  },
  {
   "cell_type": "code",
   "execution_count": null,
   "metadata": {},
   "outputs": [],
   "source": []
  },
  {
   "cell_type": "code",
   "execution_count": null,
   "metadata": {},
   "outputs": [],
   "source": []
  },
  {
   "cell_type": "code",
   "execution_count": null,
   "metadata": {},
   "outputs": [],
   "source": []
  },
  {
   "cell_type": "code",
   "execution_count": null,
   "metadata": {},
   "outputs": [],
   "source": []
  },
  {
   "cell_type": "code",
   "execution_count": null,
   "metadata": {},
   "outputs": [],
   "source": []
  },
  {
   "cell_type": "code",
   "execution_count": null,
   "metadata": {},
   "outputs": [],
   "source": []
  },
  {
   "cell_type": "code",
   "execution_count": null,
   "metadata": {},
   "outputs": [],
   "source": []
  },
  {
   "cell_type": "code",
   "execution_count": null,
   "metadata": {},
   "outputs": [],
   "source": []
  },
  {
   "cell_type": "code",
   "execution_count": null,
   "metadata": {},
   "outputs": [],
   "source": []
  }
 ],
 "metadata": {
  "kernelspec": {
   "display_name": "Python 3",
   "language": "python",
   "name": "python3"
  },
  "language_info": {
   "codemirror_mode": {
    "name": "ipython",
    "version": 3
   },
   "file_extension": ".py",
   "mimetype": "text/x-python",
   "name": "python",
   "nbconvert_exporter": "python",
   "pygments_lexer": "ipython3",
   "version": "3.5.2"
  }
 },
 "nbformat": 4,
 "nbformat_minor": 2
}
