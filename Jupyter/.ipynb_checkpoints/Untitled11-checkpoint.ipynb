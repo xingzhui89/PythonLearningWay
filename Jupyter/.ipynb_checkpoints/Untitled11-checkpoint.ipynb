{
 "cells": [
  {
   "cell_type": "markdown",
   "metadata": {},
   "source": [
    "\n",
    "继承可以实现代码重用，但是会使得父类和子类耦合在一起，实际使用意义不大。\n",
    "我们常用继承来实现接口继承，声明某个子类兼容于某基类。\n",
    "定义一个接口类，子类继承接口类，并实现接口中定义的方法。\n",
    "\n",
    "在接口类中定义的方法，在子类中一定要实现才可以，但是父类中不需要实现。\n",
    "\n",
    "为了保证在子类中一定实现接口类中的所有方法，我们在接口类中给方法加上一个装饰器，定义为虚方法。\n",
    "具体实现方法请看下面的代码。\n",
    "这样的话，如果在子类中有方法没有实现，那么就无法实例化。\n"
   ]
  },
  {
   "cell_type": "code",
   "execution_count": null,
   "metadata": {},
   "outputs": [],
   "source": [
    "import abc\n",
    "class All_file(metaclass=abc.ABCMeta):\n",
    "    @abc.abstractmethod\n",
    "    def read(self):\n",
    "        pass\n",
    "    @abc.abstractmethod\n",
    "    def write(self):\n",
    "        pass\n",
    "\n",
    "class Disk(All_file):\n",
    "    def read(self):\n",
    "        print('disk read')\n",
    "    def write(self):\n",
    "        print('disk write')\n",
    "class Cdrom(All_file):\n",
    "    def read(self):\n",
    "        print('cdrom read')\n",
    "    def write(self):\n",
    "        print('cdrom write')\n",
    "class Mem(All_file):\n",
    "    def read(self):\n",
    "        print('mem read')\n",
    "    def write(self):\n",
    "        print('mem write')\n",
    "\n",
    "m1=Mem()\n",
    "m1.read()\n",
    "m1.write()\n",
    "\n"
   ]
  },
  {
   "cell_type": "code",
   "execution_count": null,
   "metadata": {},
   "outputs": [],
   "source": [
    "'''\n",
    "下面演示在子类中调用父类的方法\n",
    "\n",
    "'''\n",
    "class Vehicle:\n",
    "    Country='China'\n",
    "    def __init__(self,name,speed,load,power):\n",
    "        self.name=name\n",
    "        self.speed=speed\n",
    "        self.load=load\n",
    "        self.power=power\n",
    "    def run(self):\n",
    "        print('开动啦')\n",
    "        print('开动啦')\n",
    "class Subway(Vehicle):\n",
    "        def __init__(self,name,speed,load,power,line):\n",
    "           Vehicle.__init__(self,name,speed,load,power)\n",
    "           #super(Subway, self).__init__(name, speed, load, power)\n",
    "           self.line=line\n",
    "        def show_info(self):\n",
    "            print(self.name,self.speed,self.load,self.power,self.line)\n",
    "        def run(self):\n",
    "            Vehicle.run(self)\n",
    "            #super().run()\n",
    "            print('%s %s 线，开动啦' %(self.name,self.line))\n",
    "line13=Subway('北京地铁','10km/s',1000000000,'电',13)\n",
    "line13.show_info()\n",
    "line13.run()"
   ]
  }
 ],
 "metadata": {
  "kernelspec": {
   "display_name": "Python 3",
   "language": "python",
   "name": "python3"
  },
  "language_info": {
   "codemirror_mode": {
    "name": "ipython",
    "version": 3
   },
   "file_extension": ".py",
   "mimetype": "text/x-python",
   "name": "python",
   "nbconvert_exporter": "python",
   "pygments_lexer": "ipython3",
   "version": "3.5.2"
  }
 },
 "nbformat": 4,
 "nbformat_minor": 2
}
