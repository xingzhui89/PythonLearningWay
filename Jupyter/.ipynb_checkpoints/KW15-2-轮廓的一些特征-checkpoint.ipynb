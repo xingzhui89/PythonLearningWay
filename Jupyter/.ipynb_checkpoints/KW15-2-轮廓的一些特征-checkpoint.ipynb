{
 "cells": [
  {
   "cell_type": "markdown",
   "metadata": {},
   "source": [
    "这里要介绍的是如何查找轮廓的不同特征，比如面积，周长，重心，边界框等。\n",
    "我们介绍一些轮廓相关参数。\n",
    "\n",
    "# 矩\n",
    "    图像的矩可以帮助我们计算图像的质心，面积等。\n",
    "    moments()方法会将计算得到的矩以一个字典的形式返回。"
   ]
  },
  {
   "cell_type": "code",
   "execution_count": null,
   "metadata": {},
   "outputs": [],
   "source": [
    "import cv2\n",
    "import numpy as np\n",
    "\n",
    "img=cv2.imread('pic/star.jpg',0)\n",
    "ret,thresh=cv2.threshold(img,127,255,0)\n",
    "_,contours,hierarchy=cv2.findContours(thresh,cv2.RETR_TREE,cv2.CHAIN_APPROX_SIMPLE)\n",
    "#note Since opencv 3.2 source image is not modified by this function.\n",
    "#啥，原图像不会被修改了？\n",
    "#一开始返回两个参数报错，ValueError.\n",
    "#### 原因：由于版本（使用的时3.2.0.7）问题 cv.findContours返回值个数发生变化，变为3个。\n",
    "####如果第一个参数不使用的话，可以用下划线代替。\n",
    "\n",
    "cnt=contours[0]\n",
    "M=cv2.moments(cnt)\n",
    "# print(M)\n",
    "for key,value in M.items():\n",
    "    print(key,value)\n",
    "\n",
    "# cv2.imshow('img',thresh)\n",
    "# cv2.waitKey(0)\n",
    "# cv2.destroyAllWindows()"
   ]
  },
  {
   "cell_type": "markdown",
   "metadata": {},
   "source": [
    "通过上面计算得到的矩的值，我们可以计算出对象的重心。"
   ]
  },
  {
   "cell_type": "code",
   "execution_count": null,
   "metadata": {},
   "outputs": [],
   "source": [
    "cx = int(M['m10']/M['m00'])\n",
    "cy = int(M['m01']/M['m00'])\n",
    "print(cx,cy)#399 720"
   ]
  },
  {
   "cell_type": "markdown",
   "metadata": {},
   "source": [
    "# 轮廓面积\n",
    "    轮廓的面积可以使用函数contourArea()计算得到，也可以使用矩（0阶矩），M['m00'].\n",
    "    area=cv2.contourArea(cnt)\n",
    "    \n",
    "# 轮廓周长\n",
    "    也即弧长，可以使用函数arcLength()计算得到。\n",
    "    该函数的第二参数可以用来指定对象的形状是True闭合，还是打开的。\n",
    "    perimeter=cv2.arcLength(cnt,True)\n",
    "    \n",
    "# 轮廓近似\n",
    "    将轮廓形状近似到另外一种由更少点组成的轮廓形状。\n",
    "    新轮廓的点的数目由我们设定的准确度来决定。\n",
    "    使用Douglas-Peucker算法。\n",
    "    假设我们要在一副图像中查找一个矩形，但是由于图像的种种原因，\n",
    "我们不能得到一个完美的矩形，而是一个‘坏形状’，比如说得到很多折线组成的图形。\n",
    "    这时候，我们就可以利用近似函数。\n",
    "    \n",
    "    如下面代码所示：\n",
    "    epsilon表示从轮廓到近似轮廓中间的最大距离。\n",
    "    这是一个准确度参数，对于得到满意结果很有帮助。\n",
    "    approxPolyDP的第三个参数用于设定弧线是否闭合。"
   ]
  },
  {
   "cell_type": "code",
   "execution_count": null,
   "metadata": {},
   "outputs": [],
   "source": [
    "epsilon=0.1*cv2.arcLength(cnt,True)\n",
    "approx=cv2.approxPolyDP(cnt,epsilon,True)"
   ]
  },
  {
   "cell_type": "markdown",
   "metadata": {},
   "source": [
    "# 凸包\n",
    "    与轮廓相似，但不同。有些情况下给出的结果是一样的。\n",
    "    convexHull()函数用来检测一个曲线是否具有凸性缺陷，并能纠正缺陷。\n",
    "    一般来说，凸性曲线总是凸出来的，至少是平的。如果由地方凹进去，就被叫做凸性缺陷。\n",
    "    比如一只手，手指间的凹陷，就是一种凸性缺陷。\n",
    "def convexHull(points, hull=None, clockwise=None, returnPoints=None):\n",
    "    points，表示要传入的轮廓\n",
    "    hull，输出的内容，一般不需要\n",
    "    clockwise，方向标志。True表示顺时针输出。\n",
    "    returnPoints，默认为True，会返回凸包上点的坐标。\n",
    "        如果设置为False，会返回与凸包点对应的轮廓上的点。注意不是坐标。\n",
    "        所以说如果想要获得凸性缺陷，就要设置这个参数为False。"
   ]
  },
  {
   "cell_type": "code",
   "execution_count": null,
   "metadata": {},
   "outputs": [],
   "source": [
    "hull=cv2.convexHull(cnt)"
   ]
  },
  {
   "cell_type": "markdown",
   "metadata": {},
   "source": [
    "# 凸性检测\n",
    "    isContourConvex()函数可以用来检测一个曲线是不是凸的。"
   ]
  },
  {
   "cell_type": "code",
   "execution_count": null,
   "metadata": {},
   "outputs": [],
   "source": [
    "k=cv2.isContourConvex(cnt)"
   ]
  },
  {
   "cell_type": "markdown",
   "metadata": {},
   "source": [
    "# 边界矩形\n",
    "    第一种是：直边界矩形，不会考虑对象是否旋转。所以边界矩形的面积不是最小的。\n",
    "    可以通过boundingRect()查找得到。"
   ]
  },
  {
   "cell_type": "code",
   "execution_count": null,
   "metadata": {},
   "outputs": [],
   "source": [
    "x,y,w,h=cv2.boundingRect(cnt)\n",
    "img=cv2.rectangle(img,(x,y),(x+w,y+h),(0,255,0),2)"
   ]
  },
  {
   "cell_type": "markdown",
   "metadata": {},
   "source": [
    "    第二种是：旋转的边界矩形，这种矩形的面积是最小的，因为它考虑了对象的旋转。\n",
    "    用到的函数为minAreaRect()，返回一个Box2D结构。\n",
    "    其中包含中心点坐标(x,y)，矩形的宽和高(w,h)，以及旋转角度。\n",
    "    为了画这个矩形，我们需要矩形4个角点的坐标。可以通过boxPoints()获取。"
   ]
  },
  {
   "cell_type": "code",
   "execution_count": null,
   "metadata": {},
   "outputs": [],
   "source": [
    "rect=cv2.minAreaRect(cnt)\n",
    "box=cv2.boxPoints(rect)\n",
    "box=np.int0(box)\n",
    "cv2.drawContours(img,[box],0,(0,0,255),2)"
   ]
  },
  {
   "cell_type": "markdown",
   "metadata": {},
   "source": [
    "# 最小外接圆\n",
    "    minEnclosingCircle()可以找到一个对象的外接圆。"
   ]
  },
  {
   "cell_type": "code",
   "execution_count": null,
   "metadata": {},
   "outputs": [],
   "source": [
    "(x,y),radius=cv2.minEnclosingCircle(cnt)\n",
    "center=(int(x),int(y))\n",
    "radius=int(radius)\n",
    "img=cv2.circle(img,center,radius,(0,255,0),2)"
   ]
  },
  {
   "cell_type": "markdown",
   "metadata": {},
   "source": [
    "# 椭圆拟合\n",
    "    使用的函数为ellipse()，返回旋转的矩形的内切椭圆。"
   ]
  },
  {
   "cell_type": "code",
   "execution_count": null,
   "metadata": {},
   "outputs": [],
   "source": [
    "ellipse=cv2.fitEllipse(cnt)\n",
    "cv2.ellipse(img,ellipse,(0,255,0),2)"
   ]
  },
  {
   "cell_type": "markdown",
   "metadata": {},
   "source": [
    "# 直线拟合\n",
    "    我们可以根据一组点拟合出一条直线，对于一组白色点的图像，我们也能近似的拟合出一条直线来。"
   ]
  },
  {
   "cell_type": "code",
   "execution_count": null,
   "metadata": {},
   "outputs": [],
   "source": [
    "rows,cols=img.shape[:2]\n",
    "[vx,vy,x,y]=cv2.fitLine(cnt,cv2.DIST_L2,0,0.01,0.01)\n",
    "lefty=int(y-(x*vy/vx))\n",
    "righty=int(y+(cols-x)*vy/vx)\n",
    "cv2.line(img,(cols-1,righty),(0,lefty),(0,255,0),2)"
   ]
  }
 ],
 "metadata": {
  "kernelspec": {
   "display_name": "Python 3",
   "language": "python",
   "name": "python3"
  },
  "language_info": {
   "codemirror_mode": {
    "name": "ipython",
    "version": 3
   },
   "file_extension": ".py",
   "mimetype": "text/x-python",
   "name": "python",
   "nbconvert_exporter": "python",
   "pygments_lexer": "ipython3",
   "version": "3.5.2"
  }
 },
 "nbformat": 4,
 "nbformat_minor": 2
}
