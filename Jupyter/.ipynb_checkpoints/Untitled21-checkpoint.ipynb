{
 "cells": [
  {
   "cell_type": "markdown",
   "metadata": {},
   "source": [
    "# Canny边缘检测\n",
    "是一种非常流行的算法，由以下步骤构成：\n",
    "\n",
    "1、噪声去除\n",
    "    第一步是使用5X5的高斯滤波器去除噪声。\n",
    "2、计算图像梯度\n",
    "    对平滑后的图像使用Sobel算子计算水平方向和竖直方向的一阶导数。\n",
    "3、非极大值抑制\n",
    "    在获取梯度的方向和大小之后，应该对整幅图像做一个扫描，去除哪些非边界上的点。\n",
    "    对每一个像素进行检查，看这个点的梯度是不是周围具有相通梯度方向的点中最大的。\n",
    "4、滞后阈值\n",
    "    现在要确定哪些边界才是真正的边界。\n",
    "    我们需要设置两个阈值，minVal和maxVal，当图像的灰度梯度高于maxVal时被认为是真的边界。\n",
    "    低于minVal的边界会被抛弃。\n",
    "\n",
    "但是在OpenCV中只需要一个函数Canny()就可以完成以上几步。"
   ]
  },
  {
   "cell_type": "code",
   "execution_count": null,
   "metadata": {},
   "outputs": [],
   "source": [
    "这个函数的第一个参数是输入图像，第二个和第三个分别是minVal和maxVal。\n",
    "然后是设置卷积核的大小，默认为3。最后一个参数用来设定求梯度大小的方程,默认为False。\n",
    "def Canny(image, threshold1, threshold2, edges=None, apertureSize=None, L2gradient=None):\n",
    "    .   @param image 8-bit input image.\n",
    "    .   @param edges output edge map; single channels 8-bit image, which has the same size as image .\n",
    "    .   @param threshold1 first threshold for the hysteresis procedure.\n",
    "    .   @param threshold2 second threshold for the hysteresis procedure.\n",
    "    .   @param apertureSize aperture size for the Sobel operator."
   ]
  },
  {
   "cell_type": "code",
   "execution_count": null,
   "metadata": {},
   "outputs": [],
   "source": [
    "import cv2 as cv\n",
    "from matplotlib import pyplot as plt\n",
    "\n",
    "img = cv.imread('pic/messi.jpg',0)\n",
    "edges = cv.Canny(img,190,200)#改变这里的阈值，会显示出图片更多或者更少的内容\n",
    "\n",
    "plt.subplot(121),plt.imshow(img,cmap = 'gray')\n",
    "plt.title('Original Image'), plt.xticks([]), plt.yticks([])\n",
    "plt.subplot(122),plt.imshow(edges,cmap = 'gray')\n",
    "plt.title('Edge Image'), plt.xticks([]), plt.yticks([])\n",
    "\n",
    "plt.show()"
   ]
  },
  {
   "cell_type": "code",
   "execution_count": null,
   "metadata": {},
   "outputs": [],
   "source": []
  },
  {
   "cell_type": "code",
   "execution_count": null,
   "metadata": {},
   "outputs": [],
   "source": []
  },
  {
   "cell_type": "code",
   "execution_count": null,
   "metadata": {},
   "outputs": [],
   "source": []
  },
  {
   "cell_type": "code",
   "execution_count": null,
   "metadata": {},
   "outputs": [],
   "source": []
  }
 ],
 "metadata": {
  "kernelspec": {
   "display_name": "Python 3",
   "language": "python",
   "name": "python3"
  },
  "language_info": {
   "codemirror_mode": {
    "name": "ipython",
    "version": 3
   },
   "file_extension": ".py",
   "mimetype": "text/x-python",
   "name": "python",
   "nbconvert_exporter": "python",
   "pygments_lexer": "ipython3",
   "version": "3.5.2"
  }
 },
 "nbformat": 4,
 "nbformat_minor": 2
}
