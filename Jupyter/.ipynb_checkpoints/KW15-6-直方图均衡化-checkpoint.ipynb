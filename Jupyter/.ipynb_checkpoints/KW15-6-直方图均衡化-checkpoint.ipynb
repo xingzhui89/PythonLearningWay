{
 "cells": [
  {
   "cell_type": "markdown",
   "metadata": {},
   "source": [
    "如果一副图像中的大多数像素点的像素值都集中在一个像素值范围之内会怎样呢？\n",
    "比如，一副图片整体很亮，那么所有的像素值应该都会很高。\n",
    "但是一副高质量的图像的像素值分布应该很广泛，所以应该把其直方图做一个横向拉伸。\n",
    "这就是直方图均衡化要做的事情。\n",
    "通常，这种操作会改善图像的对比度。\n",
    "\n",
    "# 我们先来看看Numpy中是如何处理的"
   ]
  },
  {
   "cell_type": "code",
   "execution_count": null,
   "metadata": {},
   "outputs": [],
   "source": [
    "img=cv2.imread('pic/wiki.jpg',0)\n",
    "hist,bins=np.histogram(img.flatten(),256,[0,256])\n",
    "cdf=hist.cumsum()\n",
    "cdf_normalized=cdf*hist.max()/cdf.max()\n",
    "\n",
    "plt.subplot(211),plt.imshow(img,'gray')\n",
    "plt.subplot(212),plt.plot(cdf_normalized,color='b')\n",
    "plt.hist(img.flatten(),256,[0,256],color='r')\n",
    "plt.xlim([0,256])\n",
    "plt.legend(('cdf','histogram'),loc='upper left')\n",
    "plt.show()\n",
    "###此处插入图片22-2-1"
   ]
  },
  {
   "cell_type": "markdown",
   "metadata": {},
   "source": [
    "从上图中可以看出，直方图大部分都集中在灰度值较高的地方，而且很集中。\n",
    "我们希望直方图的分布比较分散，能够覆盖整个x轴。\n",
    "所以需要一个变换函数帮助我们把现在的直方图映射到一个广泛分布的直方图中。\n",
    "这就是直方图均衡化要做的事情。\n",
    "我们现在要找到直方图中的最小值，除了0，并把它用于wiki中的直方图均衡化公式。"
   ]
  },
  {
   "cell_type": "code",
   "execution_count": null,
   "metadata": {},
   "outputs": [],
   "source": [
    "cdf_m=np.ma.masked_equal(cdf,0)\n",
    "cdf_m=(cdf_m-cdf_m.min())*255/(cdf_m.max(-cdf_m.min()))\n",
    "\n",
    "cdf=np.ma.filled(cdf_m,0).astype('uint8')\n",
    "\n",
    "img2=cdf[img]\n",
    "\n",
    "plt.subplot(211),plt.imshow(img2,'gray')\n",
    "plt.subplot(212),plt.plot(cdf,color='b')\n",
    "plt.hist(img2.flatten(),256,[0,256],color='r')\n",
    "plt.xlim([0,256])\n",
    "plt.legend(('cdf','histogram'),loc='upper left')\n",
    "plt.show()\n",
    "###此处插入图片22-2-2"
   ]
  },
  {
   "cell_type": "markdown",
   "metadata": {},
   "source": [
    "另外一个比较重要的特点是，即使我们的输入图片比较暗，在经过直方图均衡化之后，也能得到相同的结果。"
   ]
  },
  {
   "cell_type": "markdown",
   "metadata": {},
   "source": [
    "# OpenCV中的直方图均衡化\n",
    "equalizeHist()函数，输入图片仅仅是一副灰度图像，输出结果是直方图均衡化之后的图像。"
   ]
  },
  {
   "cell_type": "code",
   "execution_count": null,
   "metadata": {},
   "outputs": [],
   "source": [
    "img=cv2.imread('pic/wiki.jpg',0)\n",
    "equ=cv2.equalizeHist(img)\n",
    "res=np.vstack((img,equ))\n",
    "cv2.imwrite('pic/wiki_res.jpg',res)\n",
    "\n",
    "plt.subplot(121),plt.imshow(img,'gray')\n",
    "plt.subplot(122),plt.imshow(equ,'gray')\n",
    "plt.show()\n",
    "##此处插入图片，wiki_res"
   ]
  },
  {
   "cell_type": "markdown",
   "metadata": {},
   "source": [
    "所以当直方图中的数据集中在某一个灰度值范围内时，直方图均衡化很有用。"
   ]
  },
  {
   "cell_type": "markdown",
   "metadata": {},
   "source": [
    "# 有限对比适应性直方图均衡化\n",
    "有时候，我们使用上面方式做的直方图均衡化，虽然可以改变对比度，但是有时候会丢失一些信息\n",
    "比如一张图片变得太亮，导致信息丢失。\n",
    "为了解决这种问题，我们需要使用自适应的直方图均衡化。\n",
    "    其原理为：\n",
    "        将图像分成很多小块，然后对每个小块进行直方图均衡化。"
   ]
  },
  {
   "cell_type": "code",
   "execution_count": null,
   "metadata": {},
   "outputs": [],
   "source": [
    "img=cv2.imread('pic/diaosu.jpg',0)\n",
    "clahe=cv2.createCLAHE(clipLimit=2.0,titleGridSize=(8,8))\n",
    "cl1=clahe.apply(img)\n",
    "\n",
    "cv2.imwrite('pic/diaosu_res.jpg',0)\n",
    "#插图图片diaosu_res"
   ]
  },
  {
   "cell_type": "code",
   "execution_count": null,
   "metadata": {},
   "outputs": [],
   "source": []
  },
  {
   "cell_type": "code",
   "execution_count": null,
   "metadata": {},
   "outputs": [],
   "source": []
  },
  {
   "cell_type": "code",
   "execution_count": null,
   "metadata": {},
   "outputs": [],
   "source": []
  },
  {
   "cell_type": "code",
   "execution_count": null,
   "metadata": {},
   "outputs": [],
   "source": []
  },
  {
   "cell_type": "code",
   "execution_count": null,
   "metadata": {},
   "outputs": [],
   "source": []
  },
  {
   "cell_type": "code",
   "execution_count": null,
   "metadata": {},
   "outputs": [],
   "source": []
  }
 ],
 "metadata": {
  "kernelspec": {
   "display_name": "Python 3",
   "language": "python",
   "name": "python3"
  },
  "language_info": {
   "codemirror_mode": {
    "name": "ipython",
    "version": 3
   },
   "file_extension": ".py",
   "mimetype": "text/x-python",
   "name": "python",
   "nbconvert_exporter": "python",
   "pygments_lexer": "ipython3",
   "version": "3.5.2"
  }
 },
 "nbformat": 4,
 "nbformat_minor": 2
}
