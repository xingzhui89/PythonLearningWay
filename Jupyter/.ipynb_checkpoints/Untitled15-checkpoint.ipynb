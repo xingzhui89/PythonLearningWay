{
 "cells": [
  {
   "cell_type": "markdown",
   "metadata": {},
   "source": [
    "# 颜色空间转换\n",
    "这一节将介绍如何对图像进行颜色空间转换，比如从BGR到灰度图，或者从BGR到HSV。\n",
    "并且要创建一个程序，如何从一个video中提取一个有颜色的物体。\n",
    "主要介绍的函数包括cv.cvtColor(),cv.inRange()等\n",
    "\n",
    "OpenCV中有150种color-space的转换方法，但是我们主要介绍BGR->Gray以及BGR->HSV.\n",
    "\n",
    "cv.cvtColor(input_image, flag)\n",
    "这是我们主要的转换函数。\n",
    "其中flag有很多，我们来获取一下所有的flag。\n",
    "常用的是cv.COLOR_BGR2GRAY,cv.COLOR_BGR2HSV"
   ]
  },
  {
   "cell_type": "code",
   "execution_count": null,
   "metadata": {},
   "outputs": [],
   "source": [
    "import cv2 as cv\n",
    "flags=[i for i in dir(cv) if i.startswith('COLOR_')]\n",
    "print(len(flags),flags)"
   ]
  },
  {
   "cell_type": "markdown",
   "metadata": {},
   "source": [
    "# 物体跟踪\n",
    "在HSV颜色空间中要比在BGR空间中更容易表示一个特定颜色。\n",
    "假如我们要提取一个蓝色的物体。\n",
    "具体实现程序步骤如下：\n",
    "1、从视频中获取一帧图像\n",
    "2、将图像转换到HSV空间\n",
    "3、设置HSV阈值到蓝色范围\n",
    "4、获取蓝色物体，当然还可以多做一些额外的事情。\n",
    "代码实现："
   ]
  },
  {
   "cell_type": "code",
   "execution_count": null,
   "metadata": {},
   "outputs": [],
   "source": [
    "import cv2 as cv\n",
    "import numpy as np\n",
    "\n",
    "cap=cv.VideoCapture(0)\n",
    "\n",
    "while(True):\n",
    "    #这句很好理解，通过摄像头来获取图像\n",
    "    ret,frame=cap.read()\n",
    "    #将BGR图像转换成HSV图像\n",
    "    hsv=cv.cvtColor(frame,cv.COLOR_BGR2HSV)\n",
    "    #设置蓝色的提取范围\n",
    "    lower_blue=np.array([110,50,50])\n",
    "    upper_blue=np.array([130,255,255])\n",
    "    '''\n",
    "    def inRange(src, lowerb, upperb, dst=None)\n",
    "    Checks if array elements lie between the elements of two other arrays.\n",
    "    检查矩阵元素是否在某个范围之间。\n",
    "    .   @param src first input array.\n",
    "    .   @param lowerb inclusive lower boundary array or a scalar.\n",
    "    .   @param upperb inclusive upper boundary array or a scalar.\n",
    "    .   @param dst output array of the same size as src and CV_8U type.\n",
    "    mask是一个包含0和非零数的矩阵\n",
    "    '''\n",
    "    mask=cv.inRange(hsv,lower_blue,upper_blue)\n",
    "    #print(mask)\n",
    "    #在mask不为0的地方，进行and操作\n",
    "    res=cv.bitwise_and(frame,frame,mask=mask)\n",
    "\n",
    "    cv.imshow('frame',frame)\n",
    "    cv.imshow('mask',mask)\n",
    "    cv.imshow('res',res)\n",
    "    k=cv.waitKey(5)\n",
    "    if k==27:\n",
    "        break\n",
    "\n",
    "cv.destroyAllWindows()\n"
   ]
  },
  {
   "cell_type": "code",
   "execution_count": null,
   "metadata": {},
   "outputs": [],
   "source": [
    "BGR和HSV的转换如何实现？\n",
    "1、一种方法是通过在线转换工具，可以把BGR转换成HSV，也可以把自己想要的所有颜色转换成HSV。\n",
    "2、代码形式，我们自定义一个BGR对象，然后通过cv.cvtColor函数实现。然后确定上下阈值。\n"
   ]
  },
  {
   "cell_type": "code",
   "execution_count": null,
   "metadata": {},
   "outputs": [],
   "source": []
  },
  {
   "cell_type": "code",
   "execution_count": null,
   "metadata": {},
   "outputs": [],
   "source": []
  },
  {
   "cell_type": "code",
   "execution_count": null,
   "metadata": {},
   "outputs": [],
   "source": []
  },
  {
   "cell_type": "code",
   "execution_count": null,
   "metadata": {},
   "outputs": [],
   "source": []
  },
  {
   "cell_type": "code",
   "execution_count": null,
   "metadata": {},
   "outputs": [],
   "source": []
  },
  {
   "cell_type": "code",
   "execution_count": null,
   "metadata": {},
   "outputs": [],
   "source": []
  },
  {
   "cell_type": "code",
   "execution_count": null,
   "metadata": {},
   "outputs": [],
   "source": []
  }
 ],
 "metadata": {
  "kernelspec": {
   "display_name": "Python 3",
   "language": "python",
   "name": "python3"
  },
  "language_info": {
   "codemirror_mode": {
    "name": "ipython",
    "version": 3
   },
   "file_extension": ".py",
   "mimetype": "text/x-python",
   "name": "python",
   "nbconvert_exporter": "python",
   "pygments_lexer": "ipython3",
   "version": "3.5.2"
  }
 },
 "nbformat": 4,
 "nbformat_minor": 2
}
