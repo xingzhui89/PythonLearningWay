{
 "cells": [
  {
   "cell_type": "code",
   "execution_count": null,
   "metadata": {},
   "outputs": [],
   "source": [
    "#通过生成器实现协程并行运算\n",
    "\n",
    "import time\n",
    "def consumer(name):\n",
    "    print(\"%s 准备吃包子啦!\" %name)\n",
    "    while True:\n",
    "       baozi = yield 1\n",
    "\n",
    "       print(\"包子[%s]来了,被[%s]吃了!\" %(baozi,name))\n",
    "def producer(name):\n",
    "    c = consumer('A')\n",
    "    c2 = consumer('B')\n",
    "    print( c.__next__())\n",
    "    print(c2.__next__())\n",
    "    print(\"老子开始准备做包子啦!\")\n",
    "    for i in range(10):\n",
    "        time.sleep(1)\n",
    "        print(\"做了2个包子!\")\n",
    "        c.send(i)\n",
    "        c2.send(i)\n",
    "\n",
    "producer(\"alex\")\n"
   ]
  },
  {
   "cell_type": "markdown",
   "metadata": {},
   "source": [
    "协程究竟是个什么东西？\n",
    "Python对协程的支持是通过generator实现的。\n",
    "在generator中，我们不但可以通过for循环来迭代，还可以不断调用next()函数获取由yield语句返回的下一个值。\n",
    "但是Python的yield不但可以返回一个值，它还可以接收调用者发出的参数。\n",
    "我们再来看另外一个例子\n"
   ]
  },
  {
   "cell_type": "code",
   "execution_count": null,
   "metadata": {},
   "outputs": [],
   "source": [
    "def consumer():\n",
    "    r = ''\n",
    "    while True:\n",
    "        n = yield r#这句很关键，n接受了从生产者那里传递的数值，然后返回了当前的r\n",
    "        if not n:\n",
    "            return\n",
    "        print('[CONSUMER] Consuming %s...' % n)\n",
    "        r = '200 OK'\n",
    "def produce(c):\n",
    "    c.send(None)\n",
    "    n = 0\n",
    "    while n < 5:\n",
    "        n = n + 1\n",
    "        print('[PRODUCER] Producing %s...' % n)\n",
    "        r = c.send(n)\n",
    "        print('[PRODUCER] Consumer return: %s' % r)\n",
    "    c.close()\n",
    "\n",
    "c = consumer()\n",
    "produce(c)"
   ]
  },
  {
   "cell_type": "markdown",
   "metadata": {},
   "source": [
    "注意到consumer函数是一个generator，把一个consumer传入produce后：\n",
    "\n",
    "首先调用c.send(None)启动生成器；\n",
    "\n",
    "然后，一旦生产了东西，通过c.send(n)切换到consumer执行；\n",
    "\n",
    "consumer通过yield拿到消息，处理，又通过yield把结果传回；\n",
    "\n",
    "produce拿到consumer处理的结果，继续生产下一条消息；\n",
    "\n",
    "produce决定不生产了，通过c.close()关闭consumer，整个过程结束。\n",
    "\n",
    "整个流程无锁，由一个线程执行，produce和consumer协作完成任务，所以称为“协程”，而非线程的抢占式多任务。"
   ]
  }
 ],
 "metadata": {
  "kernelspec": {
   "display_name": "Python 3",
   "language": "python",
   "name": "python3"
  },
  "language_info": {
   "codemirror_mode": {
    "name": "ipython",
    "version": 3
   },
   "file_extension": ".py",
   "mimetype": "text/x-python",
   "name": "python",
   "nbconvert_exporter": "python",
   "pygments_lexer": "ipython3",
   "version": "3.5.2"
  }
 },
 "nbformat": 4,
 "nbformat_minor": 2
}
