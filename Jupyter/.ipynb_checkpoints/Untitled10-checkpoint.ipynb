{
 "cells": [
  {
   "cell_type": "markdown",
   "metadata": {},
   "source": [
    "学习使用OpenCV处理鼠标事件\n",
    "涉及到的函数是cv2.setMouseCallBack()\n",
    "\n",
    "第一个例子，我们创建一个简单的程序，在我们双击过的地方绘制一个圆。\n",
    "首先我们来创建一个鼠标事件回调函数，但鼠标事件发生是他就会被执行。\n",
    "鼠标事件可以是鼠标上的任何动作，比如左键按下，左键松开，左键双击等。\n",
    "我们可以通过鼠标事件获得与鼠标对应的图片上的坐标。根据这些信息我们可\n",
    "以做任何我们想做的事。"
   ]
  },
  {
   "cell_type": "code",
   "execution_count": null,
   "metadata": {},
   "outputs": [],
   "source": [
    "import cv2\n",
    "import numpy as np\n",
    "\n",
    "# events=[i for i in dir(cv2) if 'EVENT' in i]\n",
    "# print(events)\n",
    "#首先要创建图像，也就是一个画布\n",
    "img=np.zeros((512,512,3),np.uint8)\n",
    "#这里的shape是3个参数的，没搞懂，按理说是三维的数组\n",
    "#print(img)\n",
    "cv2.namedWindow('image')\n",
    "\n",
    "#定义双击的具体实现函数，用于后面与双击事件的绑定\n",
    "def draw_circle(event,x,y,flags,param):\n",
    "    if event==cv2.EVENT_LBUTTONDBLCLK:\n",
    "        cv2.circle(img,(x,y),100,(255,0,0),-1)\n",
    "cv2.setMouseCallback('image',draw_circle)\n",
    "\n",
    "while(True):\n",
    "    cv2.imshow('image',img)\n",
    "    if cv2.waitKey(20)==27:#模拟ESC按键\n",
    "        break\n",
    "\n",
    "cv2.destroyAllWindows()"
   ]
  },
  {
   "cell_type": "markdown",
   "metadata": {},
   "source": [
    "传入图片："
   ]
  },
  {
   "cell_type": "markdown",
   "metadata": {},
   "source": [
    "这个案例，我们要实现的功能是在拖动鼠标时绘制矩形或者圆圈。\n",
    "所以我们要设置两个过程，一个是画矩形，一个是画圆圈。"
   ]
  },
  {
   "cell_type": "code",
   "execution_count": null,
   "metadata": {},
   "outputs": [],
   "source": [
    "import cv2\n",
    "import numpy as np\n",
    "\n",
    "#表示是否可以进行绘制，当鼠标按下时为True\n",
    "drawing=False\n",
    "#绘制圆圈还是绘制矩形的控制变量，通过键盘m键来控制切换\n",
    "mode=True\n",
    "#ix,iy表示初始位置\n",
    "ix,iy=-1,-1\n",
    "\n",
    "\n",
    "img=np.zeros((512,512,3),np.uint8)\n",
    "cv2.namedWindow('image')\n",
    "\n",
    "def draw_cirlce(event,x,y,flags,param):\n",
    "    # 表示可以在函数中修改全局变量的值\n",
    "    global ix,iy,drawing,mode\n",
    "    #如果是左键单击\n",
    "    if event==cv2.EVENT_LBUTTONDOWN:\n",
    "        drawing=True\n",
    "        ix,iy=x,y\n",
    "    elif event==cv2.EVENT_MOUSEMOVE and flags==cv2.EVENT_FLAG_LBUTTON:\n",
    "        if drawing==True:\n",
    "            if mode==True:\n",
    "                cv2.rectangle(img,(ix,iy),(x,y),(0,255,0),-1)\n",
    "            else:\n",
    "                cv2.circle(img,(x,y),1,(0,0,255),-1)\n",
    "    #如果鼠标左键抬起，那么就停止绘图\n",
    "    elif event==cv2.EVENT_LBUTTONUP:\n",
    "        drawing=False\n",
    "    #如果没有这个判断，会出现一些错误\n",
    "    else:\n",
    "        return\n",
    "\n",
    "cv2.setMouseCallback('image',draw_cirlce)\n",
    "\n",
    "while(True):\n",
    "    cv2.imshow('image',img)\n",
    "    k=cv2.waitKey(1)\n",
    "    if k==ord('m'):\n",
    "        mode=not mode\n",
    "    elif k==27:\n",
    "        break"
   ]
  },
  {
   "cell_type": "markdown",
   "metadata": {},
   "source": [
    "传入图片"
   ]
  },
  {
   "cell_type": "markdown",
   "metadata": {},
   "source": [
    "通过实践，这个程序还存在一点问题\n",
    "1、矩形的实心的，图形会覆盖\n",
    "2、绘制圆圈时，如果鼠标移动速度不同，那么圆圈之间的距离也是在变化的。\n",
    "\n",
    "所以如何控制绘图频次或者程序接收光标坐标的频次。"
   ]
  }
 ],
 "metadata": {
  "kernelspec": {
   "display_name": "Python 3",
   "language": "python",
   "name": "python3"
  },
  "language_info": {
   "codemirror_mode": {
    "name": "ipython",
    "version": 3
   },
   "file_extension": ".py",
   "mimetype": "text/x-python",
   "name": "python",
   "nbconvert_exporter": "python",
   "pygments_lexer": "ipython3",
   "version": "3.5.2"
  }
 },
 "nbformat": 4,
 "nbformat_minor": 2
}
