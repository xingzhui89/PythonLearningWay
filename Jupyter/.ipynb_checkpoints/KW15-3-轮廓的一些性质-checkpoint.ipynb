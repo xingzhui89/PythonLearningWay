{
 "cells": [
  {
   "cell_type": "markdown",
   "metadata": {},
   "source": [
    "有了轮廓之后，我们经常需要提取一些对象特征。\n",
    "---下面代码中出现的cnt均表示之前得到的某个轮廓---\n",
    "\n",
    "1、长宽比\n",
    "    边界矩形的宽高比：Width/Height\n"
   ]
  },
  {
   "cell_type": "code",
   "execution_count": null,
   "metadata": {},
   "outputs": [],
   "source": [
    "import cv2 as cv\n",
    "import numpy as np\n",
    "x,y,w,h=cv.boundingRect(cnt)\n",
    "aspect_ratio=float(w)/h"
   ]
  },
  {
   "cell_type": "markdown",
   "metadata": {},
   "source": [
    "2、Exent\n",
    "    表示轮廓面积和边界矩形面积的比例。\n",
    "    ObjectArea/BoundingRectangleArea"
   ]
  },
  {
   "cell_type": "code",
   "execution_count": null,
   "metadata": {},
   "outputs": [],
   "source": [
    "area=cv.contourArea(cnt)\n",
    "x,y,w,h=cv.boundingRect(cnt)\n",
    "rect_area=w*h\n",
    "extent=float(area)/rect_area"
   ]
  },
  {
   "cell_type": "markdown",
   "metadata": {},
   "source": [
    "3、Solidity\n",
    "    轮廓面积和凸包面积的比。\n",
    "    ContourArea/ConvexHullArea"
   ]
  },
  {
   "cell_type": "code",
   "execution_count": null,
   "metadata": {},
   "outputs": [],
   "source": [
    "area=cv.contourArea(cnt)\n",
    "hull=cv.convexHull(cnt)\n",
    "hull_area=cv.contourArea(hull)\n",
    "solidity=float(area)/hull_area"
   ]
  },
  {
   "cell_type": "markdown",
   "metadata": {},
   "source": [
    "4、Equivalent Diameter\n",
    "    与轮廓面积相等的圆形的直径"
   ]
  },
  {
   "cell_type": "code",
   "execution_count": null,
   "metadata": {},
   "outputs": [],
   "source": [
    "area=cv.contourArea(cnt)\n",
    "equi_diameter=np.sqrt(4*area/np.pi)"
   ]
  },
  {
   "cell_type": "markdown",
   "metadata": {},
   "source": [
    "5、方向\n",
    "    对象的方向，指的是对象指向的角度。\n",
    "    下面的方法还能给出长轴和短轴的长度。"
   ]
  },
  {
   "cell_type": "code",
   "execution_count": null,
   "metadata": {},
   "outputs": [],
   "source": [
    "(x,y),(MA,ma),angle=cv.fitEllipse(cnt)"
   ]
  },
  {
   "cell_type": "markdown",
   "metadata": {},
   "source": [
    "6、掩膜和像素点/Mask和PixelPoints\n",
    "    在某些情况下，我们可能需要获取构成对象的所有像素点。"
   ]
  },
  {
   "cell_type": "code",
   "execution_count": null,
   "metadata": {},
   "outputs": [],
   "source": [
    "mask=np.zeros(imgray.shape,np.uint8)\n",
    "cv.drawContours(mask,[cnt],0,255,-1)\n",
    "pixelpoints=np.transpose(np.nonzero(mask))\n",
    "#pixelpoints=cv.findNonZero(mask)"
   ]
  },
  {
   "cell_type": "markdown",
   "metadata": {},
   "source": [
    "上面采用了两种方法来实现。\n",
    "    Numpy给出的结果是(row,colum)格式的。\n",
    "    OpenCV给出的格式是(x,y)形式的。"
   ]
  },
  {
   "cell_type": "markdown",
   "metadata": {},
   "source": [
    "7、最大值和最小值及其位置\n",
    "    我们可以得到以下参数，通过使用mask图像。"
   ]
  },
  {
   "cell_type": "code",
   "execution_count": null,
   "metadata": {},
   "outputs": [],
   "source": [
    "min_val, max_val, min_loc, max_loc = cv.minMaxLoc(imgray,mask = mask)"
   ]
  },
  {
   "cell_type": "markdown",
   "metadata": {},
   "source": [
    "8、平均颜色及平均灰度\n",
    "    我们也可以使用相同的mask求一个对象的平均颜色或平均灰度。"
   ]
  },
  {
   "cell_type": "code",
   "execution_count": null,
   "metadata": {},
   "outputs": [],
   "source": [
    "mean_val=cv.mean(im,mask=mask)"
   ]
  },
  {
   "cell_type": "markdown",
   "metadata": {},
   "source": [
    "9、极点\n",
    "    一个图像中上下左右最边界上的点。"
   ]
  },
  {
   "cell_type": "code",
   "execution_count": null,
   "metadata": {},
   "outputs": [],
   "source": [
    "leftmost = tuple(cnt[cnt[:,:,0].argmin()][0])\n",
    "rightmost = tuple(cnt[cnt[:,:,0].argmax()][0])\n",
    "topmost = tuple(cnt[cnt[:,:,1].argmin()][0])\n",
    "bottommost = tuple(cnt[cnt[:,:,1].argmax()][0])"
   ]
  }
 ],
 "metadata": {
  "kernelspec": {
   "display_name": "Python 3",
   "language": "python",
   "name": "python3"
  },
  "language_info": {
   "codemirror_mode": {
    "name": "ipython",
    "version": 3
   },
   "file_extension": ".py",
   "mimetype": "text/x-python",
   "name": "python",
   "nbconvert_exporter": "python",
   "pygments_lexer": "ipython3",
   "version": "3.5.2"
  }
 },
 "nbformat": 4,
 "nbformat_minor": 2
}
