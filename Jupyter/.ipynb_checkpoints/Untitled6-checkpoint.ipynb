{
 "cells": [
  {
   "cell_type": "markdown",
   "metadata": {},
   "source": [
    "# 类的多态"
   ]
  },
  {
   "cell_type": "code",
   "execution_count": null,
   "metadata": {},
   "outputs": [],
   "source": [
    "'''\n",
    "多态的定义\n",
    "由不同的类实例化得到的对象，调用同一个方法，执行的逻辑不同。\n",
    "多态的概念指出了对象如何通过他们共同的属性和动作来操作及访问，而不需要考虑他们具体的类。\n",
    "\n",
    "在python中一切皆对象，不同的对象可以调用相同的方法。\n",
    "比如说del删除命令，可以作用于不同的变量，比如数字，字符，列表等。\n",
    "再比如，len()方法，可以用来计算字符串，列表，元组的长度，所以这些对象都可以调用len方法。\n",
    "\n",
    "在下面的实例中，我们定义了一个H2O类，这个类包含name和temperature属性，包含了turn_ice()方法。\n",
    "然后我们通过继承的方法，定义了Water、Ice和Steam类。\n",
    "这些子类中都没有具体的属性和方法实现。\n",
    "\n",
    "在分别初始化这几个子类之后，我们使这几个实例都调用turn_ice方法，是可以运行的。\n",
    "我们再来考虑一下，turn_ice函数中的self，表示的是H2O类，子类的实例之所以能够调用该函数，说明子类实例本质上还是H2O类的。\n",
    "'''\n",
    "\n"
   ]
  },
  {
   "cell_type": "code",
   "execution_count": null,
   "metadata": {},
   "outputs": [],
   "source": [
    "\n",
    "class H2O:\n",
    "    def __init__(self,name,temperature):\n",
    "        self.name=name\n",
    "        self.temperature=temperature\n",
    "    def turn_ice(self):\n",
    "        if self.temperature < 0:\n",
    "            print('[%s]温度太低结冰了' %self.name)\n",
    "        elif self.temperature > 0 and self.temperature < 100:\n",
    "            print('[%s]液化成水' %self.name)\n",
    "        elif self.temperature > 100:\n",
    "            print('[%s]温度太高变成了水蒸气' %self.name)\n",
    "    def aaaaaa(self):\n",
    "        pass\n",
    "\n",
    "class Water(H2O):\n",
    "    pass\n",
    "class Ice(H2O):\n",
    "    pass\n",
    "class Steam(H2O):\n",
    "    pass\n",
    "\n",
    "w1=Water('水',25)\n",
    "i1=Ice('冰',-20)\n",
    "s1=Steam('蒸汽',3000)\n",
    "\n",
    "w1.turn_ice()\n",
    "i1.turn_ice()\n",
    "s1.turn_ice()\n",
    "\n"
   ]
  },
  {
   "cell_type": "code",
   "execution_count": null,
   "metadata": {},
   "outputs": [],
   "source": [
    "'''\n",
    "我们再来考虑一下，如果不想通过每个实例来调用turn_ice()方法，可否定义一个函数，这个函数能够接收所有的子类实例，并且运行实例的方法。\n",
    "请看下面的例子。\n",
    "\n",
    "与上面的执行结果是完全相同的。\n",
    "这是动态语言和静态语言（例如Java）最大的差别之一。动态语言调用实例方法，不检查类型，只要方法存在，参数正确，就可以调用。\n",
    "'''\n"
   ]
  },
  {
   "cell_type": "code",
   "execution_count": null,
   "metadata": {},
   "outputs": [],
   "source": [
    "def func(obj):\n",
    "    obj.turn_ice()\n",
    "func(w1)\n",
    "func(i1)\n",
    "func(s1)"
   ]
  },
  {
   "cell_type": "markdown",
   "metadata": {},
   "source": [
    "# 类的封装"
   ]
  },
  {
   "cell_type": "code",
   "execution_count": null,
   "metadata": {},
   "outputs": [],
   "source": [
    "'''\n",
    "封装\n",
    "“封装”就是将抽象得到的数据和行为（或功能）相结合，形成一个有机的整体（即类）；\n",
    "封装的目的是增强安全性和简化编程，使用者不必了解具体的实现细节，而只是要通过外部接口，一特定的访问权限来使用类的成员。\n",
    "\n",
    "如何在类中实现封？就是是数据不能被外界访问，只能通过类中的方法。\n",
    "可以通过将数据私有化的方法，在初始化的时候在属性前面加上__符合，是两个下划线。\n",
    "\n",
    "在类内部，可以通过.__属性的方法来访问该属性，在类外面，即便实例化了，该实例也无法直接访问该属性。\n",
    "我们将不希望被外界直到的属性，以及给外界访问数据的接口都包含在一个类中，就简单的实现了封装的含义。\n",
    "\n",
    "'''\n",
    "\n"
   ]
  },
  {
   "cell_type": "code",
   "execution_count": null,
   "metadata": {},
   "outputs": [],
   "source": [
    "class Room:\n",
    "    def __init__(self,name,owner,width,length,high):\n",
    "        self.name=name\n",
    "        self.owner=owner\n",
    "        self.__width=width\n",
    "        self.__length=length\n",
    "        self.__high=high\n",
    "    def tell_area(self):\n",
    "        return self.__width * self.__length *self.__high\n",
    "    def tell_width(self):\n",
    "        return self.__width\n",
    "\n",
    "r1=Room('卫生间','alex',100,100,10000)\n",
    "\n",
    "#arear=r1.__width * r1.__length #这句代码会报错的\n",
    "print(r1.tell_area())"
   ]
  }
 ],
 "metadata": {
  "kernelspec": {
   "display_name": "Python 3",
   "language": "python",
   "name": "python3"
  },
  "language_info": {
   "codemirror_mode": {
    "name": "ipython",
    "version": 3
   },
   "file_extension": ".py",
   "mimetype": "text/x-python",
   "name": "python",
   "nbconvert_exporter": "python",
   "pygments_lexer": "ipython3",
   "version": "3.5.2"
  }
 },
 "nbformat": 4,
 "nbformat_minor": 2
}
