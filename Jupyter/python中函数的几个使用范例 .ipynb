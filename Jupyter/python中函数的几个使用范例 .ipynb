{
 "cells": [
  {
   "cell_type": "code",
   "execution_count": null,
   "metadata": {},
   "outputs": [],
   "source": []
  },
  {
   "cell_type": "code",
   "execution_count": null,
   "metadata": {},
   "outputs": [],
   "source": [
    "# 第一个测试\n",
    "def func(start,end,a=0,b=0):\n",
    "    if start == end:\n",
    "        return a,b\n",
    "    if start%3 == 0 and end%7 == 0:\n",
    "        a +=1\n",
    "        b += start\n",
    "    ret = func(start+1,end,a,b)\n",
    "    return ret#虽然是return，但是仍然会继续运行这个函数，直到return a,b为止。所以也算是一个递归。\n",
    "ret = func(1,7)\n",
    "print(ret)"
   ]
  },
  {
   "cell_type": "code",
   "execution_count": null,
   "metadata": {},
   "outputs": [],
   "source": [
    "# 第二个测试\n",
    "def func(arg):\n",
    "   arg.append(55)#没有返回内容，只是一个操作过程。\n",
    "li = [11, 22, 33, 44]\n",
    "func(li)\n",
    "print(li)\n",
    "li = func(li)\n",
    "print(li)"
   ]
  },
  {
   "cell_type": "code",
   "execution_count": null,
   "metadata": {},
   "outputs": [],
   "source": [
    "#第三个测试\n",
    "def func():\n",
    "   name = \"seven\"\n",
    "   def outer():\n",
    "       name = \"eric\"\n",
    "       def inner():\n",
    "           global name\n",
    "           name = \"蒙逼了吧...\"\n",
    "       print(name)\n",
    "   print(name)\n",
    "ret = func()#打印的竟然是seven,因为outer()函数并没有被运行"
   ]
  },
  {
   "cell_type": "code",
   "execution_count": null,
   "metadata": {},
   "outputs": [],
   "source": [
    "name = \"root\"\n",
    "def func():\n",
    "   name = \"seven\"\n",
    "\n",
    "   def outer():\n",
    "       name = \"eric\"\n",
    "       def inner():\n",
    "           global name\n",
    "           name = \"蒙逼了吧...\"\n",
    "       print(name)\n",
    "   o = outer()#这样，才会运行outer内部的代码\n",
    "   print(o)\n",
    "   print(name)\n",
    "\n",
    "ret = func()\n",
    "print(ret)\n",
    "print(name)"
   ]
  },
  {
   "cell_type": "code",
   "execution_count": null,
   "metadata": {},
   "outputs": [],
   "source": [
    "name = \"root\"\n",
    "def func():\n",
    "   name = \"seven\"\n",
    "   def outer():\n",
    "       name = \"eric\"\n",
    "       def inner():\n",
    "               global name\n",
    "               name = \"...\"\n",
    "       print(name)\n",
    "       inner()\n",
    "   o = outer()\n",
    "   print(o)\n",
    "   print(name)\n",
    "\n",
    "ret = func()\n",
    "print(ret)\n",
    "print(name)"
   ]
  },
  {
   "cell_type": "code",
   "execution_count": null,
   "metadata": {},
   "outputs": [],
   "source": [
    "name = \"root\"\n",
    "def func():\n",
    "    name = \"seven\"\n",
    "    def outer():\n",
    "        name = \"eric\"\n",
    "        def inner():\n",
    "            nonlocal name\n",
    "            name = \"蒙逼了吧...\"\n",
    "            print(name)\n",
    "        inner()\n",
    "    o = outer()\n",
    "    print(o)\n",
    "    print(name)\n",
    "\n",
    "ret = func()\n",
    "print(ret)\n",
    "print(name)"
   ]
  },
  {
   "cell_type": "code",
   "execution_count": null,
   "metadata": {},
   "outputs": [],
   "source": [
    "#第四个测试\n",
    "# n*(n-1)*....1\n",
    "\n",
    "def f(n):\n",
    "    if n==1:\n",
    "        return 1\n",
    "    return n*f(n-1)  #8*f(7)    7*f(6)  6*f(5).....  3*2    2*1\n",
    "print(f(8))#这就是递归\n"
   ]
  },
  {
   "cell_type": "code",
   "execution_count": null,
   "metadata": {},
   "outputs": [],
   "source": [
    "#第五个测试\n",
    "def func(x, y=0):\n",
    "    y += 1#x=1,y=1\n",
    "    if y == 5:\n",
    "        return x + y\n",
    "    x += y#x=2,y=1\n",
    "    func(x, y)#并没有跳入这个函数中，直接执行了下面的代码返回x\n",
    "    x += y\n",
    "    return x\n",
    "num = 1\n",
    "result = func(num)\n",
    "print(result)\n"
   ]
  },
  {
   "cell_type": "code",
   "execution_count": null,
   "metadata": {},
   "outputs": [],
   "source": []
  }
 ],
 "metadata": {
  "kernelspec": {
   "display_name": "Python 3",
   "language": "python",
   "name": "python3"
  },
  "language_info": {
   "codemirror_mode": {
    "name": "ipython",
    "version": 3
   },
   "file_extension": ".py",
   "mimetype": "text/x-python",
   "name": "python",
   "nbconvert_exporter": "python",
   "pygments_lexer": "ipython3",
   "version": "3.5.2"
  }
 },
 "nbformat": 4,
 "nbformat_minor": 2
}
