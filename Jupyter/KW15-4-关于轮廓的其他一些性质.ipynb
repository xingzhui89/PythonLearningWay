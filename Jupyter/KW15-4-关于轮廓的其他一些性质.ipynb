{
 "cells": [
  {
   "cell_type": "markdown",
   "metadata": {},
   "source": [
    "关于轮廓的其他一些函数，包括：\n",
    "1、凸缺陷，以及如何寻找凸缺陷；\n",
    "2、找某一点到一个多边形的最短距离\n",
    "3、不同形状的匹配"
   ]
  },
  {
   "cell_type": "markdown",
   "metadata": {},
   "source": [
    "# 凸缺陷\n",
    "前面讲过，对象上的任何凹陷都被称为凸缺陷。\n",
    "OpenCV中的convexityDefect()函数可以帮助我们找到凸缺陷\n",
    "该函数会返回一个数组，每一行包含的值为[起点，终点，最远的点，到最远点的近似距离]。\n",
    "我们可以在一张图上显示它。我们将起点和终点连接起来，然后在最远点画一个圆弧。\n",
    "请记住，前三个数值返回的是轮廓点的索引，还需要在轮廓点中确认。"
   ]
  },
  {
   "cell_type": "markdown",
   "metadata": {},
   "source": [
    "#hull=cv2.convexHull(cnt,returnPoints=False)\n",
    "#defects=cv2.convexityDefects(cnt,hull)\n",
    "如果要查找凸缺陷，在使用convexHull寻找凸包时，returnPoints参数要设为False。\n",
    "下面我们还是以之前的星星图片为例，介绍一下代码。"
   ]
  },
  {
   "cell_type": "code",
   "execution_count": null,
   "metadata": {},
   "outputs": [],
   "source": [
    "img=cv2.imread('pic/star.jpg')\n",
    "img_gray=cv2.cvtColor(img,cv2.COLOR_BGR2GRAY)\n",
    "ret,thresh=cv2.threshold(img_gray,127,255,0)\n",
    "'''\n",
    "Traceback (most recent call last):\n",
    "  File \"D:/Python Mat/codes/simplecode/OpenCV/21-4-1-关于轮廓的更多函数.py\", line 26, in <module>\n",
    "    contours,hierarchy=cv2.findContours(thresh,2,1)\n",
    "ValueError: too many values to unpack (expected 2)\n",
    "'''\n",
    "_,contours,hierarchy=cv2.findContours(thresh,2,1)\n",
    "cnt=contours[0]\n",
    "\n",
    "hull=cv2.convexHull(cnt,returnPoints=False)\n",
    "defects=cv2.convexityDefects(cnt,hull)\n",
    "\n",
    "for i in range(defects.shape[0]):\n",
    "    s,e,f,d=defects[i,0]\n",
    "    start=tuple(cnt[s][0])\n",
    "    end=tuple(cnt[e][0])\n",
    "    far=tuple(cnt[f][0])\n",
    "    cv2.line(img,start,end,[0,255,0],2)\n",
    "    cv2.circle(img,far,5,[0,0,255],-1)\n",
    "\n",
    "cv2.imshow('img',img)\n",
    "cv2.waitKey(0)\n",
    "cv2.destroyAllWindows()\n",
    "#此处可以插入结果图片21-4-1"
   ]
  },
  {
   "cell_type": "markdown",
   "metadata": {},
   "source": [
    "# Point Polygon Test\n",
    "该方法表示求解图像中的一个点到一个对象轮廓的最短距离。\n",
    "如果点在轮廓的外部，返回值为负；\n",
    "如果在点在轮廓上，返回值为0；\n",
    "如果点在轮廓内部，返回值为正。"
   ]
  },
  {
   "cell_type": "code",
   "execution_count": null,
   "metadata": {},
   "outputs": [],
   "source": [
    "dist=cv2.pointPolygonTest(cnt,(50,50),True)"
   ]
  },
  {
   "cell_type": "markdown",
   "metadata": {},
   "source": [
    "第三个参数是measureDist，如果设置为True，表示计算最短距离。\n",
    "如果设置为False，只会判断这个点和轮廓之间的位置关系。\n",
    "如果我们不需要知道具体距离，那么设置为False可以提高2-3倍计算速度。"
   ]
  },
  {
   "cell_type": "markdown",
   "metadata": {},
   "source": [
    "# 形状匹配\n",
    "matchShape()方法可以帮助我们比较两个形状或轮廓的相似度。\n",
    "如果返回值越小，匹配越好。\n",
    "原理是根据Hu矩来计算的。\n",
    "我们看一个具体的比较案例："
   ]
  },
  {
   "cell_type": "code",
   "execution_count": null,
   "metadata": {},
   "outputs": [],
   "source": [
    "import cv2\n",
    "import numpy as np\n",
    "\n",
    "img1=cv2.imread('pic/star.jpg',0)\n",
    "img2=cv2.imread('pic/star2.jpg',0)\n",
    "\n",
    "ret,thresh=cv2.threshold(img1,127,255,0)\n",
    "ret,thresh2=cv2.threshold(img2,127,255,0)\n",
    "\n",
    "_,contours,hierarchy=cv2.findContours(thresh,2,1)\n",
    "cnt1=contours[0]\n",
    "\n",
    "_,contours,hierarchy=cv2.findContours(thresh2,2,1)\n",
    "cnt2=contours[0]\n",
    "\n",
    "ret=cv2.matchShapes(cnt1,cnt2,1,0.0)\n",
    "#0.00451512584549435,相似度并不低哦，0表示相似度最高，数值越小相似度越高。\n",
    "\n",
    "print(ret)\n",
    "\n",
    "# cv2.imshow('img1',img1)\n",
    "# cv2.imshow('img2',img2)\n",
    "# cv2.imshow('ret',ret)\n",
    "# cv2.waitKey(0)\n",
    "# cv2.destroyAllWindows()\n",
    "#插入图片21-4-2"
   ]
  },
  {
   "cell_type": "markdown",
   "metadata": {},
   "source": [
    "这里要说明的是，Hu矩是归一化中心矩的线性组合，之所以这样就是为了能够获取\n",
    "代表图像的某个特征的矩函数。这些矩函数对于某些变化，如缩放，旋转，镜像映射具有不变形的特点。"
   ]
  },
  {
   "cell_type": "code",
   "execution_count": null,
   "metadata": {},
   "outputs": [],
   "source": []
  },
  {
   "cell_type": "code",
   "execution_count": null,
   "metadata": {},
   "outputs": [],
   "source": []
  }
 ],
 "metadata": {
  "kernelspec": {
   "display_name": "Python 3",
   "language": "python",
   "name": "python3"
  },
  "language_info": {
   "codemirror_mode": {
    "name": "ipython",
    "version": 3
   },
   "file_extension": ".py",
   "mimetype": "text/x-python",
   "name": "python",
   "nbconvert_exporter": "python",
   "pygments_lexer": "ipython3",
   "version": "3.5.2"
  }
 },
 "nbformat": 4,
 "nbformat_minor": 2
}
