{
 "cells": [
  {
   "cell_type": "code",
   "execution_count": null,
   "metadata": {},
   "outputs": [],
   "source": [
    "'''\n",
    "类的组合\n",
    "如果我们定义的两个对象之间具有很强的相关性，那么我们可以将两个类组合起来，实现比较复杂的表达。\n",
    "比如一个学校类，具有name和addr两个属性；一个课程类，具有name，price，period和school四个属性。\n",
    "其中课程类的school属性，就完全可以用一个学校类的实例对象来表示，而不用单独再定义一个名称或者一个字典来表示school的内容。\n",
    "我们看代码来分析：\n",
    "'''\n"
   ]
  },
  {
   "cell_type": "code",
   "execution_count": null,
   "metadata": {},
   "outputs": [],
   "source": [
    "class School:\n",
    "    def __init__(self,name,addr):\n",
    "        self.name=name\n",
    "        self.addr=addr\n",
    "    def zhao_sheng(self):\n",
    "        print('%s 正在招生' %self.name)\n",
    "\n",
    "class Course:\n",
    "    def __init__(self,name,price,period,school):\n",
    "        self.name=name\n",
    "        self.price=price\n",
    "        self.period=period\n",
    "        self.school=school\n",
    "\n",
    "s1=School('oldboy','北京')\n",
    "s1.zhao_sheng()\n",
    "s2=School('oldboy','南京')\n",
    "s3=School('oldboy','东京')\n",
    "\n",
    "msg='''\n",
    "1 老男孩 北京校区\n",
    "2 老男孩 南京校区\n",
    "3 老男孩 东京校区\n",
    "'''\n",
    "while True:\n",
    "    print(msg)\n",
    "    menu={\n",
    "        '1':s1,\n",
    "        '2':s2,\n",
    "        '3':s3\n",
    "    }\n",
    "    choice=input('选择学校>>: ')\n",
    "    school_obj=menu[choice]\n",
    "    name=input('课程名>>： ')\n",
    "    price=input('课程费用>>： ')\n",
    "    period=input('课程周期>>： ')\n",
    "    new_course=Course(name,price,period,school_obj)\n",
    "    print('课程【%s】属于【%s】学校' %(new_course.name,new_course.school.name))"
   ]
  },
  {
   "cell_type": "code",
   "execution_count": null,
   "metadata": {},
   "outputs": [],
   "source": [
    "'''\n",
    "类的继承\n",
    "我们定义了一个类之后，如果想要在这个类上进行扩展，或者引申出更多的对象类，那么就可以利用继承的方法。\n",
    "被继承的类一般成为父类，继承的类成为子类。\n",
    "值得注意的是:\n",
    "如果子类中没有定义任何内容，那么只能继承父类的属性，而不能继承父类的方法。\n",
    "或者说，在子类中能找到父类的方法，但是不能调用。\n",
    "\n",
    "所以我们在定义一个子类的时候，一般需要重写父类中的属性和方法，以实现子类的独特性。\n",
    "当父类中的属性或者方法在子类中被重写时，子类的实例化对象调用该属性或方法时，调用的是子类中的实现。\n",
    "如果父类中还有属性或者方法没有被子类重写，那么子类的实例化对象仍然可以调用父类中的这些属性或方法。\n",
    "\n",
    "下面这个例子，我们定义了一个Dad类，定义了Son类。并且把Dad类中的money属性和hti_son方法重写了。\n",
    "但是父类中的gender和show()没有被重写。\n",
    "\n"
   ]
  },
  {
   "cell_type": "code",
   "execution_count": null,
   "metadata": {},
   "outputs": [],
   "source": [
    "\n",
    "class Dad:\n",
    "    money=10\n",
    "    gender='Male'\n",
    "    def __init__(self,name):\n",
    "        print('爸爸')\n",
    "        self.name=name\n",
    "    def hit_son(self):\n",
    "        print('%s 正在打儿子' %self.name)\n",
    "    def show(self):\n",
    "        print('父类要表现一下！')\n",
    "class Son(Dad):\n",
    "    money = 1000000000009\n",
    "    def __init__(self,name,age):\n",
    "        self.name=name\n",
    "        self.age=age\n",
    "    def hit_son(self):\n",
    "        print('来自儿子类')\n",
    "\n",
    "s1=Son('alex',18)\n",
    "s1.hit_son()\n",
    "print(s1.money)\n",
    "s1.show()\n",
    "print(s1.gender)\n",
    "#Son.show()这样会出错。\n",
    "'''这是运行结果\n",
    "来自儿子类\n",
    "1000000000009\n",
    "父类要表现一下！\n",
    "Male\n",
    "'''\n"
   ]
  },
  {
   "cell_type": "code",
   "execution_count": null,
   "metadata": {},
   "outputs": [],
   "source": [
    "\n",
    "'''\n",
    "1、当类之间有显著不同，并且较小的类是较大的类所需要的组件时，用组合比较好\n",
    "2、当类之间有很多相同的功能，提取这些共同的功能做成父类或者基类，用继承来实现比较好。\n",
    "\n",
    "'''"
   ]
  }
 ],
 "metadata": {
  "kernelspec": {
   "display_name": "Python 3",
   "language": "python",
   "name": "python3"
  },
  "language_info": {
   "codemirror_mode": {
    "name": "ipython",
    "version": 3
   },
   "file_extension": ".py",
   "mimetype": "text/x-python",
   "name": "python",
   "nbconvert_exporter": "python",
   "pygments_lexer": "ipython3",
   "version": "3.5.2"
  }
 },
 "nbformat": 4,
 "nbformat_minor": 2
}
