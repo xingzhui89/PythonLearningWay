{
 "cells": [
  {
   "cell_type": "markdown",
   "metadata": {},
   "source": [
    "简单的介绍一下如何计算和绘制2D直方图。\n",
    "\n",
    "前面我们绘制的都是一维直方图，因为我们只考虑了图像的一个特征：灰度值。\n",
    "但是在2D直方图中，我们要考虑两个图像特征，颜色和饱和度。根据这两个特征绘制2D直方图。\n",
    "\n",
    "1、在OpenCV中，使用函数calcHist()来计算直方图简单方便。\n",
    "如果要绘制颜色直方图的画，需要将图像的颜色空间从BGR转换到HSV。\n",
    "函数参数也要做一些修改：\n",
    "    channels=[0,1]，同时处理H和S两个通道。\n",
    "    bins=[180,256]，H通道为180，S通道为256.\n",
    "    range=[0,180,0,256]，H的取值范围和S的取值范围。"
   ]
  },
  {
   "cell_type": "code",
   "execution_count": null,
   "metadata": {},
   "outputs": [],
   "source": [
    "import cv2\n",
    "import numpy as np\n",
    "\n",
    "img=cv2.imread('pic/messi.jpg')\n",
    "hsv=cv2.cvtColor(img,cv2.COLOR_BGR2HSV)\n",
    "\n",
    "hist=cv2.calcHist([hsv],[0,1],None,[180,256],[0,180,0,256])\n",
    "\n",
    "cv2.imwrite('pic/22-3-1.jpg',hist)\n",
    "cv2.imshow('hist',hist)\n",
    "cv2.waitKey(0)\n",
    "cv2.destroyAllWindows()\n",
    "#插入图片22-3-1"
   ]
  },
  {
   "cell_type": "markdown",
   "metadata": {},
   "source": [
    "2、Numpy中的2D直方图函数，np.histogram2d()。\n",
    "请参看下面的代码。\n",
    "第一个参数时H通道，第二个参数是S通道，第三个参数是bins的数目，第四个参数是数值范围。"
   ]
  },
  {
   "cell_type": "code",
   "execution_count": null,
   "metadata": {},
   "outputs": [],
   "source": [
    "import matplotlib.pyplot as plt\n",
    "img=cv2.imread('pic/messi.jpg')\n",
    "hsv=cv2.cvtColor(img,cv2.COLOR_BGR2HSV)\n",
    "h,s=np.indices(hsv.shape[:2])\n",
    "hist,xbins,ybins=np.histogram2d(h.ravel(),s.ravel(),[180,256],[[0,180],[0,256]])"
   ]
  },
  {
   "cell_type": "markdown",
   "metadata": {},
   "source": [
    "2、如何将2D直方图绘制出来\n",
    "    只用cv2.imshow()方法得到的是一个180X256的量为数组。但是这个图是灰度图。\n",
    "    出入我们知道不同颜色H通道的值，否则我们不知道那到底代表什么颜色。\n",
    "    \n",
    "    使用matplotlib中的imshow()方法来绘制2D直方图，再配合不同的颜色图。\n",
    "    这样我们会对每个点所代表的数值大小有一个更直观的认识。\n",
    "    比较简单好看，但是我们还是不知道数字代表的颜色是什么。"
   ]
  },
  {
   "cell_type": "code",
   "execution_count": null,
   "metadata": {},
   "outputs": [],
   "source": [
    "img=cv2.imread('pic/messi.jpg')\n",
    "hsv=cv2.cvtColor(img,cv2.COLOR_BGR2HSV)\n",
    "hist=cv2.calcHist([hsv],[0,1],None,[180,256],[0,180,0,256])\n",
    "# cv2.imwrite('pic/22-3-2.jpg',hist)\n",
    "plt.imshow(hist,interpolation='nearest')\n",
    "plt.show()"
   ]
  },
  {
   "cell_type": "markdown",
   "metadata": {},
   "source": [
    "    上面的图中，X轴显示S值，Y轴显示H值。\n",
    "    \n",
    "3、OpenCV风格的案例\n",
    "    在官方文档中有一个关于颜色直方图的例子。\n",
    "    我们看一下代码。可以实现颜色直方图显示对应的颜色。"
   ]
  },
  {
   "cell_type": "code",
   "execution_count": null,
   "metadata": {},
   "outputs": [],
   "source": [
    "import numpy as np\n",
    "import cv2\n",
    "\n",
    "if __name__=='__main__':\n",
    "    hsv_map=np.zeros((180,256,3),np.uint8)\n",
    "    h,s=np.indices(hsv_map.shape[:2])\n",
    "    hsv_map[:,:,0]=h\n",
    "    hsv_map[:,:,1]=s\n",
    "    hsv_map[:,:2]=255\n",
    "    hsv_map=cv2.cvtColor(hsv_map,cv2.COLOR_HSV2BGR)\n",
    "    cv2.imshow('hsv_map',hsv_map)\n",
    "\n",
    "    cv2.namedWindow('hist',0)\n",
    "    hist_scale=10\n",
    "    def set_scale(val):\n",
    "        global hist_scale\n",
    "        hist_scale=val\n",
    "    cv2.createTrackbar('scale','hist',hist_scale,32,set_scale)\n",
    "    cam=cv2.VideoCapture(0)\n",
    "    while(cam.isOpened()):\n",
    "        ret,frame=cam.read()\n",
    "        cv2.imshow('camera',frame)\n",
    "        small=cv2.pyrDown(frame)\n",
    "        hsv=cv2.cvtColor(frame,cv2.COLOR_BGR2HSV)\n",
    "        dark=hsv[:,:,2]<32\n",
    "        hsv[dark]=0\n",
    "        h=cv2.calcHist([hsv],[0,1],None,[180,256],[0,180,0,256])\n",
    "        h=np.clip(h*0.005*hist_scale,0,1)\n",
    "        vis=hsv_map*h[:,:,np.newaxis]/255.0\n",
    "        cv2.imshow('hist',vis)\n",
    "\n",
    "        ch=cv2.waitKey(1)\n",
    "        if ch==27:\n",
    "            break\n",
    "    cv2.destroyAllWindows()"
   ]
  },
  {
   "cell_type": "code",
   "execution_count": null,
   "metadata": {},
   "outputs": [],
   "source": []
  },
  {
   "cell_type": "code",
   "execution_count": null,
   "metadata": {},
   "outputs": [],
   "source": []
  },
  {
   "cell_type": "code",
   "execution_count": null,
   "metadata": {},
   "outputs": [],
   "source": []
  }
 ],
 "metadata": {
  "kernelspec": {
   "display_name": "Python 3",
   "language": "python",
   "name": "python3"
  },
  "language_info": {
   "codemirror_mode": {
    "name": "ipython",
    "version": 3
   },
   "file_extension": ".py",
   "mimetype": "text/x-python",
   "name": "python",
   "nbconvert_exporter": "python",
   "pygments_lexer": "ipython3",
   "version": "3.5.2"
  }
 },
 "nbformat": 4,
 "nbformat_minor": 2
}
