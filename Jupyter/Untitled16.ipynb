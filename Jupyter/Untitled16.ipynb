{
 "cells": [
  {
   "cell_type": "markdown",
   "metadata": {},
   "source": [
    "如果对图像进行各种几何变换，比如移动，旋转，仿射变换等。\n",
    "主要涉及的函数中cv2.getPerspectiveTransform\n",
    "\n",
    "OpenCV中提供了两个变换函数，cv2.warpAffine和cv2.warpPerspective。\n",
    "warpAffine接收的参数是2x3的变换矩阵\n",
    "warpPerspective接收的参数是3x3的变换矩阵"
   ]
  },
  {
   "cell_type": "markdown",
   "metadata": {},
   "source": [
    "# 扩展缩放，只改变图像的尺寸大小。\n",
    "OpenCV提供的函数cv2.resize()可以实现这个功能。\n",
    "def resize(src, dsize, dst=None, fx=None, fy=None, interpolation=None):\n",
    "通过手动设置图像的尺寸，或者指定缩放因子。\n",
    "这里还需要设置插值方法，在缩小时使用cv2.INTER_AREA\n",
    "在扩大时使用cv2.INTER_CUBIC和cv2.INTER_LINEAR。\n",
    "举个例子"
   ]
  },
  {
   "cell_type": "code",
   "execution_count": null,
   "metadata": {},
   "outputs": [],
   "source": [
    "import cv2 as cv\n",
    "import numpy as np\n",
    "import matplotlib.pyplot as plt\n",
    "\n",
    "img=cv.imread('pic/mongodb.jpg')\n",
    "#这是通过设置缩放系数来实现\n",
    "res=cv.resize(img,None,None,fx=2,fy=2,interpolation=cv.INTER_CUBIC)\n",
    "\n",
    "#这是通过直接设置图像尺寸来控制大小\n",
    "height,width=img.shape[:2]\n",
    "#res=cv.resize(img,(2*width,2*height),interpolation=cv.INTER_CUBIC)\n",
    "\n",
    "plt.subplot(121),plt.imshow(img),plt.title('Input'),plt.xticks([0,1000]),plt.yticks([0,200])\n",
    "plt.subplot(122),plt.imshow(res),plt.title('Output'),plt.xticks([0,1000]),plt.yticks([0,200])\n",
    "plt.show()"
   ]
  },
  {
   "cell_type": "markdown",
   "metadata": {},
   "source": [
    "插入效果图14-1"
   ]
  },
  {
   "cell_type": "markdown",
   "metadata": {},
   "source": [
    "# 平移就是将对象换一个位置。\n",
    "如果要沿(x,y)方向平移，移动的距离是(tx,ty)，那么构建的移动矩阵位：\n",
    "M=[[1,0,tx],\n",
    "   [0,1,ty]]\n",
    "我们可以通过Numpy来构建这个矩阵，然后传递给cv2.warpAffine()。\n",
    "举个实例"
   ]
  },
  {
   "cell_type": "code",
   "execution_count": null,
   "metadata": {},
   "outputs": [],
   "source": [
    "import numpy as np\n",
    "import cv2 as cv\n",
    "import matplotlib.pyplot as plt\n",
    "\n",
    "img = cv.imread('pic/mongodb.jpg',0)\n",
    "rows,cols = img.shape\n",
    "\n",
    "'''\n",
    "#def warpAffine(src, M, dsize, dst=None, flags=None, borderMode=None, borderValue=None):\n",
    "'''\n",
    "M = np.float32([[1,0,100],[0,1,50]])\n",
    "dst = cv.warpAffine(img,M,(cols,rows))\n",
    "\n",
    "plt.subplot(121),plt.imshow(img),plt.title('Input'),plt.xticks([0,1000]),plt.yticks([0,200])\n",
    "plt.subplot(122),plt.imshow(dst),plt.title('Output'),plt.xticks([0,1000]),plt.yticks([0,200])\n",
    "plt.show()"
   ]
  },
  {
   "cell_type": "markdown",
   "metadata": {},
   "source": [
    "插入效果图14-2"
   ]
  },
  {
   "cell_type": "markdown",
   "metadata": {},
   "source": [
    "# 旋转\n",
    "对一个图像旋转角度θ，需要用到下面的旋转矩阵\n",
    "M=[[cosθ,-sinθ],\n",
    "   [sinθ,cosθ]]\n",
    "OpenCV允许在任意地方进行旋转,但是旋转矩阵的形式应该修改成一个比较复杂的格式:\n",
    "这里就不展开介绍了.\n",
    "我们可以利用函数cv2.getRotationMatrix2D来构建这个矩阵。\n",
    "举个实例："
   ]
  },
  {
   "cell_type": "code",
   "execution_count": null,
   "metadata": {},
   "outputs": [],
   "source": [
    "import cv2 as cv\n",
    "import numpy as np\n",
    "import matplotlib.pyplot as plt\n",
    "\n",
    "img=cv.imread('pic/mongodb.jpg',0)\n",
    "rows,cols=img.shape\n",
    "\n",
    "M=cv.getRotationMatrix2D((cols/2,rows/2),45,0.6)\n",
    "\n",
    "dst=cv.warpAffine(img,M,(2*cols,2*rows))\n",
    "# while(1):\n",
    "#     cv.imshow('img',dst)\n",
    "#     if cv.waitKey(1)==27:\n",
    "#         break\n",
    "# cv.destroyAllWindows()\n",
    "plt.subplot(121),plt.imshow(img),plt.title('Input'),plt.xticks([]),plt.yticks([])\n",
    "plt.subplot(122),plt.imshow(dst),plt.title('Output'),plt.xticks([]),plt.yticks([])\n",
    "plt.show()"
   ]
  },
  {
   "cell_type": "markdown",
   "metadata": {},
   "source": [
    "插入效果图14-3"
   ]
  },
  {
   "cell_type": "markdown",
   "metadata": {},
   "source": [
    "# 仿射变换\n",
    "在仿射变换中，原图中所有的平行线在结果图像中同样平行。\n",
    "为了创建这个矩阵，我们需要从原图中找到三个点以及他们在输出图像中的位置。\n",
    "然后cv2.getAffineTransform会创建一个2x3的矩阵，最后这个矩阵传递给\n",
    "cv2.warpAffine函数。"
   ]
  },
  {
   "cell_type": "code",
   "execution_count": null,
   "metadata": {},
   "outputs": [],
   "source": [
    "import cv2 as cv\n",
    "import numpy as np\n",
    "import matplotlib.pyplot as plt\n",
    "\n",
    "img=cv.imread('pic/affine.jpg')\n",
    "rows,cols,chs=img.shape\n",
    "\n",
    "pts1=np.float32([[50,50],[200,50],[50,200]])\n",
    "pts2=np.float32([[10,100],[200,50],[100,250]])\n",
    "\n",
    "M=cv.getAffineTransform(pts1,pts2)\n",
    "dst=cv.warpAffine(img,M,(cols,rows))\n",
    "\n",
    "plt.subplot(121),plt.imshow(img),plt.title('Input')\n",
    "plt.subplot(122),plt.imshow(dst),plt.title('Output')\n",
    "plt.show()"
   ]
  },
  {
   "cell_type": "markdown",
   "metadata": {},
   "source": [
    "插入效果图14-4"
   ]
  },
  {
   "cell_type": "markdown",
   "metadata": {},
   "source": [
    "# 透视变换\n",
    "对于视角变换，我们需要3x3的矩阵，变换前后不改变直线。\n",
    "要构建这个变换矩阵，需要在输入图像上找到4个点，以及他们在输出图上的位置。\n",
    "这四个点中的任意三点都不能共线。\n",
    "同样的，我们可以利用cv2.getPerspectiveTransform()构建变换矩阵。\n",
    "然后传递给cv2.warpPerspective\n",
    "看个实例："
   ]
  },
  {
   "cell_type": "code",
   "execution_count": null,
   "metadata": {},
   "outputs": [],
   "source": [
    "import cv2 as cv\n",
    "import numpy as np\n",
    "import matplotlib.pyplot as plt\n",
    "\n",
    "img=cv.imread('pic/perspective.jpg')\n",
    "rows,cols,chs=img.shape\n",
    "\n",
    "pts1=np.float32([[56,65],[368,52],[28,387],[389,390]])\n",
    "pts2=np.float32([[0,0],[300,0],[0,300],[300,300]])\n",
    "\n",
    "M=cv.getPerspectiveTransform(pts1,pts2)\n",
    "\n",
    "dst=cv.warpPerspective(img,M,(300,300))\n",
    "\n",
    "plt.subplot(122),plt.imshow(img),plt.title('Input')\n",
    "plt.subplot(121),plt.imshow(dst),plt.title('Output')\n",
    "plt.show()"
   ]
  },
  {
   "cell_type": "markdown",
   "metadata": {},
   "source": [
    "插入效果图14-5"
   ]
  }
 ],
 "metadata": {
  "kernelspec": {
   "display_name": "Python 3",
   "language": "python",
   "name": "python3"
  },
  "language_info": {
   "codemirror_mode": {
    "name": "ipython",
    "version": 3
   },
   "file_extension": ".py",
   "mimetype": "text/x-python",
   "name": "python",
   "nbconvert_exporter": "python",
   "pygments_lexer": "ipython3",
   "version": "3.5.2"
  }
 },
 "nbformat": 4,
 "nbformat_minor": 2
}
