{
 "cells": [
  {
   "cell_type": "markdown",
   "metadata": {},
   "source": [
    "# 图像金字塔\n",
    "一般情况，我们要处理一副具有固定分辨率的图像。\n",
    "但是有些情况，我们需要对同一图像的不同分辨率的子图像进行处理。\n",
    "比如我们要在某个图像中查找某个目标，比如一张脸，但是我们不知道目标在图像中的尺寸大小。\n",
    "这时候我们需要创建一组图片，具有不同的分辨率，然后在所有的图片中搜索目标。\n",
    "这些具有不同分辨率的图像被成为图像金字塔Image Pyramids。\n",
    "其中高层的图片具有较低的分辨率，底层的图片具有较高的分辨率。\n",
    "\n",
    "一般我们使用两种图像金字塔，高斯金字塔和拉普拉斯金字塔。\n",
    "\n",
    "高斯金字塔的原理：\n",
    "    高层图片是通过将底部图像中的连续的行和列去除而得到的。\n",
    "    高层图片中的每个像素值等于下一层图像中的5个像素的高斯加权平均值。\n",
    "    这样操作一次，一张MxN大小的图像，就会变成一个M/2xN/2的图像，面积变为原来的1/4.\n",
    "    连续操作就可以得到分辨率不断下降的图像金字塔。\n",
    "    函数pyrDown()从一个高分辨率大尺寸的图像向上构建一个金字塔。\n",
    "    函数pyrUp()，从一个低分辨率小尺寸的图像向下构建一个金字塔。\n",
    "\n",
    "这里的up还有down指的是分辨率上的改变。"
   ]
  },
  {
   "cell_type": "code",
   "execution_count": null,
   "metadata": {},
   "outputs": [],
   "source": [
    "import cv2\n",
    "import matplotlib.pyplot as plt\n",
    "\n",
    "img=cv2.imread('pic/messi.jpg')\n",
    "lower_reso=cv2.pyrDown(img)\n",
    "higher_reso2 = cv2.pyrUp(lower_reso)\n",
    "plt.subplot(131),plt.imshow(img),plt.title('IMG')\n",
    "plt.subplot(132),plt.imshow(lower_reso),plt.title('LOWER_RESO')\n",
    "plt.subplot(133),plt.imshow(higher_reso2),plt.title('higher_reso2')\n",
    "plt.show()\n",
    "#插入图片20-1"
   ]
  },
  {
   "cell_type": "markdown",
   "metadata": {},
   "source": [
    "但是将图片的分辨率降低之后，会丢失很多信息，再通过pyrUp方法提升分辨率，得到的也不是原来的图片。\n",
    "\n",
    "拉普拉斯金字塔可以由高斯金字塔计算而来。\n",
    "其图像看起来像是边界图，大部分元素都是0.常被用来图像压缩。\n",
    "通过求解高斯金字塔某一层与其低一层的图像的差subtract来获取。"
   ]
  },
  {
   "cell_type": "markdown",
   "metadata": {},
   "source": [
    "# 图像金字塔主要应用于图像融合。\n",
    "例如，在图像缝合中，需要将两幅图像叠加在一起，但是由于链接区域图像像素的不连续性，整幅图像的效果会很差。\n",
    "我们通过一个实例来展示如何无缝融合两个图像。\n",
    "我们要实现将一个苹果和一个橘子融合到一起。\n",
    "具体步骤如下：\n",
    "1、读取两幅图像，苹果和橘子\n",
    "2、构建苹果和橘子的高斯金字塔，6层。\n",
    "3、根据高斯金字塔计算拉普拉斯金字塔。\n",
    "4、在拉普拉斯的每一层进行图像融合。\n",
    "5、根据融合后的图像金字塔重建原始图像。"
   ]
  },
  {
   "cell_type": "code",
   "execution_count": null,
   "metadata": {},
   "outputs": [],
   "source": [
    "import cv2 as cv\n",
    "import numpy as np\n",
    "import matplotlib.pyplot as plt\n",
    "\n",
    "#读入两张图片\n",
    "A=cv.imread('pic/apple.jpg')\n",
    "A=cv.cvtColor(A,cv.COLOR_BGR2RGB)\n",
    "B=cv.imread('pic/orange.jpg')\n",
    "B=cv.cvtColor(B,cv.COLOR_BGR2RGB)\n",
    "\n",
    "\n",
    "#print(dir(A))\n",
    "G=A.copy()#copy命令并没有直接弹出来，不知道是那个类的方法.但是通过dir命令，真的发现由copy方法。\n",
    "gpA=[G]#gpA用于存储A的高斯金字塔图像\n",
    "for i in range(6):#连续六次使用高斯金字塔运算\n",
    "    G=cv.pyrDown(G)#使分辨率下降\n",
    "    gpA.append(G)\n",
    "print('gpA中含有 %d 个元素'% len(gpA))\n",
    "\n",
    "G=B.copy()\n",
    "gpB=[G]\n",
    "for i in range(6):#0,1,2,3,4,5\n",
    "    G=cv.pyrDown(G)\n",
    "    gpB.append(G)\n",
    "print('gpB中含有 %d 个元素'% len(gpB))\n",
    "\n",
    "lpA=[gpA[5]]\n",
    "for i in range(5,0,-1):#5,4,3,2,1\n",
    "    GE=cv.pyrUp(gpA[i])#尺寸上与gpA[i-1]是相同的，但是内容肯定有缺失\n",
    "    #print(GE.shape)\n",
    "    #print(gpA[i-1].shape)\n",
    "    L=cv.subtract(gpA[i-1],GE)#这句话是求拉普拉斯图像的方法。\n",
    "####很重要的一点，两张图片的像素数要保持一致，并且应该是2的6次方的倍数，否则会出现错误。\n",
    "    lpA.append(L)\n",
    "\n",
    "lpB=[gpB[5]]\n",
    "for i in range(5,0,-1):#5,4,3,2,1\n",
    "    GE=cv.pyrUp(gpB[i])\n",
    "    L=cv.subtract(gpB[i-1],GE)\n",
    "    lpB.append(L)\n",
    "\n",
    "LS=[]\n",
    "for la,lb in zip(lpA,lpB):\n",
    "    rows,cols,dpt=la.shape\n",
    "    print('rows:{0},cols:{1},dpt:{2}'.format(rows,cols,dpt))\n",
    "    x=int(cols/2)\n",
    "    ls=np.hstack((la[:,0:x],lb[:,x:]))\n",
    "    LS.append(ls)\n",
    "\n",
    "ls_=LS[0]\n",
    "for i in range(1,6):\n",
    "    ls_=cv.pyrUp(ls_)\n",
    "    ls_=cv.add(ls_,LS[i])\n",
    "\n",
    "arow,acols,ach=A.shape\n",
    "a=int(acols/2)\n",
    "real=np.hstack((A[:,:a],B[:,a:]))\n",
    "\n",
    "plt.subplot(121),plt.imshow(ls_),plt.title('Pyramid_blending')\n",
    "plt.subplot(122),plt.imshow(real),plt.title('Direct_blending')\n",
    "plt.show()\n"
   ]
  },
  {
   "cell_type": "markdown",
   "metadata": {},
   "source": [
    "插图图片两个"
   ]
  },
  {
   "cell_type": "code",
   "execution_count": null,
   "metadata": {},
   "outputs": [],
   "source": []
  },
  {
   "cell_type": "code",
   "execution_count": null,
   "metadata": {},
   "outputs": [],
   "source": []
  }
 ],
 "metadata": {
  "kernelspec": {
   "display_name": "Python 3",
   "language": "python",
   "name": "python3"
  },
  "language_info": {
   "codemirror_mode": {
    "name": "ipython",
    "version": 3
   },
   "file_extension": ".py",
   "mimetype": "text/x-python",
   "name": "python",
   "nbconvert_exporter": "python",
   "pygments_lexer": "ipython3",
   "version": "3.5.2"
  }
 },
 "nbformat": 4,
 "nbformat_minor": 2
}
