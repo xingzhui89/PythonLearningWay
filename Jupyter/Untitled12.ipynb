{
 "cells": [
  {
   "cell_type": "markdown",
   "metadata": {},
   "source": [
    "本例介绍如何讲滑动条绑定到opencv的窗口\n",
    "def getTrackbarPos(trackbarname, winname)\n",
    "def createTrackbar(trackbarName, windowName, value, count, onChange)\n",
    "函数的一个参数是滑动条的名字，\n",
    "第二个参数是滑动条被放置窗口的名字，\n",
    "第三个参数是滑动条的默认位置。\n",
    "第四个参数是滑动条的最大值，\n",
    "第五个函数是回调函数，每次滑动条的滑动都会调用回调函数。回调函数通常都会含有一个默认参数，就是滑动条的位置。"
   ]
  },
  {
   "cell_type": "code",
   "execution_count": null,
   "metadata": {},
   "outputs": [],
   "source": [
    "import cv2\n",
    "import numpy as np\n",
    "\n",
    "#这里我们不定义操作，简单一些\n",
    "def nothing(x):\n",
    "    pass\n",
    "\n",
    "img=np.zeros((300,512,3),np.uint8)\n",
    "cv2.namedWindow('image')\n",
    "\n",
    "cv2.createTrackbar('R','image',0,255,nothing)\n",
    "cv2.createTrackbar('G','image',0,255,nothing)\n",
    "cv2.createTrackbar('B','image',0,255,nothing)\n",
    "\n",
    "switch='0:OFF\\n1:ON'\n",
    "cv2.createTrackbar(switch,'image',0,1,nothing)\n",
    "\n",
    "while(True):\n",
    "    cv2.imshow('image',img)\n",
    "    k=cv2.waitKey(1)\n",
    "    if k==27:\n",
    "        break\n",
    "    #通过getTrackbarPos获取指定的值\n",
    "    r=cv2.getTrackbarPos('R','image')\n",
    "    g = cv2.getTrackbarPos('G', 'image')\n",
    "    b = cv2.getTrackbarPos('B', 'image')\n",
    "    s = cv2.getTrackbarPos(switch, 'image')\n",
    "\n",
    "    if s==0:\n",
    "        img[:]=0\n",
    "    else:\n",
    "        #这句代码的含义是，img中的每个像素点都定义成[b,g,r]\n",
    "        img[:]=[b,g,r]\n",
    "\n",
    "cv2.destroyAllWindows()"
   ]
  }
 ],
 "metadata": {
  "kernelspec": {
   "display_name": "Python 3",
   "language": "python",
   "name": "python3"
  },
  "language_info": {
   "codemirror_mode": {
    "name": "ipython",
    "version": 3
   },
   "file_extension": ".py",
   "mimetype": "text/x-python",
   "name": "python",
   "nbconvert_exporter": "python",
   "pygments_lexer": "ipython3",
   "version": "3.5.2"
  }
 },
 "nbformat": 4,
 "nbformat_minor": 2
}
