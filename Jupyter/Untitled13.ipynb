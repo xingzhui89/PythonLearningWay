{
 "cells": [
  {
   "cell_type": "markdown",
   "metadata": {},
   "source": [
    "我们的目标是：\n",
    "1、获取像素值并修改\n",
    "2、获取图像的属性和信息\n",
    "3、图像的ROI()\n",
    "4、图像通道的拆分及合并\n",
    "这些操作都需要用到Numpy，因为涉及到矩阵操作，比使用纯python代码要高效很多。"
   ]
  },
  {
   "cell_type": "code",
   "execution_count": 5,
   "metadata": {},
   "outputs": [
    {
     "name": "stdout",
     "output_type": "stream",
     "text": [
      "(450, 600, 3)\n",
      "[255 255 255]\n",
      "255\n",
      "100\n",
      "176\n",
      "30\n"
     ]
    }
   ],
   "source": [
    "import cv2\n",
    "import numpy as np\n",
    "\n",
    "img=cv2.imread('D:/Python Mat/codes/simplecode/OpenCV/pic/mongodb.jpg')\n",
    "#这是为了获取img的大小\n",
    "print(np.shape(img))#(450, 600, 3)\n",
    "#如果是img的两维定位的是像素点，\n",
    "px=img[100,100]\n",
    "print(px)#[255 255 255]\n",
    "white=img[100,100,0]#第三个维度就是rgb中的颜色\n",
    "print(white)#255\n",
    "\n",
    "#矩阵操作，把x和y方向上的前100个像素点都设置同一个颜色\n",
    "img[:100,:100]=[100,176,30]\n",
    "print(img[50,50,0])#b\n",
    "print(img[50,50,1])#g\n",
    "print(img[50,50,2])#r"
   ]
  },
  {
   "cell_type": "markdown",
   "metadata": {},
   "source": [
    "上面提到的方法被用来选取矩阵的一个区域，比如说前 5 行的后 3\n",
    "列。对于获取每一个像素值，也许使用 Numpy 的 array.item() 和 array.itemset() 会更好。但是返回值是标量。如果你想获得所有 B， G， R 的\n",
    "值，你需要使用 array.item() 分割他们。"
   ]
  },
  {
   "cell_type": "code",
   "execution_count": 6,
   "metadata": {},
   "outputs": [
    {
     "name": "stdout",
     "output_type": "stream",
     "text": [
      "30\n"
     ]
    }
   ],
   "source": [
    "print(img.item(10,10,2))\n",
    "img.itemset((10,10,2),100)"
   ]
  },
  {
   "cell_type": "markdown",
   "metadata": {},
   "source": [
    "img.shape 可以获取图像的形状。他的返回值是一个包含行数，列数，通道数的元组。\n",
    "img.size 可以返回图像的像素数目\n",
    "img.dtype 返回的是图像的数据类型"
   ]
  },
  {
   "cell_type": "code",
   "execution_count": 7,
   "metadata": {},
   "outputs": [
    {
     "name": "stdout",
     "output_type": "stream",
     "text": [
      "(450, 600, 3)\n",
      "810000\n",
      "uint8\n"
     ]
    }
   ],
   "source": [
    "print(img.shape)\n",
    "print(img.size)\n",
    "print(img.dtype)"
   ]
  },
  {
   "cell_type": "markdown",
   "metadata": {},
   "source": [
    "下面的操作会将前面一个区域中的图像，复制到后面一个区域"
   ]
  },
  {
   "cell_type": "code",
   "execution_count": 8,
   "metadata": {},
   "outputs": [],
   "source": [
    "leaf=img[150:300,0:100]\n",
    "img[150:300,100:200]=leaf"
   ]
  },
  {
   "cell_type": "markdown",
   "metadata": {},
   "source": [
    "如果你想在图像周围创建一个边，就像相框一样，你可以使用 cv2.copyMakeBorder()\n",
    "函数。这经常在卷积运算或 0 填充时被用到。\n",
    "这个函数的参数包括：\n",
    "• src 输入图像\n",
    "• top, bottom, left, right 对应边界的像素数目。\n",
    "• borderType 要添加那种类型的边界\n",
    "    - cv2.BORDER_CONSTANT 添加有颜色的常数值边界，还需要\n",
    "    下一个参数（values）。\n",
    "    – cv2.BORDER_REFLECT 边界元素的镜像。比如: fedcba|abcdefgh|hgfedcb\n",
    "    – cv2.BORDER_REFLECT_101 or cv2.BORDER_DEFAULT\n",
    "    跟上面一样，但稍作改动。例如: gfedcb|abcdefgh|gfedcba\n",
    "    – cv2.BORDER_REPLICATE 重复最后一个元素。"
   ]
  },
  {
   "cell_type": "code",
   "execution_count": null,
   "metadata": {},
   "outputs": [],
   "source": [
    "img=cv2.copyMakeBorder(img,50,50,50,50,borderType=cv2.BORDER_REFLECT)\n",
    "\n",
    "cv2.imshow('image',img)\n",
    "cv2.waitKey(0)\n",
    "cv2.destroyAllWindows()"
   ]
  },
  {
   "cell_type": "markdown",
   "metadata": {},
   "source": [
    "OpenCV中是按照BGR排列\n",
    "Matplotlib中按照RGB排列通道"
   ]
  }
 ],
 "metadata": {
  "kernelspec": {
   "display_name": "Python 3",
   "language": "python",
   "name": "python3"
  },
  "language_info": {
   "codemirror_mode": {
    "name": "ipython",
    "version": 3
   },
   "file_extension": ".py",
   "mimetype": "text/x-python",
   "name": "python",
   "nbconvert_exporter": "python",
   "pygments_lexer": "ipython3",
   "version": "3.5.2"
  }
 },
 "nbformat": 4,
 "nbformat_minor": 2
}
