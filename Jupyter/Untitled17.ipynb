{
 "cells": [
  {
   "cell_type": "markdown",
   "metadata": {},
   "source": [
    "本节的目标是学习简单阈值，自适应阈值和Otsu's二值化等\n",
    "主要利用的函数为cv2.threshold,cv2.adaptiveThreshold"
   ]
  },
  {
   "cell_type": "markdown",
   "metadata": {},
   "source": [
    "# 第一种，简单阈值\n",
    "当像素值高于阈值是，我们就给这个像素赋予一个新值，否则就赋予另外一只颜色。\n",
    "这个函数就是cv2.threshold()。\n",
    "def threshold(src, thresh, maxval, type, dst=None):\n",
    "    .   @param src input array (multiple-channel, 8-bit or 32-bit floating point).\n",
    "    .   @param dst output array of the same size  and type and the same number of channels as src.\n",
    "    .   @param thresh threshold value.\n",
    "    .   @param maxval maximum value to use with the THRESH_BINARY and THRESH_BINARY_INV thresholding types.\n",
    "    .   @param type thresholding type (see the cv::ThresholdTypes).\n",
    "举个例子，将一副黑白渐变的图片，按简单阈值进行变换，生成不同风格的图片。"
   ]
  },
  {
   "cell_type": "code",
   "execution_count": null,
   "metadata": {},
   "outputs": [],
   "source": [
    "import cv2 as cv\n",
    "import numpy as np\n",
    "import matplotlib.pyplot as plt\n",
    "\n",
    "img=cv.imread('pic/whiteblack.jpg',0)\n",
    "ret,thresh1=cv.threshold(img,127,255,cv.THRESH_BINARY)\n",
    "ret,thresh2=cv.threshold(img,127,255,cv.THRESH_BINARY_INV)\n",
    "ret,thresh3=cv.threshold(img,127,255,cv.THRESH_TRUNC)\n",
    "ret,thresh4=cv.threshold(img,127,255,cv.THRESH_TOZERO)\n",
    "ret,thresh5=cv.threshold(img,127,255,cv.THRESH_TOZERO_INV)\n",
    "\n",
    "titles=['Original Image','BINARY','BINARY_INV','TRUNC','TOZERO','TOZERO_INV']\n",
    "\n",
    "images=[img,thresh1,thresh2,thresh3,thresh4,thresh5]\n",
    "\n",
    "for i in range(6):\n",
    "    plt.subplot(2,3,i+1),plt.imshow(images[i],'gray')\n",
    "    plt.title(titles[i])\n",
    "    plt.xticks([]),plt.yticks([])\n",
    "plt.show()\n"
   ]
  },
  {
   "cell_type": "markdown",
   "metadata": {},
   "source": [
    "插入图片15-1"
   ]
  },
  {
   "cell_type": "markdown",
   "metadata": {},
   "source": [
    "# 第二种，自适应阈值\n",
    "在上面一个例子中，我们使用的是全局阈值，使用同一个数对整幅图像进行整理。\n",
    "但是这种方法并不适应所有的情况，尤其是当同一幅图像上的不同部分具有不同亮度时。\n",
    "自适应阈值，会根据图像上的每一个小区域计算与其对应的阈值，在不同的区域采用不同的阈值。\n",
    "def adaptiveThreshold(src, maxValue, adaptiveMethod, thresholdType, blockSize, C, dst=None)\n",
    "    .   @param blockSize Size of a pixel neighborhood that is used to calculate a threshold value for the pixel: 3, 5, 7, and so on.\n",
    "    .   @param C Constant subtracted from the mean or weighted mean (see the details below). Normally, it is positive but may be zero or negative as well.\n",
    "我们来看一个例子，就能明白与全局阈值的不同之处。"
   ]
  },
  {
   "cell_type": "code",
   "execution_count": null,
   "metadata": {},
   "outputs": [],
   "source": [
    "import cv2 as cv\n",
    "import numpy as np\n",
    "import matplotlib.pyplot as plt\n",
    "\n",
    "img=cv.imread('pic/dave.jpg',0)\n",
    "#这句代码用于过滤图片中的噪点\n",
    "img=cv.medianBlur(img,5)\n",
    "\n",
    "ret,th1=cv.threshold(img,127,255,cv.THRESH_BINARY)\n",
    "\n",
    "th2=cv.adaptiveThreshold(img,255,cv.ADAPTIVE_THRESH_MEAN_C,cv.THRESH_BINARY,11,2)\n",
    "th3=cv.adaptiveThreshold(img,255,cv.ADAPTIVE_THRESH_GAUSSIAN_C,cv.THRESH_BINARY,11,2)\n",
    "\n",
    "titles=['Original Image','Global Thresholding(v=127)','Adaptive Mean Thresholding','Adaptive Gaussian Thresholding']\n",
    "\n",
    "images=[img,th1,th2,th3]\n",
    "\n",
    "for i in range(4):\n",
    "    #subplot(nrows, ncols, plot_number)，如何控制图片排列\n",
    "    plt.subplot(2,2,i+1),plt.imshow(images[i],'gray')\n",
    "    plt.title(titles[i])\n",
    "    plt.xticks([]),plt.yticks([])\n",
    "plt.show()"
   ]
  },
  {
   "cell_type": "markdown",
   "metadata": {},
   "source": [
    "插入图片15-2"
   ]
  },
  {
   "cell_type": "markdown",
   "metadata": {},
   "source": [
    "第三种方法，Otsu's二值化\n",
    "在使用全局阈值的时候，我们随便给定了一个数来做阈值，那么如何知道这个数的好坏呢？\n",
    "对于计算机来说，就是不停的尝试。\n",
    "一般用于双峰对象，简单来说，就是在直方图中存在两个峰值。\n",
    "虽然还是使用cv2.threshold()函数，但是需要传入一个cv2.THRESH_OTSU参数，我们把阈值设为0。\n",
    "然后算法会自动计算最优解，然后返回一个retVal。\n"
   ]
  },
  {
   "cell_type": "code",
   "execution_count": null,
   "metadata": {},
   "outputs": [],
   "source": [
    "import cv2 as cv\n",
    "import numpy as np\n",
    "import matplotlib.pyplot as plt\n",
    "\n",
    "img=cv.imread('pic/noisy.jpg',0)\n",
    "ret1,th1=cv.threshold(img,127,255,cv.THRESH_BINARY)\n",
    "\n",
    "ret2,th2=cv.threshold(img,0,255,cv.THRESH_BINARY+cv.THRESH_OTSU)\n",
    "\n",
    "blur=cv.GaussianBlur(img,(5,5),0)\n",
    "ret3,th3=cv.threshold(blur,2,255,cv.THRESH_BINARY+cv.THRESH_OTSU)\n",
    "\n",
    "images = [img, 0, th1,\n",
    "          img, 0, th2,\n",
    "          blur, 0, th3]\n",
    "titles = ['Original Noisy Image','Histogram','Global Thresholding (v=127)',\n",
    "          'Original Noisy Image','Histogram',\"Otsu's Thresholding\",\n",
    "          'Gaussian filtered Image','Histogram',\"Otsu's Thresholding\"]\n",
    "\n",
    "for i in range(3):\n",
    "    plt.subplot(3,3,i*3+1),plt.imshow(images[i*3],'gray')\n",
    "    plt.title(titles[i*3]), plt.xticks([]), plt.yticks([])\n",
    "    plt.subplot(3,3,i*3+2),plt.hist(images[i*3].ravel(),256)\n",
    "    plt.title(titles[i*3+1]), plt.xticks([]), plt.yticks([])\n",
    "    plt.subplot(3,3,i*3+3),plt.imshow(images[i*3+2],'gray')\n",
    "    plt.title(titles[i*3+2]), plt.xticks([]), plt.yticks([])\n",
    "plt.show()"
   ]
  },
  {
   "cell_type": "markdown",
   "metadata": {},
   "source": [
    "插入图片15-3"
   ]
  },
  {
   "cell_type": "code",
   "execution_count": null,
   "metadata": {},
   "outputs": [],
   "source": []
  }
 ],
 "metadata": {
  "kernelspec": {
   "display_name": "Python 3",
   "language": "python",
   "name": "python3"
  },
  "language_info": {
   "codemirror_mode": {
    "name": "ipython",
    "version": 3
   },
   "file_extension": ".py",
   "mimetype": "text/x-python",
   "name": "python",
   "nbconvert_exporter": "python",
   "pygments_lexer": "ipython3",
   "version": "3.5.2"
  }
 },
 "nbformat": 4,
 "nbformat_minor": 2
}
