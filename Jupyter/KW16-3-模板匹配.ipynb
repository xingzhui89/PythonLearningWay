{
 "cells": [
  {
   "cell_type": "markdown",
   "metadata": {},
   "source": [
    "1、模板匹配的原理\n",
    "    模板匹配用来在一副大图中搜寻查找模板图像位置的方法。\n",
    "    OpenCV提供了函数：matchTemplate()。\n",
    "    和2D卷积一样，也是用模板图像在输入图像上滑动，并在每一个位置对模板图像和与其对应的输入图像的子区域进行比较。\n",
    "    返回的结果是一个灰度图像，每一个像素值表示此区域与模板的匹配程度。\n",
    "    如果输入图像的大小是WxH,模板的大小是wxh，输出结果为(W-w+1,H-h+1)。\n",
    "    得到结果后，就使用函数minMaxLoc()来获取其中最大值和最小值的位置。"
   ]
  },
  {
   "cell_type": "markdown",
   "metadata": {},
   "source": [
    "2、OpenCV中的模板匹配\n",
    "    我们还是以梅西的头像为例，先做一个模板出来，只包含他的头部。。。\n",
    "    然后我们尝试不同的比较方法。\n",
    "    请看代码："
   ]
  },
  {
   "cell_type": "code",
   "execution_count": null,
   "metadata": {},
   "outputs": [],
   "source": []
  },
  {
   "cell_type": "code",
   "execution_count": null,
   "metadata": {},
   "outputs": [],
   "source": []
  },
  {
   "cell_type": "code",
   "execution_count": null,
   "metadata": {},
   "outputs": [],
   "source": []
  },
  {
   "cell_type": "code",
   "execution_count": null,
   "metadata": {},
   "outputs": [],
   "source": []
  },
  {
   "cell_type": "code",
   "execution_count": null,
   "metadata": {},
   "outputs": [],
   "source": []
  },
  {
   "cell_type": "code",
   "execution_count": null,
   "metadata": {},
   "outputs": [],
   "source": []
  }
 ],
 "metadata": {
  "kernelspec": {
   "display_name": "Python 3",
   "language": "python",
   "name": "python3"
  },
  "language_info": {
   "codemirror_mode": {
    "name": "ipython",
    "version": 3
   },
   "file_extension": ".py",
   "mimetype": "text/x-python",
   "name": "python",
   "nbconvert_exporter": "python",
   "pygments_lexer": "ipython3",
   "version": "3.5.2"
  }
 },
 "nbformat": 4,
 "nbformat_minor": 2
}
