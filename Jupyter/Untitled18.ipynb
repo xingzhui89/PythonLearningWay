{
 "cells": [
  {
   "cell_type": "markdown",
   "metadata": {},
   "source": [
    "图像平滑\n",
    "通过学习不同的低通滤波器，对图像进行模糊\n",
    "使用自定义的滤波器对图像进行卷积（2D卷积）"
   ]
  },
  {
   "cell_type": "markdown",
   "metadata": {},
   "source": [
    "# 2D卷积，图像过滤\n",
    "与一维信号一样，可以对2D图像实施低通滤波LPF，高通滤波HPF等。\n",
    "LPF帮助我们去除噪音，模糊图像。\n",
    "HPF帮助我们找到图像中的边界。\n",
    "OpenCV提供了filter2D()函数，让我们对一副图像进行卷积操作。\n",
    "def filter2D(src, ddepth, kernel, dst=None, anchor=None, delta=None, borderType=None):\n",
    "    .   @param src input image.\n",
    "    .   @param dst output image of the same size and the same number of channels as src.\n",
    "    .   @param ddepth desired depth of the destination image, see @ref filter_depths \"combinations\"\n",
    "    .   @param kernel convolution kernel (or rather a correlation kernel), a single-channel floating point\n",
    "    .   matrix; if you want to apply different kernels to different channels, split the image into\n",
    "    .   separate color planes using split and process them individually.\n",
    "    .   @param anchor anchor of the kernel that indicates the relative position of a filtered point within\n",
    "    .   the kernel; the anchor should lie within the kernel; default value (-1,-1) means that the anchor\n",
    "    .   is at the kernel center.\n",
    "    .   @param delta optional value added to the filtered pixels before storing them in dst.\n",
    "    .   @param borderType pixel extrapolation method, see cv::BorderTypes\n",
    "下面举个例子，对一副图像使用平均滤波器。比如使用一个10x10的平均滤波器核。\n",
    "操作方法：将核放在图像的一个像素A上，求与核对应的图像上100个像素的和，再取平均数。\n",
    "用这个平均数替代A的值。\n",
    "重复以上操作，直到将图像的每一个像素值都更新一遍。\n",
    "看具体的代码实现："
   ]
  },
  {
   "cell_type": "code",
   "execution_count": null,
   "metadata": {},
   "outputs": [],
   "source": [
    "import cv2 as cv\n",
    "import numpy as np\n",
    "import matplotlib.pyplot as plt\n",
    "\n",
    "img=cv.imread('pic/OpenCVlogo.jpg')\n",
    "kernel=np.ones((10,10),np.float32)/100\n",
    "\n",
    "#when ddepth=-1, the output image will have the same depth as the source\n",
    "dst=cv.filter2D(img,-1,kernel)\n",
    "\n",
    "plt.subplot(121),plt.imshow(img),plt.title('Original')\n",
    "plt.xticks([]), plt.yticks([])\n",
    "plt.subplot(122),plt.imshow(dst),plt.title('Averaging')\n",
    "plt.xticks([]), plt.yticks([])\n",
    "plt.show()\n"
   ]
  },
  {
   "cell_type": "markdown",
   "metadata": {},
   "source": [
    "使用低通滤波器可以达到图像模糊的目的，就是去除图像中的高频成分，有时候边界也会被模糊一点。\n",
    "OpenCV中提供了四种模糊技术\n",
    "1、平均\n",
    "    由归一化卷积框来实现。用卷积框覆盖区域所有像素的平均值来代替中心元素。\n",
    "    可以使用blur()和boxFilter()函数来完成这个任务。\n",
    "    我们需要做的就是设定卷积框的宽和高，比如3x3的归一化卷积框。\n",
    "    def blur(src, ksize, dst=None, anchor=None, borderType=None):\n",
    "    .   @param ksize blurring kernel size.\n",
    "    如果不想使用归一化卷积框，可以用boxFilter()，需要传入参数normalize=False来实现。\n",
    "    第一部分的那个例子还可以这么来写："
   ]
  },
  {
   "cell_type": "code",
   "execution_count": null,
   "metadata": {},
   "outputs": [],
   "source": [
    "\n",
    "import cv2 as cv\n",
    "import numpy as np\n",
    "import matplotlib.pyplot as plt\n",
    "\n",
    "img=cv.imread('pic/OpenCVlogo.jpg')\n",
    "blur = cv.blur(img, (9, 9))#这里可以尝试，数字越大，图像越模糊。\n",
    "plt.subplot(121),plt.imshow(img),plt.title('Original')\n",
    "plt.xticks([]), plt.yticks([])\n",
    "plt.subplot(122),plt.imshow(blur),plt.title('Blurred')\n",
    "plt.xticks([]), plt.yticks([])\n",
    "plt.show()"
   ]
  },
  {
   "cell_type": "markdown",
   "metadata": {},
   "source": [
    "插入图片16-1"
   ]
  },
  {
   "cell_type": "markdown",
   "metadata": {},
   "source": [
    "# 2、高斯模糊\n",
    "把卷积核换成高斯核，也就是方框不变，但是将原来每个方框的值变成是符合高斯分布的。\n",
    "方框中心的值最大，其余方框根据距离中心元素的距离递减，构成一个高斯小山包。\n",
    "原来求平均数，现在变成求加权平均数。\n",
    "通过GaussianBlur()来实现。我们需要指定高斯核的宽和高，必须是奇数。\n",
    "以及沿X，Y方向的标准差，如果设置为0，那么函数会自己进行计算。"
   ]
  },
  {
   "cell_type": "code",
   "execution_count": null,
   "metadata": {},
   "outputs": [],
   "source": [
    "blur=cv.GaussianBlur(img,(5,5),0)"
   ]
  },
  {
   "cell_type": "markdown",
   "metadata": {},
   "source": [
    "# 3、中值模糊\n",
    "用于卷积框对应像素的中值来替代中心像素的值。\n",
    "卷积核的大小应该设置为奇数。"
   ]
  },
  {
   "cell_type": "code",
   "execution_count": null,
   "metadata": {},
   "outputs": [],
   "source": [
    "median=cv.medianBlur(img,5)"
   ]
  },
  {
   "cell_type": "markdown",
   "metadata": {},
   "source": [
    "# 4、双边滤波\n",
    "在保持边界清晰的情况下有效的去除噪音。\n",
    "但是效率比较慢。\n",
    "双边滤波在同时使用空间高斯权重和灰度值相似性高斯权重。\n",
    "空间高斯函数确保只有临近区域的像素对中心点有影响。\n",
    "灰度相似性高斯函数确保只有与中心像素灰度值相近的才会被用来做模糊运算。"
   ]
  },
  {
   "cell_type": "code",
   "execution_count": null,
   "metadata": {},
   "outputs": [],
   "source": [
    "blur=cv.bilateralFilter(img,9,75,75)"
   ]
  }
 ],
 "metadata": {
  "kernelspec": {
   "display_name": "Python 3",
   "language": "python",
   "name": "python3"
  },
  "language_info": {
   "codemirror_mode": {
    "name": "ipython",
    "version": 3
   },
   "file_extension": ".py",
   "mimetype": "text/x-python",
   "name": "python",
   "nbconvert_exporter": "python",
   "pygments_lexer": "ipython3",
   "version": "3.5.2"
  }
 },
 "nbformat": 4,
 "nbformat_minor": 2
}
