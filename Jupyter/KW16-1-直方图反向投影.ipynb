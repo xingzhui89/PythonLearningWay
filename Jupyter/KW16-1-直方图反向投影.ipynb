{
 "cells": [
  {
   "cell_type": "markdown",
   "metadata": {},
   "source": [
    "直方图反向投影可以用来做图像分割，或者在图像中寻找我们感兴趣的部分。\n",
    "也就是说，它会输出与输入图像同样大小的图像，其中的每一个像素值代表输入图像上对应点属于目标图像的概率。\n",
    "如何实现这个算法呢？\n",
    "\n",
    "1、原理\n",
    "    首先我们要为包含目标的图像创建直方图。\n",
    "    我们要查找的对象要尽量占满这张图像。最好使用颜色直方图。\n",
    "    然后我们把这个颜色直方图投影到输入图像中寻找我们的目标，\n",
    "    也就是找到输入图像中的每一个像素点的像素值在直方图对应的概率。\n",
    "    这样就得到一张概率图像，最后设置适当的阈值对概率图象进行二值化。\n",
    "\n",
    "2、Numpy中的算法\n",
    "    首先要创建两幅颜色直方图，目标图像的直方图M，输入图像的直方图I。"
   ]
  },
  {
   "cell_type": "code",
   "execution_count": null,
   "metadata": {},
   "outputs": [],
   "source": [
    "import cv2\n",
    "import numpy as np\n",
    "from matplotlib import pyplot as plt\n",
    "\n",
    "roi=cv2.imread('pic/messi_grass.jpg')\n",
    "hsv=cv2.cvtColor(roi,cv2.COLOR_BGR2HSV)\n",
    "\n",
    "target=cv2.imread('pic/messi.jpg')\n",
    "hsvt=cv2.cvtColor(target,cv2.COLOR_BGR2HSV)\n",
    "\n",
    "# M=cv2.calcHist([hsv],[0,1],None,[180,256],[0,180,0,256])\n",
    "# I=cv2.calcHist([hsvt],[0,1],None,[180,256],[0,180,0,256])"
   ]
  },
  {
   "cell_type": "markdown",
   "metadata": {},
   "source": [
    "然后计算比值R=M/I。\n",
    "反向投影R就是根据R这个调色板创建一副新的图像，其中的每一个像素代表这个点就是目标的概率。\n",
    "请看代码："
   ]
  },
  {
   "cell_type": "code",
   "execution_count": null,
   "metadata": {},
   "outputs": [],
   "source": [
    "R=M/I\n",
    "h,s,v=cv2.split(hsvt)\n",
    "B=R[h.ravel(),s.ravel()]\n",
    "B=np.minimum(B,1)\n",
    "B=B.reshape(hsvt.shape[:2])\n",
    "\n",
    "disc=cv2.getStructuringElement(cv2.MORPH_ELLIPSE,(5,5))\n",
    "B=cv2.filter2D(B,-1,disc)\n",
    "B=np.uint8(B)\n",
    "cv2.normalize(B,B,0,255,cv2.NORM_MINMAX)\n",
    "\n",
    "ret,thresh=cv2.threshold(B,50,255,0)\n",
    "\n",
    "cv2.imwrite('pic/22-4-1.jpg',thresh)\n",
    "cv2.imshow('result',thresh)\n",
    "cv2.waitKey(0)\n",
    "cv2.destroyAllWindows()\n",
    "#此处插入图像，22-4-1"
   ]
  },
  {
   "cell_type": "markdown",
   "metadata": {},
   "source": [
    "3、OpenCV中的反向投影\n",
    "    提供函数calcBackProject()用来做直方图反向投影。"
   ]
  },
  {
   "cell_type": "code",
   "execution_count": null,
   "metadata": {},
   "outputs": [],
   "source": [
    "roihist=cv2.calcHist([hsv],[0,1],None,[180,256],[0,180,0,256])\n",
    "cv2.normalize(roihist,roihist,0,255,cv2.NORM_MINMAX)\n",
    "dst=cv2.calcBackProject([hsvt],[0,1],roihist,[0,180,0,256],1)\n",
    "\n",
    "disc=cv2.getStructuringElement(cv2.MORPH_ELLIPSE,(5,5))\n",
    "dst=cv2.filter2D(dst,-1,disc)\n",
    "\n",
    "ret,thresh=cv2.threshold(dst,50,255,0)\n",
    "thresh=cv2.merge((thresh,thresh,thresh))\n",
    "\n",
    "res=cv2.bitwise_and(target,thresh)\n",
    "res=np.hstack((target,thresh,res))\n",
    "cv2.imwrite('pic/22-4-2.jpg',res)\n",
    "\n",
    "cv2.imshow('1',res)\n",
    "cv2.waitKey(0)\n",
    "cv2.destroyAllWindows()"
   ]
  },
  {
   "cell_type": "code",
   "execution_count": null,
   "metadata": {},
   "outputs": [],
   "source": []
  },
  {
   "cell_type": "code",
   "execution_count": null,
   "metadata": {},
   "outputs": [],
   "source": []
  },
  {
   "cell_type": "code",
   "execution_count": null,
   "metadata": {},
   "outputs": [],
   "source": []
  },
  {
   "cell_type": "code",
   "execution_count": null,
   "metadata": {},
   "outputs": [],
   "source": []
  },
  {
   "cell_type": "code",
   "execution_count": null,
   "metadata": {},
   "outputs": [],
   "source": []
  },
  {
   "cell_type": "code",
   "execution_count": null,
   "metadata": {},
   "outputs": [],
   "source": []
  }
 ],
 "metadata": {
  "kernelspec": {
   "display_name": "Python 3",
   "language": "python",
   "name": "python3"
  },
  "language_info": {
   "codemirror_mode": {
    "name": "ipython",
    "version": 3
   },
   "file_extension": ".py",
   "mimetype": "text/x-python",
   "name": "python",
   "nbconvert_exporter": "python",
   "pygments_lexer": "ipython3",
   "version": "3.5.2"
  }
 },
 "nbformat": 4,
 "nbformat_minor": 2
}
