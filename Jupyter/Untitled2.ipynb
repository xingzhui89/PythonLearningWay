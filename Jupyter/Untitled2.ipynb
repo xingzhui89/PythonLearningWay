{
 "cells": [
  {
   "cell_type": "raw",
   "metadata": {},
   "source": [
    "第一个测试：\n",
    "在定义一个对象的时候，这个对象肯定具有一些属性，还有一些动作。\n",
    "属性我们可以用变量或者常量来表示，动作就需要用到函数来表示\n",
    "但是我们不可能为每一个对象重复的写相通的属性和动作，所以就需要采用面向对象的编程方式。\n",
    "一种对象，我们把它的共有属性和动作定义在一起。\n",
    "比如下面这个例子，我们定义了狗的概念。\n",
    "其中jiao和chi_shi是狗的动作，name，gender，type等是狗的属性。\n",
    "init函数是我们用来初始化一条狗，这样会好看一些。\n",
    "我们把狗的动作jiao和chi_shi也定义在初始化函数中了，当然只是函数名，在使用函数的时候，还需要在后面加个括号才可以。\n",
    "jiao和chi_shi两个函数需要传入参数，所以在调用时，要将对象本身传进去。"
   ]
  },
  {
   "cell_type": "code",
   "execution_count": null,
   "metadata": {},
   "outputs": [],
   "source": [
    "def dog(name,gender,type):\n",
    "    def jiao(dog):\n",
    "        print('一条狗[%s]，汪汪汪' % dog['name'])\n",
    "    def chi_shi(dog):\n",
    "        print('一条[%s] 正在吃屎' % dog['type'])\n",
    "    def init(name,gender,type):\n",
    "        dog1 = {\n",
    "            'name':name,\n",
    "            'gender': gender,\n",
    "            'type': type,\n",
    "            'jiao':jiao,\n",
    "            'chi_shi':chi_shi,\n",
    "        }\n",
    "        return dog1\n",
    "    return init(name,gender,type)\n",
    "\n",
    "d1=dog('元昊','母','中华田园犬')\n",
    "d2=dog('alex','母','藏敖')\n",
    "print(d1)\n",
    "print(d2)\n",
    "d1['jiao'](d1)\n",
    "d2['chi_shi'](d2)"
   ]
  },
  {
   "cell_type": "raw",
   "metadata": {},
   "source": [
    "第二个测试\n",
    "我们来做个练习，来定义一个学校的对象。\n",
    "还是使用一个函数将学校的所有动作和初始化包含进来。\n",
    "请注意一下，这些函数相当于是内部函数，这些内部函数所需要的变量，有的是从外层函数传入，有的是自己定义的一个对象。\n",
    "我们在初始化函数中，定义的是一个字典，包含了对象所有的属性和动作名，动作名就是函数名。"
   ]
  },
  {
   "cell_type": "code",
   "execution_count": null,
   "metadata": {},
   "outputs": [],
   "source": [
    "def school(name, addr, type):\n",
    "    def init(name, addr, type):\n",
    "        sch = {\n",
    "            'name': name,\n",
    "            'addr': addr,\n",
    "            'type': type,\n",
    "            'kao_shi': kao_shi,\n",
    "            'zhao_sheng': zhao_sheng,\n",
    "        }\n",
    "        return sch\n",
    "    def kao_shi(school):\n",
    "        print('%s 学校正在考试' % school['name'])\n",
    "    def zhao_sheng(school):\n",
    "        print('%s %s 正在招生' % (school['type'], school['name']))\n",
    "    return init(name, addr, type)\n",
    "s1 = school('oldboy', '沙河', '私立学校')\n",
    "print(s1)\n",
    "print(s1['name'])\n",
    "s1['zhao_sheng'](s1)\n",
    "s2 = school('清华', '北京', '公立学校')\n",
    "print(s2)\n",
    "print(s2['name'], s2['addr'], s2['type'])\n",
    "s2['zhao_sheng'](s2)"
   ]
  },
  {
   "cell_type": "raw",
   "metadata": {},
   "source": [
    "第三个测试\n",
    "使用函数来定义对象毕竟不方便，我们用面向对象编程特有的语法class来实现面向对象设计\n",
    "请看下面这个关于狗的对象设计\n",
    "想比如使用函数来设计，不同点有：\n",
    "1、使用class定义，不需要在外层传入参数\n",
    "2、初始化函数使用__init__替换了，属性的定义不在使用字典的形式\n",
    "3、每个内部函数的第一个参数都是self，也就是该类或者该对象本身\n",
    "4、在内部函数中很方便的调用对象本身的属性\n",
    "最后我们使用__dict__函数输出实例对象dog1的属性。"
   ]
  },
  {
   "cell_type": "code",
   "execution_count": null,
   "metadata": {},
   "outputs": [],
   "source": [
    "class Dog:\n",
    "    def __init__(self,name,gender,type):\n",
    "        self.name=name\n",
    "        self.gender=gender\n",
    "        self.type=type\n",
    "    def bark(self):\n",
    "        print('一条名字为[%s]的[%s],狂吠不止' %(self.name,self.type))\n",
    "    def yao_ren(self):\n",
    "        print('[%s]正在咬人' %(self.name))\n",
    "    def chi_shi(self):\n",
    "        print('[%s]正在吃屎' %(self.type))\n",
    "dog1=Dog('alex','female','京巴')\n",
    "print(dog1.__dict__)\n"
   ]
  }
 ],
 "metadata": {
  "kernelspec": {
   "display_name": "Python 3",
   "language": "python",
   "name": "python3"
  },
  "language_info": {
   "codemirror_mode": {
    "name": "ipython",
    "version": 3
   },
   "file_extension": ".py",
   "mimetype": "text/x-python",
   "name": "python",
   "nbconvert_exporter": "python",
   "pygments_lexer": "ipython3",
   "version": "3.5.2"
  }
 },
 "nbformat": 4,
 "nbformat_minor": 2
}
