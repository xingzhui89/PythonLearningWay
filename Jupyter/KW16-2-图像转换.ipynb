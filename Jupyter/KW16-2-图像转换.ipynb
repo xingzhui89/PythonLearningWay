{
 "cells": [
  {
   "cell_type": "markdown",
   "metadata": {},
   "source": [
    "1、傅里叶变换\n",
    "    傅里叶变换经常被用来分析不同滤波器的频率特性。\n",
    "    我们可以使用2D离散傅里叶变换DFT分析图像的频域特性。\n",
    "    实现DFT的一个快速算法被称为快速傅里叶变换，FFT。\n",
    "\n",
    "    假设对于一个正弦信号：x(t)=Asin(2pift),其频率为f。\n",
    "    如果把这个信号转到其频率表示，我们会在频率f中看到一个峰值。\n",
    "    如果信号是由采样产生的离散信号组成，我们会得到类似的频谱图。\n",
    "    如果我们把一张图像想象成沿着两个方向采集的信号，所以对图像同时进行X和Y方向\n",
    "的傅里叶变换，就可以得到图片的频域显示（频谱图）。\n",
    "    如果信号的变化幅度非常快，可以说是高频信号；如果变化非常慢，我们称为低频信号。\n",
    "    如果图像中的变化幅度很大，就是边界点或者噪声。\n",
    "    所以我们说噪声是图像中的高高频分量，这里是变化快，而不是数量多。\n",
    "\n",
    "2、Numpy中的傅里叶变换\n",
    "    Numpy中的FFT包可以帮助我们实现快速傅里叶变换。\n",
    "    np.fft.fft2()可以对信号进行频率转换，得到一个复杂的数组。\n",
    "    第一个参数是输入图像，需要是灰度格式。\n",
    "    第二个参数是可选的，决定输出数组的大小。\n",
    "    输出输入数组大小应该是一样的。如果设置为输出大，输入图像需要在FFT前补0.\n",
    "        如果输出小，输入图像被切割。\n",
    "    假设已经得到了结果，频率为0的部分（直流分量）在输出图像的左上角。\n",
    "    如果想让它显示在输出图像的中心，我们还需要将结果沿两个方向平移N/2.\n",
    "    np.fft.fftshift()可以帮助我们实现这一步。\n",
    "    然后我们就可以构建振幅谱了。"
   ]
  },
  {
   "cell_type": "code",
   "execution_count": null,
   "metadata": {},
   "outputs": [],
   "source": [
    "import cv2\n",
    "import numpy as np\n",
    "import matplotlib.pyplot as plt\n",
    "\n",
    "img=cv2.imread('pic/messi.jpg',0)\n",
    "f=np.fft.fft2(img)\n",
    "fshift=np.fft.fftshift(f)\n",
    "\n",
    "magnitude_spectrum=20*np.log(np.abs(fshift))\n",
    "\n",
    "plt.subplot(121),plt.imshow(img,cmap='gray')\n",
    "plt.title('Input Image'),plt.xticks([]),plt.yticks([])\n",
    "plt.subplot(122),plt.imshow(magnitude_spectrum,cmap='gray')\n",
    "plt.title('Magnitude Spectrum'),plt.xticks([]),plt.yticks([])\n",
    "plt.show()\n",
    "###此处插入图片23-1"
   ]
  },
  {
   "cell_type": "markdown",
   "metadata": {},
   "source": [
    "从上图中可以看到，输出结果的中心部分更白，说明低频分量更多。\n",
    "现在我们可以进行频域变换了，我们就可以在频域对图像进行一些操作。\n",
    "例如高通滤波和重建图像（DFT的逆变换）。\n",
    "比如我们使用一个60X60的矩形窗口对图像进行掩膜操作从而去除低频分量。\n",
    "然后再使用函数np.fft.ifftshift()进行逆平移操作，所以现在直流分量又回到左上角了。\n",
    "然后使用np.ifft2()进行FFT逆变换。同样得到一堆复杂的数字，取绝对值。\n",
    "沿用上面的部分程序，请自行参考。"
   ]
  },
  {
   "cell_type": "code",
   "execution_count": null,
   "metadata": {},
   "outputs": [],
   "source": [
    "import cv2\n",
    "import numpy as np\n",
    "import matplotlib.pyplot as plt\n",
    "\n",
    "img=cv2.imread('pic/messi.jpg',0)\n",
    "f=np.fft.fft2(img)\n",
    "fshift=np.fft.fftshift(f)\n",
    "rows,cols=img.shape\n",
    "crow,ccol=int(rows/2),int(cols/2)\n",
    "fshift[crow-30:crow+30,ccol-30:ccol+30]=0\n",
    "f_ishift=np.fft.ifftshift(fshift)\n",
    "img_back=np.fft.ifft2(f_ishift)\n",
    "\n",
    "img_back=np.abs(img_back)\n",
    "\n",
    "plt.subplot(131),plt.imshow(img, cmap = 'gray')\n",
    "plt.title('Input Image'), plt.xticks([]), plt.yticks([])\n",
    "plt.subplot(132),plt.imshow(img_back, cmap = 'gray')\n",
    "plt.title('Image after HPF'), plt.xticks([]), plt.yticks([])\n",
    "plt.subplot(133),plt.imshow(img_back)\n",
    "plt.title('Result in JET'), plt.xticks([]), plt.yticks([])\n",
    "plt.show()\n",
    "##此处插入图片23-2"
   ]
  },
  {
   "cell_type": "markdown",
   "metadata": {},
   "source": [
    "    从上图可以看出，高通滤波其实是一种边界检测操作。\n",
    "    然后我们再看一下OpenCV中是如何进行这些操作的。\n",
    "    \n",
    "3、OpenCV中的傅里叶变换\n",
    "    对应的函数是cv2.dft()和cv2.idft()，输出结果是双通道的。\n",
    "    第一个通道是结果的实数部分，第二个通道是结果的虚数部分。\n",
    "    输入图像要首先转换称np.float32格式。\n",
    "    我们直接来看实现代码："
   ]
  },
  {
   "cell_type": "code",
   "execution_count": null,
   "metadata": {},
   "outputs": [],
   "source": [
    "import cv2\n",
    "import numpy as np\n",
    "import matplotlib.pyplot as plt\n",
    "\n",
    "img=cv2.imread('pic/messi.jpg',0)\n",
    "dft=cv2.dft(np.float32(img),flags=cv2.DFT_COMPLEX_OUTPUT)\n",
    "dft_shift=np.fft.fftshift(dft)\n",
    "\n",
    "magnitude_spectrum=20*np.log(cv2.magnitude(dft_shift[:,:,0],dft_shift[:,:,1]))\n",
    "\n",
    "plt.subplot(121),plt.imshow(img, cmap = 'gray')\n",
    "plt.title('Input Image'), plt.xticks([]), plt.yticks([])\n",
    "plt.subplot(122),plt.imshow(magnitude_spectrum, cmap = 'gray')\n",
    "plt.title('Magnitude Spectrum'), plt.xticks([]), plt.yticks([])\n",
    "plt.show()\n",
    "##此处插入图片23-3，基本上与前面的-1图片相同"
   ]
  },
  {
   "cell_type": "markdown",
   "metadata": {},
   "source": [
    "然后我们可以来做逆DFT，在前面的部分我们实现了一个HPF（高通滤波）。\n",
    "我们现在来做LPF（低通滤波）将高频部分去除。其实就是对图像进行模糊操作。\n",
    "首先我们需要构建一个掩膜，与低频区域对应的地方设置为1，与高频区域对应的地方设置为0."
   ]
  },
  {
   "cell_type": "code",
   "execution_count": null,
   "metadata": {},
   "outputs": [],
   "source": [
    "import cv2\n",
    "import numpy as np\n",
    "import matplotlib.pyplot as plt\n",
    "\n",
    "img=cv2.imread('pic/messi.jpg',0)\n",
    "dft=cv2.dft(np.float32(img),flags=cv2.DFT_COMPLEX_OUTPUT)\n",
    "dft_shift=np.fft.fftshift(dft)\n",
    "\n",
    "rows,cols=img.shape\n",
    "crow,ccol=np.uint8(rows/2),np.uint8(cols/2)\n",
    "\n",
    "mask=np.zeros((rows,cols,2),np.uint8)\n",
    "mask[crow-30:crow+30,ccol-30:ccol+30]=1\n",
    "\n",
    "fshift=dft_shift*mask\n",
    "f_ishift=np.fft.ifftshift(fshift)\n",
    "img_back=cv2.idft(f_ishift)\n",
    "img_back=cv2.magnitude(img_back[:,:,0],img_back[:,:,1])\n",
    "\n",
    "plt.subplot(121),plt.imshow(img, cmap = 'gray')\n",
    "plt.title('Input Image'), plt.xticks([]), plt.yticks([])\n",
    "plt.subplot(122),plt.imshow(img_back, cmap = 'gray')\n",
    "plt.title('Magnitude Spectrum'), plt.xticks([]), plt.yticks([])\n",
    "plt.show()\n",
    "##此处插入图片23-4"
   ]
  },
  {
   "cell_type": "markdown",
   "metadata": {},
   "source": [
    "4、DFT的性能优化\n",
    "    当数组的大小为某些值时，DFT的性能会更好。比如数组的大小是2的指数时，效率最高。\n",
    "    我们可以修改输入图像的大小，通过补0的方式。\n",
    "    OpenCV提供了一个函数getOptimalDFTSize()用于确定最佳大小。"
   ]
  },
  {
   "cell_type": "code",
   "execution_count": null,
   "metadata": {},
   "outputs": [],
   "source": [
    "import cv2\n",
    "import numpy as np\n",
    "import matplotlib.pyplot as plt\n",
    "\n",
    "img=cv2.imread('pic/messi.jpg',0)\n",
    "rows,cols=img.shape\n",
    "print(rows,cols)\n",
    "\n",
    "nrows=cv2.getOptimalDFTSize(rows)\n",
    "ncols=cv2.getOptimalDFTSize(cols)\n",
    "print(nrows,ncols)\n",
    "\n",
    "nimg=np.zeros((nrows,ncols))\n",
    "nimg[:rows,:cols]=img\n"
   ]
  },
  {
   "cell_type": "code",
   "execution_count": null,
   "metadata": {},
   "outputs": [],
   "source": []
  },
  {
   "cell_type": "code",
   "execution_count": null,
   "metadata": {},
   "outputs": [],
   "source": []
  },
  {
   "cell_type": "code",
   "execution_count": null,
   "metadata": {},
   "outputs": [],
   "source": []
  }
 ],
 "metadata": {
  "kernelspec": {
   "display_name": "Python 3",
   "language": "python",
   "name": "python3"
  },
  "language_info": {
   "codemirror_mode": {
    "name": "ipython",
    "version": 3
   },
   "file_extension": ".py",
   "mimetype": "text/x-python",
   "name": "python",
   "nbconvert_exporter": "python",
   "pygments_lexer": "ipython3",
   "version": "3.5.2"
  }
 },
 "nbformat": 4,
 "nbformat_minor": 2
}
