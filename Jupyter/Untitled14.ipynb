{
 "cells": [
  {
   "cell_type": "markdown",
   "metadata": {},
   "source": [
    "# 图像上的算数运算\n",
    "\n",
    "包括加法，减法，位运算\n",
    "cv2.add(),cv2.addWeighted()等"
   ]
  },
  {
   "cell_type": "code",
   "execution_count": null,
   "metadata": {},
   "outputs": [],
   "source": [
    "import cv2\n",
    "import numpy as np"
   ]
  },
  {
   "cell_type": "markdown",
   "metadata": {},
   "source": [
    "你可以使用函数 cv2.add() 将两幅图像进行加法运算，当然也可以直接使\n",
    "用 numpy， res=img1+img。两幅图像的大小，类型必须一致，或者第二个\n",
    "图像可以使一个简单的标量值。"
   ]
  },
  {
   "cell_type": "code",
   "execution_count": null,
   "metadata": {},
   "outputs": [],
   "source": [
    "x=np.uint8([250])\n",
    "y=np.uint8([10])"
   ]
  },
  {
   "cell_type": "code",
   "execution_count": null,
   "metadata": {},
   "outputs": [],
   "source": [
    "print(cv2.add(x,y))#[[255]],260->255\n",
    "print(x+y)#[4],260%256=4"
   ]
  },
  {
   "cell_type": "markdown",
   "metadata": {},
   "source": [
    "图像混合\n",
    "这其实也是加法，但是不同的是两幅图像的权重不同，这就会给人一种混\n",
    "合或者透明的感觉。\n",
    "g (x) = (1 − α) f0 (x) + αf1 (x)\n",
    "函数 cv2.addWeighted() 可以按下面的公式对图片进行混合操作\n",
    "dst = α · img1 + β · img2 + γ\n",
    "\n",
    "# 请牢记，如果图片大小也就是水平和竖直方向上的像素数量不同，就会报错的。\n",
    "我们可以在画图软件中调整一下图片大小。"
   ]
  },
  {
   "cell_type": "code",
   "execution_count": null,
   "metadata": {},
   "outputs": [],
   "source": [
    "img1=cv2.imread('pic/wechat.png')\n",
    "img2=cv2.imread('pic/mongodb.jpg')\n",
    "\n",
    "dst=cv2.addWeighted(img1,0.7,img2,0.3,0)\n",
    "\n",
    "cv2.imshow('dst',dst)\n",
    "cv2.waitKey(0)\n",
    "cv2.destroyAllWindows()"
   ]
  },
  {
   "cell_type": "markdown",
   "metadata": {},
   "source": [
    "我们来看一下两张图叠加在一起的效果。\n"
   ]
  },
  {
   "cell_type": "markdown",
   "metadata": {},
   "source": []
  },
  {
   "cell_type": "markdown",
   "metadata": {},
   "source": [
    "# 按位操作\n",
    "有： AND， OR， NOT， XOR 等。\n",
    "当我们提取图像的一部分，选择非矩形 ROI 时这些操作会很有用.\n",
    "我想把某部分图像放到另一幅图像上。如果使用加法，颜色会改变。\n",
    "如果使用混合，会得到透明效果，但是不想要透明。\n",
    "如果这部分图像是矩形，我可以象上一章那样使用 ROI。但是他不是矩形。\n",
    "所以只能使用按位运算来实现：\n",
    "\n",
    "我们把绿色的叶子，转移到另一张图上。\n",
    "\n",
    "后面我们会把所有的图片都截图贴出来，以便大家参考。"
   ]
  },
  {
   "cell_type": "code",
   "execution_count": null,
   "metadata": {},
   "outputs": [],
   "source": [
    "import cv2\n",
    "import numpy as np\n",
    "\n",
    "#加载图像\n",
    "img1=cv2.imread('pic/wechat.png')#这是目标图片\n",
    "img2=cv2.imread('pic/leaf.jpg')#这是我们的绿叶logo\n",
    "#获取img2的行、列、通道数\n",
    "rows,cols,channels=img2.shape\n",
    "#从目标图片中，确定好与leaf大小一致的区域\n",
    "roi=img1[0:rows,0:cols]"
   ]
  },
  {
   "cell_type": "code",
   "execution_count": null,
   "metadata": {},
   "outputs": [],
   "source": [
    "'''\n",
    "# 彩色转灰度  \n",
    "gray = cv2.cvtColor(img,cv2.COLOR_BGR2GRAY)  \n",
    "# 灰度转BGR3通道  \n",
    "color = cv2.cvtColor(grayImg,cv2.COLOR_GRAY2BGR)\n",
    "'''\n",
    "#转换成灰度照片\n",
    "img2gray=cv2.cvtColor(img2,cv2.COLOR_BGR2GRAY)"
   ]
  },
  {
   "cell_type": "markdown",
   "metadata": {},
   "source": [
    "def threshold(src, thresh, maxval, type, dst=None)\n",
    "The function applies fixed-level thresholding to a multiple-channel array. \n",
    "-src\tinput array (multiple-channel, 8-bit or 32-bit floating point).\n",
    "-dst\toutput array of the same size and type and the same number of channels as src.\n",
    "-thresh\tthreshold value.\n",
    "-maxval\tmaximum value to use with the THRESH_BINARY and THRESH_BINARY_INV thresholding types. \n",
    "这个函数的作用就是将灰度图片以某一个阈值作为区分，黑和白变得很明确\n",
    "小于175的就是0，其他的是255"
   ]
  },
  {
   "cell_type": "code",
   "execution_count": null,
   "metadata": {},
   "outputs": [],
   "source": [
    "ret,mask=cv2.threshold(img2gray,175,255,cv2.THRESH_BINARY)\n",
    "#not运算就是将上面的图片进行反转，黑和白转换一下\n",
    "mask_inv=cv2.bitwise_not(mask)"
   ]
  },
  {
   "cell_type": "markdown",
   "metadata": {},
   "source": [
    "# 按位求和\n",
    "我们来看一下按位求和运算的函数\n",
    "def bitwise_and(src1, src2, dst=None, mask=None)\n",
    "    .   @param src1 first input array or a scalar.\n",
    "    .   @param src2 second input array or a scalar.\n",
    "    .   @param dst output array that has the same size and type as the input\n",
    "    .   arrays.\n",
    "    .   @param mask optional operation mask, 8-bit single channel array, that\n",
    "    .   specifies elements of the output array to be changed.\n",
    "也就是说mask参数，就是用来指定输出矩阵中要改变的元素。"
   ]
  },
  {
   "cell_type": "code",
   "execution_count": null,
   "metadata": {},
   "outputs": [],
   "source": [
    "img1_bg=cv2.bitwise_and(roi,roi,mask=mask)\n",
    "img2_fg=cv2.bitwise_and(img2,img2,mask=mask_inv)\n",
    "\n",
    "dst=cv2.add(img1_bg,img2_fg)\n",
    "img1[0:rows,0:cols]=dst\n",
    "\n",
    "#cv2.imshow('img2gray',img2gray)\n",
    "\n",
    "#cv2.imshow('mask',mask)\n",
    "#cv2.imshow('mask_inv',mask_inv)\n",
    "\n",
    "cv2.imshow('img1_bg',img1_bg)\n",
    "cv2.imshow('img2_bg',img2_fg)\n",
    "\n",
    "cv2.imshow('dst',dst)\n",
    "#cv2.imshow('res',img1)\n",
    "\n",
    "cv2.waitKey(0)\n",
    "cv2.destroyAllWindows()"
   ]
  },
  {
   "cell_type": "markdown",
   "metadata": {},
   "source": []
  }
 ],
 "metadata": {
  "kernelspec": {
   "display_name": "Python 3",
   "language": "python",
   "name": "python3"
  },
  "language_info": {
   "codemirror_mode": {
    "name": "ipython",
    "version": 3
   },
   "file_extension": ".py",
   "mimetype": "text/x-python",
   "name": "python",
   "nbconvert_exporter": "python",
   "pygments_lexer": "ipython3",
   "version": "3.5.2"
  }
 },
 "nbformat": 4,
 "nbformat_minor": 2
}
