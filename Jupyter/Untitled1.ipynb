{
 "cells": [
  {
   "cell_type": "raw",
   "metadata": {},
   "source": [
    "import time\n",
    "def timmer(func):#这是我们的装饰器，用来修饰其他函数的，参数是一个函数名\n",
    "    #这个装饰器的作用应该就是记录函数func运行的时间\n",
    "    def wrapper(*args,**kwargs):#传入的参数是list或者dict，或者说是任意参数\n",
    "        start_time=time.time()\n",
    "        res=func(*args,**kwargs)#函数参数运行\n",
    "        stop_time = time.time()\n",
    "        print('函数运行时间是%s' %(stop_time-start_time))\n",
    "        return res#返回参数运行的结果\n",
    "    #请注意，在time函数种，wrapper函数是没有运行的，只是一种修饰，用于返回\n",
    "    return wrapper#返回修饰过的函数名\n",
    "\n",
    "@timmer#常用的修饰方法，这样cal函数就被timmer所装饰，等价于cal=timmer(cal)\n",
    "def cal(l):#cal函数的参数应该是个list或者某种序列\n",
    "    res=0#结果的初始值\n",
    "    for i in l:#遍历这个序列\n",
    "        time.sleep(0.1)\n",
    "        res+=i#对序列种的元素进行累计\n",
    "    return res#遍历完成后返回\n",
    "\n",
    "res=cal(range(20))#如果\n",
    "print(res)"
   ]
  },
  {
   "cell_type": "raw",
   "metadata": {},
   "source": [
    "import time#导入time库\n",
    "def timmer(func): #func=test1\n",
    "    def wrapper(*args,**kwargs): #test('linhaifeng',age=18)  args=('linhaifeng')  kwargs={'age':18}\n",
    "        start_time=time.time()\n",
    "        res=func(*args,**kwargs) #就是在运行test()         func(*('linhaifeng'),**{'age':18})\n",
    "        stop_time = time.time()\n",
    "        print('运行时间是%s' %(stop_time-start_time))\n",
    "        return res\n",
    "    return wrapper\n",
    "\n",
    "@timmer\n",
    "# test=timmer(test)\n",
    "def output(name, age):\n",
    "    time.sleep(3)\n",
    "    print('test函数运行完毕,名字是【%s】 年龄是【%s】' %(name,age))\n",
    "    return '这是test的返回值'\n",
    "\n",
    "@timmer\n",
    "def output1(name, age, gender):\n",
    "    time.sleep(1)\n",
    "    print('test1函数运行完毕,名字是【%s】 年龄是【%s】 性别【%s】' %(name,age,gender))\n",
    "    return '这是test的返回值'\n",
    "\n",
    "# res=test('linhaifeng',age=18)  #就是在运行wrapper\n",
    "# # print(res)\n",
    "# test1('alex',18,'male')\n",
    "\n",
    "output1('alex', 18, 'male')\n",
    "\n",
    "\n",
    "\n",
    "# def test2(name,age,gender): #test2(*('alex',18,'male','x','y'),**{})\n",
    "#     #name,age,gender=('alex',18,'male','x','y')\n",
    "#     print(name)\n",
    "#     print(age)\n",
    "#     print(gender)\n",
    "#\n",
    "# def test1(*args,**kwargs):\n",
    "#     test2(*args,**kwargs)  #args=('alex',18,'male','x','y') kwargs={}\n",
    "#\n",
    "# # test2('alex',18,gender='male')\n",
    "#\n",
    "# test1('alex',18,'male')"
   ]
  }
 ],
 "metadata": {
  "kernelspec": {
   "display_name": "Python 3",
   "language": "python",
   "name": "python3"
  },
  "language_info": {
   "codemirror_mode": {
    "name": "ipython",
    "version": 3
   },
   "file_extension": ".py",
   "mimetype": "text/x-python",
   "name": "python",
   "nbconvert_exporter": "python",
   "pygments_lexer": "ipython3",
   "version": "3.5.2"
  }
 },
 "nbformat": 4,
 "nbformat_minor": 2
}
