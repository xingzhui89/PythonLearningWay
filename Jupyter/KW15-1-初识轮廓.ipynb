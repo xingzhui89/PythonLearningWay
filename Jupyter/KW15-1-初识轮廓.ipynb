{
 "cells": [
  {
   "cell_type": "markdown",
   "metadata": {},
   "source": [
    "# 什么是轮廓？\n",
    "    轮廓可以简单的认为成将连续的点连在一起的曲线，具有相同的颜色或者灰度。\n",
    "    轮廓在形状分析或者物体的检测和识别中很有用。\n",
    "    ·为了更加准确，需要使用二值化图像，在寻找轮着之前，要进行阈值化处理或者Canny边界检测。\n",
    "    ·查找轮廓的函数会修改原始图像，如果在找到轮廓之后还想使用原始图像，应该将原始图像存储到其他变量中。\n",
    "    ·在OpenCV中，查找以轮廓就像在黑色背景中找白色物体。所以背景是黑色，前景是白色。\n",
    "我们来看一下如何查找一个二值化图片的轮廓。"
   ]
  },
  {
   "cell_type": "code",
   "execution_count": null,
   "metadata": {},
   "outputs": [],
   "source": [
    "import numpy as np\n",
    "import cv2 as cv\n",
    "im=cv.imread('pic/messi.jpg')\n",
    "imgray=cv.cvtColor(im,cv.COLOR_BGR2GRAY)\n",
    "ret,thresh=cv.threshold(imgray,127,255,0)\n",
    "im2,contours,hierarchy=cv.findContours(thresh,cv.RETR_TREE,cv.CHAIN_APPROX_SIMPLE)"
   ]
  },
  {
   "cell_type": "markdown",
   "metadata": {},
   "source": [
    "在findContours()函数中有三个参数，第一个是原图片，第二个是轮廓检查模式，第三个参数是轮廓近似方法。\n",
    "这个方法输出三个结果，一个是修改后的图像，一个是轮廓，在一个是层析结构。\n",
    "在第二个返回值轮廓中，包含的是这个图像中所有轮廓组成的列表。每一个轮廓都是一个Numpy数组，包含边界点(x,y)的坐标。\n"
   ]
  },
  {
   "cell_type": "markdown",
   "metadata": {},
   "source": [
    "# 如何绘制轮廓\n",
    "    drawContours()可以用来绘制轮廓。\n",
    "    它根据提供的边界点绘制任何形状。\n",
    "    接收的第一个参数是原始图像，第二个参数是轮廓（列表形式），第三个参数是轮廓的索引（-1表示绘制所有轮廓）。\n",
    "    还有一些参数是轮廓的颜色和厚度等。"
   ]
  },
  {
   "cell_type": "code",
   "execution_count": null,
   "metadata": {},
   "outputs": [],
   "source": [
    "#绘制一副图像中所有的轮廓\n",
    "cv.drawContours(im,contours,-1,(0,255,0),3)\n",
    "#绘制一副图像中个别轮廓，比如第4层。\n",
    "cv.drawContours(im,contours,3,(0,255,0),3)\n",
    "#但是大部分情况下，我们使用下面的方法，虽然与上面相同的结果，但是更有效：\n",
    "cnt=contours[4]\n",
    "cv.drawContours(im,[cnt],0,(0,255,0),3)"
   ]
  },
  {
   "cell_type": "markdown",
   "metadata": {},
   "source": [
    "# 轮廓的近似方法Contour Approximation Method \n",
    "    这是函数findCountours()的第三个参数。这个参数有什么作用？\n",
    "    在前面，我们讲过轮廓是具有相同强度值的形状的边界。\n",
    "    它会存储形状边界上所有的(x,y)坐标。但是需要将所有的这些边界点都存储下来么？\n",
    "    这就是该参数要传递给findContours的信息。\n",
    "    如果参数值设置为CHAIN_APPROX_NONE，所有的边界点都会被存储。\n",
    "    但是当我们的边界比较简单，比如只有一条直线，我们只需要两点即可。\n",
    "    此时参数值应该设置为CHAIN_APPROX_SIMPLE,能够去除冗余点，压缩轮廓，从而节省内存开支。"
   ]
  },
  {
   "cell_type": "code",
   "execution_count": null,
   "metadata": {},
   "outputs": [],
   "source": []
  },
  {
   "cell_type": "code",
   "execution_count": null,
   "metadata": {},
   "outputs": [],
   "source": []
  }
 ],
 "metadata": {
  "kernelspec": {
   "display_name": "Python 3",
   "language": "python",
   "name": "python3"
  },
  "language_info": {
   "codemirror_mode": {
    "name": "ipython",
    "version": 3
   },
   "file_extension": ".py",
   "mimetype": "text/x-python",
   "name": "python",
   "nbconvert_exporter": "python",
   "pygments_lexer": "ipython3",
   "version": "3.5.2"
  }
 },
 "nbformat": 4,
 "nbformat_minor": 2
}
