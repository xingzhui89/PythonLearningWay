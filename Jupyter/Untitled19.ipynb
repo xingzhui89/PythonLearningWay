{
 "cells": [
  {
   "cell_type": "markdown",
   "metadata": {},
   "source": [
    "今天介绍不同的形态学操作，例如腐蚀，膨胀，开运算，闭运算等。\n",
    "主要涉及的函数包括erode(),dilate(),morphologyEx()。\n",
    "\n",
    "形态学操作是根据图像形状进行的简单操作。\n",
    "一般情况下对二值化图像进行操作，需要输入两个参数，一个是原始图像，另一个就是结构化元素或核。"
   ]
  },
  {
   "cell_type": "markdown",
   "metadata": {},
   "source": [
    "# 1、腐蚀\n",
    "    这种操作会把前景物体的边界腐蚀掉。\n",
    "    卷积核沿着图像滑动，如果与卷积核对应的原图像的所有像素值都是1，那么中心元素就保持原来的像素值。\n",
    "    否则就变为0.\n",
    "    根据这个道理，靠近前景的所有像素都会被腐蚀掉，所以前景物体会变小，整幅图像的白色区域会减少。\n",
    "    \n",
    "举个例子来说明，使用5x5的归一化卷积核。"
   ]
  },
  {
   "cell_type": "code",
   "execution_count": null,
   "metadata": {},
   "outputs": [],
   "source": [
    "import cv2 as cv\n",
    "import numpy as np\n",
    "import matplotlib.pyplot as plt\n",
    "\n",
    "img=cv.imread('pic/j.png',0)\n",
    "kernel=np.ones((5,5),np.uint8)\n",
    "erosion=cv.erode(img,kernel,iterations=1)\n",
    "\n",
    "plt.subplot(121),plt.imshow(img),plt.title('IMG')\n",
    "plt.subplot(122),plt.imshow(erosion),plt.title('EROSION')\n",
    "plt.show()"
   ]
  },
  {
   "cell_type": "markdown",
   "metadata": {},
   "source": []
  },
  {
   "cell_type": "markdown",
   "metadata": {},
   "source": [
    "# 2、膨胀\n",
    "    与腐蚀相反的，假如与卷积核对应的原图像的像素值中只要有一个是1，中心元素的像素值就是1.\n",
    "    所以这个操作会增加白色区域。\n",
    "    一般先用腐蚀，去除白噪声，然后再进行膨胀。\n",
    "    还是以上面那个图像说明。"
   ]
  },
  {
   "cell_type": "code",
   "execution_count": null,
   "metadata": {},
   "outputs": [],
   "source": [
    "import cv2 as cv\n",
    "import numpy as np\n",
    "import matplotlib.pyplot as plt\n",
    "\n",
    "img=cv.imread('pic/j.png',0)\n",
    "kernel=np.ones((5,5),np.uint8)\n",
    "erosion=cv.dilate(img,kernel,iterations=1)\n",
    "\n",
    "plt.subplot(121),plt.imshow(img),plt.title('IMG')\n",
    "plt.subplot(122),plt.imshow(erosion),plt.title('EROSION')\n",
    "plt.show()"
   ]
  },
  {
   "cell_type": "markdown",
   "metadata": {},
   "source": [
    "# 3、开运算\n",
    "    先进行腐蚀，再进行膨胀就叫做开运算。\n",
    "    用于去除噪声。\n",
    "    使用morphologyEx()函数。\n",
    "    除了原始图片和卷积核之外，还需要传入op参数。\n",
    "    @param op Type of a morphological operation"
   ]
  },
  {
   "cell_type": "code",
   "execution_count": null,
   "metadata": {},
   "outputs": [],
   "source": [
    "opening = cv.morphologyEx(img, cv.MORPH_OPEN, kernel)\n",
    "plt.subplot(121),plt.imshow(img),plt.title('IMG')\n",
    "plt.subplot(122),plt.imshow(opening),plt.title('OPENING')\n",
    "plt.show()"
   ]
  },
  {
   "cell_type": "markdown",
   "metadata": {},
   "source": [
    "# 4、闭运算\n",
    "    先膨胀，再腐蚀，经常用于填充前景物体中的斑点。\n",
    "    closing = cv.morphologyEx(img, cv.MORPH_CLOSE, kernel)"
   ]
  },
  {
   "cell_type": "markdown",
   "metadata": {},
   "source": [
    "# 5、形态学梯度\n",
    "    就是一副图像腐蚀和膨胀之间的区别，结果看起来像是物体的轮廓。\n",
    "'''\n",
    "gradient = cv.morphologyEx(img, cv.MORPH_GRADIENT, kernel)\n",
    "'''"
   ]
  },
  {
   "cell_type": "markdown",
   "metadata": {},
   "source": [
    "# 6、Top Hat\n",
    "    描述的是图像的开运算和输入图像之间的差别。\n",
    "'''\n",
    "tophat = cv.morphologyEx(img, cv.MORPH_TOPHAT, kernel)\n",
    "'''"
   ]
  },
  {
   "cell_type": "markdown",
   "metadata": {},
   "source": [
    "# 7、Black Hat\n",
    "    描述的是图像的闭运算和输入图像的区别。\n",
    "    blackhat = cv.morphologyEx(img, cv.MORPH_BLACKHAT, kernel)\n"
   ]
  },
  {
   "cell_type": "markdown",
   "metadata": {},
   "source": [
    "# 结构化元素\n",
    "之前我们一直在使用Numpy创建结构化元素，都是矩形的。\n",
    "但是在一些情况下，我们需要渐变或者环形的卷积核，OpenCV提供了getStructuringElement()方法。\n",
    "传入形状和核的大小即可。"
   ]
  },
  {
   "cell_type": "code",
   "execution_count": null,
   "metadata": {},
   "outputs": [],
   "source": [
    "# Rectangular Kernel\n",
    "cv.getStructuringElement(cv.MORPH_RECT,(5,5))\n",
    "'''\n",
    "array([[1, 1, 1, 1, 1],\n",
    "       [1, 1, 1, 1, 1],\n",
    "       [1, 1, 1, 1, 1],\n",
    "       [1, 1, 1, 1, 1],\n",
    "       [1, 1, 1, 1, 1]], dtype=uint8)\n",
    "'''"
   ]
  },
  {
   "cell_type": "code",
   "execution_count": null,
   "metadata": {},
   "outputs": [],
   "source": [
    "# Elliptical Kernel\n",
    "cv.getStructuringElement(cv.MORPH_ELLIPSE,(5,5))\n",
    "'''\n",
    "array([[0, 0, 1, 0, 0],\n",
    "       [1, 1, 1, 1, 1],\n",
    "       [1, 1, 1, 1, 1],\n",
    "       [1, 1, 1, 1, 1],\n",
    "       [0, 0, 1, 0, 0]], dtype=uint8)\n",
    "'''"
   ]
  },
  {
   "cell_type": "code",
   "execution_count": null,
   "metadata": {},
   "outputs": [],
   "source": [
    "# Cross-shaped Kernel\n",
    "cv.getStructuringElement(cv.MORPH_CROSS,(5,5))\n",
    "'''\n",
    "array([[0, 0, 1, 0, 0],\n",
    "       [0, 0, 1, 0, 0],\n",
    "       [1, 1, 1, 1, 1],\n",
    "       [0, 0, 1, 0, 0],\n",
    "       [0, 0, 1, 0, 0]], dtype=uint8)\n",
    "'''"
   ]
  }
 ],
 "metadata": {
  "kernelspec": {
   "display_name": "Python 3",
   "language": "python",
   "name": "python3"
  },
  "language_info": {
   "codemirror_mode": {
    "name": "ipython",
    "version": 3
   },
   "file_extension": ".py",
   "mimetype": "text/x-python",
   "name": "python",
   "nbconvert_exporter": "python",
   "pygments_lexer": "ipython3",
   "version": "3.5.2"
  }
 },
 "nbformat": 4,
 "nbformat_minor": 2
}
