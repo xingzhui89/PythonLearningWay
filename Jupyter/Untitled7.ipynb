{
 "cells": [
  {
   "cell_type": "markdown",
   "metadata": {},
   "source": [
    "今天主要介绍如何使用opencv读入一幅图像，如何显示图像，以及如何保存图像。"
   ]
  },
  {
   "cell_type": "code",
   "execution_count": null,
   "metadata": {},
   "outputs": [],
   "source": [
    "import cv2\n",
    "import numpy as np"
   ]
  },
  {
   "cell_type": "markdown",
   "metadata": {},
   "source": [
    "如何读入图像\n",
    "使用函数cv2.imread(filepath,flags)函数读入图像，只要该图像在此程序的工作路径，或者给出完整路径。\n",
    "第二个参数则是要告诉函数应该如何读取这幅图片。\n",
    "    filepath：要读入图片的完整路径\n",
    "    flags：读入图片的标志\n",
    "        cv2.IMREAD_COLOR：默认参数，读入一副彩色图片，忽略alpha通道\n",
    "        cv2.IMREAD_GRAYSCALE：读入灰度图片\n",
    "        cv2.IMREAD_UNCHANGED：顾名思义，读入完整图片，包括alpha通道"
   ]
  },
  {
   "cell_type": "code",
   "execution_count": null,
   "metadata": {},
   "outputs": [],
   "source": [
    "img=cv2.imread('pic/me.jpg',cv2.IMREAD_COLOR)#这里默认图片存在当前目录下pic文件夹中"
   ]
  },
  {
   "cell_type": "markdown",
   "metadata": {},
   "source": [
    "如何显示图像\n",
    "使用函数cv2.imshow(wname,img)显示图像，\n",
    "第一个参数是显示图像的窗口的名字,可以创建多个窗口，但是务必给出不同的名字\n",
    "第二个参数是要显示的图像（imread读入的图像），窗口大小自动调整为图片大小\n",
    "    cv2.waitKey()顾名思义等待键盘输入，单位为毫秒，即等待指定的毫秒数看是否有键盘输入，\n",
    "        若在等待时间内按下任意键则返回按键的ASCII码，程序继续运行。\n",
    "        若没有按下任何键，超时后返回-1。参数为0表示无限等待。不调用waitKey的话，窗口会一闪而逝，看不到显示的图片。\n",
    "    cv2.destroyAllWindow()销毁所有窗口\n",
    "    cv2.destroyWindow(wname)销毁指定窗口\n",
    "如果我们想调节窗口的大小，我们可以先创建一个窗口，之后再加载图像。\n",
    "这时使用的是cv2.namedWindow()函数，选择WINDOW_NORMAL标签，就可以调整窗口大小了。"
   ]
  },
  {
   "cell_type": "code",
   "execution_count": null,
   "metadata": {},
   "outputs": [],
   "source": [
    "cv2.namedWindow('img',cv2.WINDOW_NORMAL)\n",
    "cv2.imshow('img',img)\n",
    "cv2.waitKey(0)\n",
    "cv2.destroyAllWindows()"
   ]
  },
  {
   "cell_type": "markdown",
   "metadata": {},
   "source": [
    "保存图像\n",
    "使用函数cv2.imwrite(file，img，num)保存一个图像。\n",
    "第一个参数是要保存的文件名，\n",
    "第二个参数是要保存的图像。\n",
    "可选的第三个参数，它针对特定的格式：对于JPEG，其表示的是图像的质量，用0 - 100的整数表示，默认95;对于png ,第三个参数表示的是压缩级别。默认为3."
   ]
  },
  {
   "cell_type": "code",
   "execution_count": null,
   "metadata": {},
   "outputs": [],
   "source": [
    "cv2.imwrite('test.png',img)"
   ]
  },
  {
   "cell_type": "markdown",
   "metadata": {},
   "source": [
    "接下来，我们尝试一个加载一个灰度图片，显示该图片，当检测到按下s键时保存并退出\n",
    "或者按下ESC键时退出不保存。"
   ]
  },
  {
   "cell_type": "code",
   "execution_count": null,
   "metadata": {},
   "outputs": [],
   "source": [
    "import numpy as np\n",
    "import cv2\n",
    "\n",
    "img=cv2.imread('pic/mongodb.jpg',cv2.IMREAD_COLOR)\n",
    "cv2.imshow('image',img)\n",
    "k=cv2.waitKey(0)\n",
    "if k==27:\n",
    "    cv2.destroyAllWindows()\n",
    "elif k==ord('s'):\n",
    "    cv2.imwrite('pic/mongodb_test.png',img)\n",
    "    cv2.destroyAllWindows()"
   ]
  }
 ],
 "metadata": {
  "kernelspec": {
   "display_name": "Python 3",
   "language": "python",
   "name": "python3"
  },
  "language_info": {
   "codemirror_mode": {
    "name": "ipython",
    "version": 3
   },
   "file_extension": ".py",
   "mimetype": "text/x-python",
   "name": "python",
   "nbconvert_exporter": "python",
   "pygments_lexer": "ipython3",
   "version": "3.5.2"
  }
 },
 "nbformat": 4,
 "nbformat_minor": 2
}
