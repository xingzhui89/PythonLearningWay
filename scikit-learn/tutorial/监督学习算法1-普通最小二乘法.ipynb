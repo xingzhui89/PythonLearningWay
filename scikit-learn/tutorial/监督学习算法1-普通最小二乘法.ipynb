{
 "cells": [
  {
   "cell_type": "markdown",
   "metadata": {},
   "source": [
    "接下来我们要将的一系列方法主要用于回归分析，也就是说目标值是输入值的线性合成。在数学公式中，如果我们用y^来表示预测值：\n",
    "【插入图片】\n",
    "在整个模块中，我们指定𝑤 = (𝑤1, ...,𝑤𝑝)做为coef_，w0表示intercept_。\n",
    "如果需要利用广义线性模型执行分类操作，那么请查看Logisitc Regression章节。\n",
    "\n",
    "## Ordinary Least Squares，普通最小二乘法\n",
    "\n",
    "LinearRegression使用系数𝑤 = (𝑤1, ...,𝑤𝑝)拟合一个线性模型，然后计算数据集中的每一个数据通过线性模型计算得到的值，与实际对应的值求平方差，然后将所有的平方差加起来，使这个和最小。从数学角度上来看，就是实现了如下的方程：\n",
    "\n",
    "【插入图片】\n",
    "\n",
    "LinearRegression使用fit方法对X，y数据进行计算，然后将线性模型的系数w保存在coef_成员中："
   ]
  },
  {
   "cell_type": "code",
   "execution_count": 1,
   "metadata": {},
   "outputs": [],
   "source": [
    "from sklearn import linear_model"
   ]
  },
  {
   "cell_type": "code",
   "execution_count": 2,
   "metadata": {},
   "outputs": [
    {
     "data": {
      "text/plain": [
       "LinearRegression(copy_X=True, fit_intercept=True, n_jobs=1, normalize=False)"
      ]
     },
     "execution_count": 2,
     "metadata": {},
     "output_type": "execute_result"
    }
   ],
   "source": [
    "reg=linear_model.LinearRegression()\n",
    "reg.fit([[0,0],[1,1],[2,2]],[0,1,2])"
   ]
  },
  {
   "cell_type": "code",
   "execution_count": 3,
   "metadata": {},
   "outputs": [
    {
     "data": {
      "text/plain": [
       "array([ 0.5,  0.5])"
      ]
     },
     "execution_count": 3,
     "metadata": {},
     "output_type": "execute_result"
    }
   ],
   "source": [
    "reg.coef_"
   ]
  },
  {
   "cell_type": "markdown",
   "metadata": {},
   "source": [
    "然而，普通最小二乘法的系数预测十分依赖模型数据的独立性。如果数据存在相关性，举行X的列之间存在近似线性依赖，X就会近似奇异，因此，最小二乘法预测就会对于观测值的随机误差十分敏感，产生较大的变化。这种多重共线性，当收集的数据没有经过设计的情况下，经常会出现。"
   ]
  },
  {
   "cell_type": "markdown",
   "metadata": {},
   "source": [
    "## Example\n",
    "\n",
    "我们来看一个例子，在diabetes糖尿病数据集中，我们只是用第一个特征，以便实现一个2维的回归计算。在图中可以看到，线性回归尝试绘制一条只想，尽可能减少预测值和观测值之间的方差和。\n"
   ]
  },
  {
   "cell_type": "code",
   "execution_count": 4,
   "metadata": {},
   "outputs": [
    {
     "name": "stdout",
     "output_type": "stream",
     "text": [
      "Coefficients: \n",
      " [ 938.23786125]\n",
      "Mean squared error: 2548.07\n",
      "Variance score: 0.47\n"
     ]
    },
    {
     "data": {
      "image/png": "[encoded data removed]",
      "text/plain": [
       "<matplotlib.figure.Figure at 0x27149d3d748>"
      ]
     },
     "metadata": {},
     "output_type": "display_data"
    }
   ],
   "source": [
    "import matplotlib.pyplot as plt\n",
    "import numpy as np\n",
    "from sklearn import datasets,linear_model\n",
    "from sklearn.metrics import mean_squared_error,r2_score\n",
    "#加载diabetes数据集\n",
    "diabetes = datasets.load_diabetes()\n",
    "#只是用第一个特征，这里是如何实现的？希望大家能自己尝试一下。\n",
    "diabetes_X = diabetes.data[:, np.newaxis, 2]\n",
    "# 将数据分解成训练和测试集，最后20个数据用来测试。\n",
    "diabetes_X_train = diabetes_X[:-20]\n",
    "diabetes_X_test = diabetes_X[-20:]\n",
    "# 将目标值同样划分为训练和测试集\n",
    "diabetes_y_train = diabetes.target[:-20]\n",
    "diabetes_y_test = diabetes.target[-20:]\n",
    "# 创建线性回归模型，参数一般使用模型的即可。\n",
    "regr = linear_model.LinearRegression()\n",
    "# 利用fit方法来进行模型训练，需要的参数是X和y的训练集。\n",
    "regr.fit(diabetes_X_train, diabetes_y_train)\n",
    "# 训练好之后，通过predict方法进行预测\n",
    "diabetes_y_pred = regr.predict(diabetes_X_test)\n",
    "# 打印计算得到的系数\n",
    "print('Coefficients: \\n', regr.coef_)\n",
    "# 打印均方差\n",
    "print(\"Mean squared error: %.2f\" % mean_squared_error(diabetes_y_test, diabetes_y_pred))\n",
    "# 解释方差分数，1是最佳拟合。\n",
    "print('Variance score: %.2f' % r2_score(diabetes_y_test, diabetes_y_pred))\n",
    "# 绘图，scatter表示散点图\n",
    "# plot是直线\n",
    "plt.scatter(diabetes_X_test, diabetes_y_test, color='black')\n",
    "plt.plot(diabetes_X_test, diabetes_y_pred, color='blue', linewidth=3)\n",
    "plt.xticks(())\n",
    "plt.yticks(())\n",
    "plt.show()\n"
   ]
  },
  {
   "cell_type": "code",
   "execution_count": null,
   "metadata": {},
   "outputs": [],
   "source": []
  }
 ],
 "metadata": {
  "kernelspec": {
   "display_name": "Python 3",
   "language": "python",
   "name": "python3"
  },
  "language_info": {
   "codemirror_mode": {
    "name": "ipython",
    "version": 3
   },
   "file_extension": ".py",
   "mimetype": "text/x-python",
   "name": "python",
   "nbconvert_exporter": "python",
   "pygments_lexer": "ipython3",
   "version": "3.5.2"
  }
 },
 "nbformat": 4,
 "nbformat_minor": 2
}
