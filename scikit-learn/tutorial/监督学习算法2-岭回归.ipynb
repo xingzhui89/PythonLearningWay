{
 "cells": [
  {
   "cell_type": "markdown",
   "metadata": {},
   "source": [
    "## Ridge Regression，岭回归\n",
    "\n",
    "昨天我们讲到了普通最小二乘法的一些缺陷。\n",
    "首先，最小二乘法需要计算XTX的逆矩阵，有可能它的逆矩阵不存在，这样就没有办法直接用最小二乘法了。\n",
    "其次，当样本量m很少，小于特征数n的时候，这时拟合方程是欠定的，常用的优化方法都无法去拟合数据。\n",
    "更进一步来讲，\n",
    "岭回归通过对系数的大小施加惩罚来解决普通最小二乘法的一些问题。岭系数最小化惩罚残差平方和：\n",
    "【插入图片】\n",
    "这里，𝛼 ≥ 0是一个复杂度参数，控制收缩量：a越大，收缩量越大，因此系数对于共线性更加稳健，不那么敏感了。\n",
    "\n",
    "同其他线性模型一样，Ridge也是对X和y数据进行fit处理，然后保存系数w在coef_成员中：\n"
   ]
  },
  {
   "cell_type": "code",
   "execution_count": 1,
   "metadata": {},
   "outputs": [
    {
     "data": {
      "text/plain": [
       "Ridge(alpha=0.5, copy_X=True, fit_intercept=True, max_iter=None,\n",
       "   normalize=False, random_state=None, solver='auto', tol=0.001)"
      ]
     },
     "execution_count": 1,
     "metadata": {},
     "output_type": "execute_result"
    }
   ],
   "source": [
    "from sklearn import linear_model\n",
    "reg = linear_model.Ridge (alpha = .5)\n",
    "reg.fit ([[0, 0], [0, 0], [1, 1]], [0, .1, 1])\n"
   ]
  },
  {
   "cell_type": "code",
   "execution_count": 2,
   "metadata": {},
   "outputs": [
    {
     "data": {
      "text/plain": [
       "array([ 0.34545455,  0.34545455])"
      ]
     },
     "execution_count": 2,
     "metadata": {},
     "output_type": "execute_result"
    }
   ],
   "source": [
    "reg.coef_"
   ]
  },
  {
   "cell_type": "code",
   "execution_count": 3,
   "metadata": {},
   "outputs": [
    {
     "data": {
      "text/plain": [
       "0.13636363636363638"
      ]
     },
     "execution_count": 3,
     "metadata": {},
     "output_type": "execute_result"
    }
   ],
   "source": [
    "reg.intercept_"
   ]
  },
  {
   "cell_type": "markdown",
   "metadata": {},
   "source": [
    "## Example：Plot Ridge coefficients as a function of the regularization\n",
    "\n",
    "本例展示了协线性对于预测器的系数的影响。\n",
    "岭回归是本例中使用的预测器。每种颜色代表系数向量的不同特征，并作为正则化参数的函数显示。\n",
    "这个例子也显示了将岭回归应用于高度病态矩阵的有用性。对于这样的矩阵，目标变量的微笑变化会导致计算权重的巨大差异。在这种情况下，设置一定的正则化参数a以减少这种变化或者噪声是有用的。\n",
    "当a很大时，正则化效应主导着平方损失函数，系数趋于零。当a趋近0时，解趋于普通最小二乘法时，系数呈现大的震荡。在实践中，有必要对a进行调优，以保持两者之间的平衡。\n"
   ]
  },
  {
   "cell_type": "markdown",
   "metadata": {},
   "source": [
    "当a很大时，正则化效应主导着平方损失函数，系数趋于零。当a趋近0时，解趋于普通最小二乘法时，系数呈现大的震荡。在实践中，有必要对a进行调优，以保持两者之间的平衡。\n"
   ]
  },
  {
   "cell_type": "code",
   "execution_count": 4,
   "metadata": {},
   "outputs": [
    {
     "name": "stdout",
     "output_type": "stream",
     "text": [
      "Automatically created module for IPython interactive environment\n",
      "[[ 1.          0.5         0.33333333  0.25        0.2         0.16666667\n",
      "   0.14285714  0.125       0.11111111  0.1       ]\n",
      " [ 0.5         0.33333333  0.25        0.2         0.16666667  0.14285714\n",
      "   0.125       0.11111111  0.1         0.09090909]\n",
      " [ 0.33333333  0.25        0.2         0.16666667  0.14285714  0.125\n",
      "   0.11111111  0.1         0.09090909  0.08333333]\n",
      " [ 0.25        0.2         0.16666667  0.14285714  0.125       0.11111111\n",
      "   0.1         0.09090909  0.08333333  0.07692308]\n",
      " [ 0.2         0.16666667  0.14285714  0.125       0.11111111  0.1\n",
      "   0.09090909  0.08333333  0.07692308  0.07142857]\n",
      " [ 0.16666667  0.14285714  0.125       0.11111111  0.1         0.09090909\n",
      "   0.08333333  0.07692308  0.07142857  0.06666667]\n",
      " [ 0.14285714  0.125       0.11111111  0.1         0.09090909  0.08333333\n",
      "   0.07692308  0.07142857  0.06666667  0.0625    ]\n",
      " [ 0.125       0.11111111  0.1         0.09090909  0.08333333  0.07692308\n",
      "   0.07142857  0.06666667  0.0625      0.05882353]\n",
      " [ 0.11111111  0.1         0.09090909  0.08333333  0.07692308  0.07142857\n",
      "   0.06666667  0.0625      0.05882353  0.05555556]\n",
      " [ 0.1         0.09090909  0.08333333  0.07692308  0.07142857  0.06666667\n",
      "   0.0625      0.05882353  0.05555556  0.05263158]]\n"
     ]
    }
   ],
   "source": [
    "print(__doc__)\n",
    "import numpy as np\n",
    "import matplotlib.pyplot as plt\n",
    "from sklearn import linear_model\n",
    "# X is the 10x10 Hilbert matrix\n",
    "X = 1. / (np.arange(1, 11) + np.arange(0, 10)[:, np.newaxis])\n",
    "print(X)\n"
   ]
  },
  {
   "cell_type": "code",
   "execution_count": 5,
   "metadata": {},
   "outputs": [
    {
     "name": "stdout",
     "output_type": "stream",
     "text": [
      "[ 1.  1.  1.  1.  1.  1.  1.  1.  1.  1.]\n"
     ]
    }
   ],
   "source": [
    "y = np.ones(10)\n",
    "print(y)\n"
   ]
  },
  {
   "cell_type": "code",
   "execution_count": 6,
   "metadata": {
    "scrolled": true
   },
   "outputs": [
    {
     "name": "stdout",
     "output_type": "stream",
     "text": [
      "[  1.00000000e-10   1.09698580e-10   1.20337784e-10   1.32008840e-10\n",
      "   1.44811823e-10   1.58856513e-10   1.74263339e-10   1.91164408e-10\n",
      "   2.09704640e-10   2.30043012e-10   2.52353917e-10   2.76828663e-10\n",
      "   3.03677112e-10   3.33129479e-10   3.65438307e-10   4.00880633e-10\n",
      "   4.39760361e-10   4.82410870e-10   5.29197874e-10   5.80522552e-10\n",
      "   6.36824994e-10   6.98587975e-10   7.66341087e-10   8.40665289e-10\n",
      "   9.22197882e-10   1.01163798e-09   1.10975250e-09   1.21738273e-09\n",
      "   1.33545156e-09   1.46497140e-09   1.60705282e-09   1.76291412e-09\n",
      "   1.93389175e-09   2.12145178e-09   2.32720248e-09   2.55290807e-09\n",
      "   2.80050389e-09   3.07211300e-09   3.37006433e-09   3.69691271e-09\n",
      "   4.05546074e-09   4.44878283e-09   4.88025158e-09   5.35356668e-09\n",
      "   5.87278661e-09   6.44236351e-09   7.06718127e-09   7.75259749e-09\n",
      "   8.50448934e-09   9.32930403e-09   1.02341140e-08   1.12266777e-08\n",
      "   1.23155060e-08   1.35099352e-08   1.48202071e-08   1.62575567e-08\n",
      "   1.78343088e-08   1.95639834e-08   2.14614120e-08   2.35428641e-08\n",
      "   2.58261876e-08   2.83309610e-08   3.10786619e-08   3.40928507e-08\n",
      "   3.73993730e-08   4.10265811e-08   4.50055768e-08   4.93704785e-08\n",
      "   5.41587138e-08   5.94113398e-08   6.51733960e-08   7.14942899e-08\n",
      "   7.84282206e-08   8.60346442e-08   9.43787828e-08   1.03532184e-07\n",
      "   1.13573336e-07   1.24588336e-07   1.36671636e-07   1.49926843e-07\n",
      "   1.64467618e-07   1.80418641e-07   1.97916687e-07   2.17111795e-07\n",
      "   2.38168555e-07   2.61267523e-07   2.86606762e-07   3.14403547e-07\n",
      "   3.44896226e-07   3.78346262e-07   4.15040476e-07   4.55293507e-07\n",
      "   4.99450512e-07   5.47890118e-07   6.01027678e-07   6.59318827e-07\n",
      "   7.23263390e-07   7.93409667e-07   8.70359136e-07   9.54771611e-07\n",
      "   1.04737090e-06   1.14895100e-06   1.26038293e-06   1.38262217e-06\n",
      "   1.51671689e-06   1.66381689e-06   1.82518349e-06   2.00220037e-06\n",
      "   2.19638537e-06   2.40940356e-06   2.64308149e-06   2.89942285e-06\n",
      "   3.18062569e-06   3.48910121e-06   3.82749448e-06   4.19870708e-06\n",
      "   4.60592204e-06   5.05263107e-06   5.54266452e-06   6.08022426e-06\n",
      "   6.66991966e-06   7.31680714e-06   8.02643352e-06   8.80488358e-06\n",
      "   9.65883224e-06   1.05956018e-05   1.16232247e-05   1.27505124e-05\n",
      "   1.39871310e-05   1.53436841e-05   1.68318035e-05   1.84642494e-05\n",
      "   2.02550194e-05   2.22194686e-05   2.43744415e-05   2.67384162e-05\n",
      "   2.93316628e-05   3.21764175e-05   3.52970730e-05   3.87203878e-05\n",
      "   4.24757155e-05   4.65952567e-05   5.11143348e-05   5.60716994e-05\n",
      "   6.15098579e-05   6.74754405e-05   7.40196000e-05   8.11984499e-05\n",
      "   8.90735464e-05   9.77124154e-05   1.07189132e-04   1.17584955e-04\n",
      "   1.28989026e-04   1.41499130e-04   1.55222536e-04   1.70276917e-04\n",
      "   1.86791360e-04   2.04907469e-04   2.24780583e-04   2.46581108e-04\n",
      "   2.70495973e-04   2.96730241e-04   3.25508860e-04   3.57078596e-04\n",
      "   3.91710149e-04   4.29700470e-04   4.71375313e-04   5.17092024e-04\n",
      "   5.67242607e-04   6.22257084e-04   6.82607183e-04   7.48810386e-04\n",
      "   8.21434358e-04   9.01101825e-04   9.88495905e-04   1.08436597e-03\n",
      "   1.18953407e-03   1.30490198e-03   1.43145894e-03   1.57029012e-03\n",
      "   1.72258597e-03   1.88965234e-03   2.07292178e-03   2.27396575e-03\n",
      "   2.49450814e-03   2.73644000e-03   3.00183581e-03   3.29297126e-03\n",
      "   3.61234270e-03   3.96268864e-03   4.34701316e-03   4.76861170e-03\n",
      "   5.23109931e-03   5.73844165e-03   6.29498899e-03   6.90551352e-03\n",
      "   7.57525026e-03   8.30994195e-03   9.11588830e-03   1.00000000e-02]\n"
     ]
    }
   ],
   "source": [
    "n_alphas = 200\n",
    "alphas = np.logspace(-10, -2, n_alphas)\n",
    "print(alphas)\n",
    "\n"
   ]
  },
  {
   "cell_type": "code",
   "execution_count": 9,
   "metadata": {},
   "outputs": [],
   "source": [
    "coefs = []\n",
    "for a in alphas:\n",
    "\tridge = linear_model.Ridge(alpha=a, fit_intercept=False)\n",
    "\tridge.fit(X, y)\n",
    "\tcoefs.append(ridge.coef_) \n"
   ]
  },
  {
   "cell_type": "code",
   "execution_count": 10,
   "metadata": {
    "scrolled": true
   },
   "outputs": [
    {
     "data": {
      "image/png": "[encoded data removed]",
      "text/plain": [
       "<matplotlib.figure.Figure at 0x2438411fc50>"
      ]
     },
     "metadata": {},
     "output_type": "display_data"
    }
   ],
   "source": [
    "ax = plt.gca()\n",
    "ax.plot(alphas, coefs)\n",
    "ax.set_xscale('log')\n",
    "ax.set_xlim(ax.get_xlim()[::-1]) # reverse axis\n",
    "plt.xlabel('alpha')\n",
    "plt.ylabel('weights')\n",
    "plt.title('Ridge coefficients as a function of the regularization')\n",
    "plt.axis('tight')\n",
    "plt.show()\n"
   ]
  },
  {
   "cell_type": "markdown",
   "metadata": {},
   "source": [
    "np.logspace()方法\n",
    "用于创建等比数列，参数中，起始点和结束点表示10的幂。\n"
   ]
  },
  {
   "cell_type": "markdown",
   "metadata": {},
   "source": [
    "## Setting the regularization parameter: generalized Cross-Validation\n",
    "\n",
    "RidgeCV实现了内置交叉验证a参数的岭回归。该对象的工作方式与GridSearchCV相同，只不过它默认为广义交叉验证GCV，这是一种有效的形式："
   ]
  },
  {
   "cell_type": "code",
   "execution_count": 11,
   "metadata": {},
   "outputs": [
    {
     "data": {
      "text/plain": [
       "RidgeCV(alphas=[0.1, 1.0, 10.0], cv=None, fit_intercept=True, gcv_mode=None,\n",
       "    normalize=False, scoring=None, store_cv_values=False)"
      ]
     },
     "execution_count": 11,
     "metadata": {},
     "output_type": "execute_result"
    }
   ],
   "source": [
    "from sklearn import linear_model\n",
    "reg = linear_model.RidgeCV(alphas=[0.1, 1.0, 10.0])\n",
    "reg.fit([[0, 0], [0, 0], [1, 1]], [0, .1, 1])\n"
   ]
  },
  {
   "cell_type": "code",
   "execution_count": 12,
   "metadata": {},
   "outputs": [
    {
     "data": {
      "text/plain": [
       "0.10000000000000001"
      ]
     },
     "execution_count": 12,
     "metadata": {},
     "output_type": "execute_result"
    }
   ],
   "source": [
    "reg.alpha_"
   ]
  },
  {
   "cell_type": "code",
   "execution_count": null,
   "metadata": {},
   "outputs": [],
   "source": []
  },
  {
   "cell_type": "code",
   "execution_count": null,
   "metadata": {},
   "outputs": [],
   "source": []
  },
  {
   "cell_type": "code",
   "execution_count": null,
   "metadata": {},
   "outputs": [],
   "source": []
  },
  {
   "cell_type": "code",
   "execution_count": null,
   "metadata": {},
   "outputs": [],
   "source": []
  },
  {
   "cell_type": "code",
   "execution_count": null,
   "metadata": {},
   "outputs": [],
   "source": []
  },
  {
   "cell_type": "code",
   "execution_count": null,
   "metadata": {},
   "outputs": [],
   "source": []
  },
  {
   "cell_type": "code",
   "execution_count": null,
   "metadata": {},
   "outputs": [],
   "source": []
  },
  {
   "cell_type": "code",
   "execution_count": null,
   "metadata": {},
   "outputs": [],
   "source": []
  },
  {
   "cell_type": "code",
   "execution_count": null,
   "metadata": {},
   "outputs": [],
   "source": []
  },
  {
   "cell_type": "code",
   "execution_count": null,
   "metadata": {},
   "outputs": [],
   "source": []
  },
  {
   "cell_type": "code",
   "execution_count": null,
   "metadata": {},
   "outputs": [],
   "source": []
  },
  {
   "cell_type": "code",
   "execution_count": null,
   "metadata": {},
   "outputs": [],
   "source": []
  },
  {
   "cell_type": "code",
   "execution_count": null,
   "metadata": {},
   "outputs": [],
   "source": []
  }
 ],
 "metadata": {
  "kernelspec": {
   "display_name": "Python 3",
   "language": "python",
   "name": "python3"
  },
  "language_info": {
   "codemirror_mode": {
    "name": "ipython",
    "version": 3
   },
   "file_extension": ".py",
   "mimetype": "text/x-python",
   "name": "python",
   "nbconvert_exporter": "python",
   "pygments_lexer": "ipython3",
   "version": "3.5.2"
  }
 },
 "nbformat": 4,
 "nbformat_minor": 2
}
