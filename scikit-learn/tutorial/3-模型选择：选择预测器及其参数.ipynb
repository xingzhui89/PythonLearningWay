{
 "cells": [
  {
   "cell_type": "markdown",
   "metadata": {},
   "source": [
    "## Score，and cross-validated scores\n",
    "分数，和交叉验证分数\n",
    "\n",
    "如我们所见，每个预测器能够提供一个score方法，用于判断新数据fit或者prediction的质量。Score的值越大越好。\n",
    "看一个使用SVM判别digits数据集的范例：\n"
   ]
  },
  {
   "cell_type": "code",
   "execution_count": 1,
   "metadata": {},
   "outputs": [
    {
     "data": {
      "text/plain": [
       "0.97999999999999998"
      ]
     },
     "execution_count": 1,
     "metadata": {},
     "output_type": "execute_result"
    }
   ],
   "source": [
    "from sklearn import datasets, svm\n",
    "digits = datasets.load_digits()\n",
    "X_digits = digits.data#观测值\n",
    "y_digits = digits.target#预测值\n",
    "svc = svm.SVC(C=1, kernel='linear')#创建SVC预测器\n",
    "svc.fit(X_digits[:-100], y_digits[:-100]).score(X_digits[-100:], y_digits[-100:])\n"
   ]
  },
  {
   "cell_type": "markdown",
   "metadata": {},
   "source": [
    "为了更好的度量预测的竞速，我们可以将数据集分解成为几个部分，分别用于trainning和testing。"
   ]
  },
  {
   "cell_type": "code",
   "execution_count": 2,
   "metadata": {},
   "outputs": [
    {
     "name": "stdout",
     "output_type": "stream",
     "text": [
      "[0.93489148580968284, 0.95659432387312182, 0.93989983305509184]\n"
     ]
    }
   ],
   "source": [
    ">>> import numpy as np\n",
    ">>> X_folds = np.array_split(X_digits, 3)\n",
    ">>> y_folds = np.array_split(y_digits, 3)\n",
    ">>> scores = list()\n",
    ">>> for k in range(3):\n",
    "...     # We use 'list' to copy, in order to 'pop' later on\n",
    "...     X_train = list(X_folds)\n",
    "...     X_test  = X_train.pop(k)\n",
    "...     X_train = np.concatenate(X_train)\n",
    "...     y_train = list(y_folds)\n",
    "...     y_test  = y_train.pop(k)\n",
    "...     y_train = np.concatenate(y_train)\n",
    "...     scores.append(svc.fit(X_train, y_train).score(X_test, y_test))\n",
    ">>> print(scores)\n"
   ]
  },
  {
   "cell_type": "markdown",
   "metadata": {},
   "source": [
    "这被称为KFold 交叉验证方法。\n",
    "\n",
    "## Cross-validation generators\n",
    "交叉验证生成器\n",
    "\n",
    "Scikit-learn有一系列类，可以用来为流行的交叉验证策略生成train/test索引列表。\n",
    "这些类具有一个split方法，可以接受input数据集，然后将其分割，生成train/test集合索引，用于选定交叉验证策略的每一个迭代。\n",
    "下面一个例子介绍了如何使用split方法。\n"
   ]
  },
  {
   "cell_type": "code",
   "execution_count": 3,
   "metadata": {},
   "outputs": [
    {
     "name": "stdout",
     "output_type": "stream",
     "text": [
      "Train: [2 3 4 5] | test: [0 1]\n",
      "Train: [0 1 4 5] | test: [2 3]\n",
      "Train: [0 1 2 3] | test: [4 5]\n"
     ]
    }
   ],
   "source": [
    ">>> from sklearn.model_selection import KFold, cross_val_score\n",
    ">>> X = [\"a\", \"a\", \"b\", \"c\", \"c\", \"c\"]\n",
    ">>> k_fold = KFold(n_splits=3)\n",
    ">>> for train_indices, test_indices in k_fold.split(X):\n",
    "...      print('Train: %s | test: %s' % (train_indices, test_indices))\n"
   ]
  },
  {
   "cell_type": "markdown",
   "metadata": {},
   "source": [
    "然后交叉验证可以很容易的执行："
   ]
  },
  {
   "cell_type": "code",
   "execution_count": 4,
   "metadata": {},
   "outputs": [
    {
     "data": {
      "text/plain": [
       "[0.93489148580968284, 0.95659432387312182, 0.93989983305509184]"
      ]
     },
     "execution_count": 4,
     "metadata": {},
     "output_type": "execute_result"
    }
   ],
   "source": [
    ">>> [svc.fit(X_digits[train], y_digits[train]).score(X_digits[test], y_digits[test])\n",
    "...          for train, test in k_fold.split(X_digits)]\n"
   ]
  },
  {
   "cell_type": "markdown",
   "metadata": {},
   "source": [
    "交叉验证分数能够直接使用cross_val_score助手计算得到。给定一个预测器，交叉验证对象和输入数据集，cross_val_score重复分割数据为一个training和testing集合。使用training集合训练预测器，然后基于testing集合为每个交叉迭代计算score。\n",
    "\n",
    "默认地，预测器的score方法用于计算individual的score。\n",
    "可以参考metrics 模块来学习更多可用的评判方法。\n"
   ]
  },
  {
   "cell_type": "code",
   "execution_count": 5,
   "metadata": {},
   "outputs": [
    {
     "data": {
      "text/plain": [
       "array([ 0.93489149,  0.95659432,  0.93989983])"
      ]
     },
     "execution_count": 5,
     "metadata": {},
     "output_type": "execute_result"
    }
   ],
   "source": [
    ">>> cross_val_score(svc, X_digits, y_digits, cv=k_fold, n_jobs=-1)"
   ]
  },
  {
   "cell_type": "markdown",
   "metadata": {},
   "source": [
    "n_jobs = -1表示计算工作将在计算机的所有CPU上运行。\n",
    "一个可选的参数scoring，可以用于指定其他的评判方法。\n"
   ]
  },
  {
   "cell_type": "code",
   "execution_count": 6,
   "metadata": {},
   "outputs": [
    {
     "data": {
      "text/plain": [
       "array([ 0.93969761,  0.95911415,  0.94041254])"
      ]
     },
     "execution_count": 6,
     "metadata": {},
     "output_type": "execute_result"
    }
   ],
   "source": [
    ">>> cross_val_score(svc, X_digits, y_digits, cv=k_fold,\n",
    "...                 scoring='precision_macro')\n"
   ]
  },
  {
   "cell_type": "markdown",
   "metadata": {},
   "source": [
    "下面列举一下常见的交叉验证生成器：\n",
    "1、KFold (n_splits, shuffle, random_state)\n",
    "分割为K的fold，在K-1个上训练，然后在剩余的数据上测试。\n",
    "2、StratifiedKFold (n_splits, shuffle, random_state)\n",
    "与KFold相同，但是在每个fold内保留类分布。\n",
    "3、 GroupKFold (n_splits)\n",
    "能够确保相同的group并同时在testing和training集合中\n",
    "4、ShuffleSplit (n_splits, test_size, train_size, random_state)\n",
    "根据随机排列生成train/test索引。\n",
    "……\n"
   ]
  },
  {
   "cell_type": "markdown",
   "metadata": {},
   "source": [
    "## Grid-search and cross-validated estimators\n",
    "\n",
    "### Grid-search\n",
    "\n",
    "scikit-learn提供了一个对象，给定数据，计算预测器在参数网格上拟合的分数，并选择参数以最大化交叉验证分数。这个对象在构建过程中需要一个预测器，并公开expose一个预测器API：\n"
   ]
  },
  {
   "cell_type": "code",
   "execution_count": 7,
   "metadata": {},
   "outputs": [
    {
     "data": {
      "text/plain": [
       "GridSearchCV(cv=None, error_score='raise',\n",
       "       estimator=SVC(C=1, cache_size=200, class_weight=None, coef0=0.0,\n",
       "  decision_function_shape='ovr', degree=3, gamma='auto', kernel='linear',\n",
       "  max_iter=-1, probability=False, random_state=None, shrinking=True,\n",
       "  tol=0.001, verbose=False),\n",
       "       fit_params=None, iid=True, n_jobs=-1,\n",
       "       param_grid={'C': array([  1.00000e-06,   3.59381e-06,   1.29155e-05,   4.64159e-05,\n",
       "         1.66810e-04,   5.99484e-04,   2.15443e-03,   7.74264e-03,\n",
       "         2.78256e-02,   1.00000e-01])},\n",
       "       pre_dispatch='2*n_jobs', refit=True, return_train_score='warn',\n",
       "       scoring=None, verbose=0)"
      ]
     },
     "execution_count": 7,
     "metadata": {},
     "output_type": "execute_result"
    }
   ],
   "source": [
    ">>> from sklearn.model_selection import GridSearchCV, cross_val_score\n",
    ">>> Cs = np.logspace(-6, -1, 10)\n",
    ">>> clf = GridSearchCV(estimator=svc, param_grid=dict(C=Cs),\n",
    "...                    n_jobs=-1)\n",
    ">>> clf.fit(X_digits[:1000], y_digits[:1000])    \n"
   ]
  },
  {
   "cell_type": "code",
   "execution_count": 8,
   "metadata": {},
   "outputs": [
    {
     "data": {
      "text/plain": [
       "0.92500000000000004"
      ]
     },
     "execution_count": 8,
     "metadata": {},
     "output_type": "execute_result"
    }
   ],
   "source": [
    "clf.best_score_"
   ]
  },
  {
   "cell_type": "code",
   "execution_count": 9,
   "metadata": {},
   "outputs": [
    {
     "data": {
      "text/plain": [
       "0.0077426368268112772"
      ]
     },
     "execution_count": 9,
     "metadata": {},
     "output_type": "execute_result"
    }
   ],
   "source": [
    "clf.best_estimator_.C"
   ]
  },
  {
   "cell_type": "code",
   "execution_count": 11,
   "metadata": {},
   "outputs": [
    {
     "data": {
      "text/plain": [
       "0.94353826850690092"
      ]
     },
     "execution_count": 11,
     "metadata": {},
     "output_type": "execute_result"
    }
   ],
   "source": [
    ">>> # Prediction performance on test set is not as good as on train set\n",
    ">>> clf.score(X_digits[1000:], y_digits[1000:])      "
   ]
  },
  {
   "cell_type": "markdown",
   "metadata": {},
   "source": [
    "默认的，GridSearchCV使用一个3folds交叉验证。然而，如果它检测到传递来一个分类器，而不是回归器，那么就要使用分层3folds。（这里不太理解~）\n",
    "\n",
    "### Nested cross-validation，嵌套交叉验证\n",
    "\n"
   ]
  },
  {
   "cell_type": "code",
   "execution_count": 12,
   "metadata": {},
   "outputs": [
    {
     "data": {
      "text/plain": [
       "array([ 0.93853821,  0.96327212,  0.94463087])"
      ]
     },
     "execution_count": 12,
     "metadata": {},
     "output_type": "execute_result"
    }
   ],
   "source": [
    "cross_val_score(clf, X_digits, y_digits)"
   ]
  },
  {
   "cell_type": "markdown",
   "metadata": {},
   "source": [
    "并行两个交叉验证循环：一个是GridSearchCV预测器，设置gamma；另一个是通过cross_val_score，来衡量预测器的预测精度。结果分数是无偏估计得。\n",
    "\n",
    "### Cross-validated estimators，交叉验证预测器\n",
    "交叉验证设置参数可以在逐算法的基础上更高效地完成。这就是为何对于特定的预测器，scikit-learn自动的设置参数。\n",
    "\n"
   ]
  },
  {
   "cell_type": "code",
   "execution_count": 13,
   "metadata": {},
   "outputs": [
    {
     "data": {
      "text/plain": [
       "LassoCV(alphas=None, copy_X=True, cv=None, eps=0.001, fit_intercept=True,\n",
       "    max_iter=1000, n_alphas=100, n_jobs=1, normalize=False, positive=False,\n",
       "    precompute='auto', random_state=None, selection='cyclic', tol=0.0001,\n",
       "    verbose=False)"
      ]
     },
     "execution_count": 13,
     "metadata": {},
     "output_type": "execute_result"
    }
   ],
   "source": [
    ">>> from sklearn import linear_model, datasets\n",
    ">>> lasso = linear_model.LassoCV()\n",
    ">>> diabetes = datasets.load_diabetes()\n",
    ">>> X_diabetes = diabetes.data\n",
    ">>> y_diabetes = diabetes.target\n",
    ">>> lasso.fit(X_diabetes, y_diabetes)\n"
   ]
  },
  {
   "cell_type": "code",
   "execution_count": 14,
   "metadata": {},
   "outputs": [
    {
     "data": {
      "text/plain": [
       "0.012291895087486161"
      ]
     },
     "execution_count": 14,
     "metadata": {},
     "output_type": "execute_result"
    }
   ],
   "source": [
    ">>> # The estimator chose automatically its lambda:\n",
    ">>> lasso.alpha_ \n"
   ]
  },
  {
   "cell_type": "markdown",
   "metadata": {},
   "source": [
    "这些具备交叉验证功能的预测器命名很简单，一般在后缀上有CV两个字母。"
   ]
  }
 ],
 "metadata": {
  "kernelspec": {
   "display_name": "Python 3",
   "language": "python",
   "name": "python3"
  },
  "language_info": {
   "codemirror_mode": {
    "name": "ipython",
    "version": 3
   },
   "file_extension": ".py",
   "mimetype": "text/x-python",
   "name": "python",
   "nbconvert_exporter": "python",
   "pygments_lexer": "ipython3",
   "version": "3.5.2"
  }
 },
 "nbformat": 4,
 "nbformat_minor": 2
}
