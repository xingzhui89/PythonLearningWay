{
 "cells": [
  {
   "cell_type": "markdown",
   "metadata": {},
   "source": [
    "### 监督学习可以解决的问题\n",
    "\n",
    "监督学习主要用于学习两个数据集之间的关联：观测数据X和外部变量y，我们想要预测y，一般把y叫做target或者label。一般来说，y是一个1D数组，长度为n_samples，也就是跟X的样品数量一致。\n",
    "### 单词解释：classification分类和regression回归\n",
    "\n",
    "如果预测任务是在一组有限的label中对观测值分类，或者说对观测到的对象命名，那么这就是一个分类任务。\n",
    "如果目标是去预测一个连续的目标变量，那么就是一个回归任务。\n",
    "当scikit-learn处理分类问题时，y是一个整数或者string的向量。\n"
   ]
  },
  {
   "cell_type": "markdown",
   "metadata": {},
   "source": [
    "## Nearest neighbor and the curse of dimensionality\n",
    "\n",
    "### Classifying irises，分类irises：\n",
    "iris数据集，用于一个分类任务，主要是通过petal和sepal的length和width来识别3种不同的iris。\n"
   ]
  },
  {
   "cell_type": "code",
   "execution_count": 1,
   "metadata": {},
   "outputs": [
    {
     "data": {
      "text/plain": [
       "array([0, 1, 2])"
      ]
     },
     "execution_count": 1,
     "metadata": {},
     "output_type": "execute_result"
    }
   ],
   "source": [
    "import numpy as np\n",
    "from sklearn import datasets\n",
    "iris=datasets.load_iris()\n",
    "iris_X=iris.data\n",
    "iris_y=iris.target\n",
    "np.unique(iris_y)\n",
    "#输出的内容只有0，1，2，三个分类。这个数据集在前面也讲过的。"
   ]
  },
  {
   "cell_type": "markdown",
   "metadata": {},
   "source": [
    "### k-Nearest neighbors classifier，K临近分类\n",
    "最简单的分类器就是NN：给定一个新的观测集X_test，在训练集中找到最近的特征向量。\n",
    "默认大家理解训练集和测试集的含义。\n",
    "一个KNN的分类例子："
   ]
  },
  {
   "cell_type": "code",
   "execution_count": 3,
   "metadata": {},
   "outputs": [
    {
     "data": {
      "text/plain": [
       "KNeighborsClassifier(algorithm='auto', leaf_size=30, metric='minkowski',\n",
       "           metric_params=None, n_jobs=1, n_neighbors=5, p=2,\n",
       "           weights='uniform')"
      ]
     },
     "execution_count": 3,
     "metadata": {},
     "output_type": "execute_result"
    }
   ],
   "source": [
    "# Split iris data in train and test data\n",
    "# A random permutation, to split the data randomly\n",
    "np.random.seed(0)\n",
    "indices=np.random.permutation(len(iris_X))\n",
    "iris_X_train=iris_X[indices[:-10]]\n",
    "iris_y_train = iris_y[indices[:-10]]\n",
    "iris_X_test  = iris_X[indices[-10:]]\n",
    "iris_y_test  = iris_y[indices[-10:]]\n",
    "# Create and fit a nearest-neighbor classifier\n",
    "from sklearn.neighbors import KNeighborsClassifier\n",
    "knn=KNeighborsClassifier()\n",
    "knn.fit(iris_X_train,iris_y_train)"
   ]
  },
  {
   "cell_type": "code",
   "execution_count": 4,
   "metadata": {},
   "outputs": [
    {
     "data": {
      "text/plain": [
       "array([1, 2, 1, 0, 0, 0, 2, 1, 2, 0])"
      ]
     },
     "execution_count": 4,
     "metadata": {},
     "output_type": "execute_result"
    }
   ],
   "source": [
    "knn.predict(iris_X_test)"
   ]
  },
  {
   "cell_type": "code",
   "execution_count": 5,
   "metadata": {},
   "outputs": [
    {
     "data": {
      "text/plain": [
       "array([1, 1, 1, 0, 0, 0, 2, 1, 2, 0])"
      ]
     },
     "execution_count": 5,
     "metadata": {},
     "output_type": "execute_result"
    }
   ],
   "source": [
    "iris_y_test"
   ]
  },
  {
   "cell_type": "markdown",
   "metadata": {},
   "source": [
    "可以看出只有第二个预测错误了~\n",
    "\n",
    "### The curse of dimensionality，维度的诅咒？\n",
    "\n",
    "如果预测器想要有效率，我们需要使得临近点之间的距离小于某一个特定值d，取决于问题本身。在一个维度，这需要平均n~1/d个点？？？(this requires on average n~1/d points)。在上面的k-NN例子中，如果数据只用一个特征来描述，并且这个特征取值从0-1变化，有n个训练值。然后新的数据将不会大于1/n？？？no further away than 1/n。因此，NN法则将会生效，只要1/n是小于类间特征变化的规模的？？？\n",
    "如果feature的数量为p，那么需要n~1/dP个点。假如我们需要在一个维度上有10个点，那么需要10p个点在p个维度上，去铺平[0,1]空间。如果p变得更大，那么需要的训练点数会指数增长。\n",
    "这是机器学习的核心问题。\n",
    "\n",
    "## Linear model: from regression to sparsity\n",
    "\n",
    "### Diabetes Dataset，糖尿病数据集\n",
    "\n",
    "这个数据集包括10个生理变量（age,sex,weight,blood pressure），在442个病人身上，以及一年后的疾病发展迹象。\n"
   ]
  },
  {
   "cell_type": "code",
   "execution_count": 6,
   "metadata": {},
   "outputs": [],
   "source": [
    "diabetes = datasets.load_diabetes()\n",
    "diabetes_X_train = diabetes.data[:-20]\n",
    "diabetes_X_test  = diabetes.data[-20:]\n",
    "diabetes_y_train = diabetes.target[:-20]\n",
    "diabetes_y_test  = diabetes.target[-20:]\n"
   ]
  },
  {
   "cell_type": "markdown",
   "metadata": {},
   "source": [
    "目前的任务就是通过这些生理变量预测疾病进展。"
   ]
  },
  {
   "cell_type": "markdown",
   "metadata": {},
   "source": [
    "### Linear regression，线性回归\n",
    "最简单的形式，就是拟合一个线性模型，通过调整一系列参数，使得平方差的和尽可能小。\n",
    "y=Χβ+ϵ\n",
    "X表示data数据，y表示目标变量，β表示系数，ϵ表示噪声。\n"
   ]
  },
  {
   "cell_type": "code",
   "execution_count": 7,
   "metadata": {},
   "outputs": [
    {
     "data": {
      "text/plain": [
       "LinearRegression(copy_X=True, fit_intercept=True, n_jobs=1, normalize=False)"
      ]
     },
     "execution_count": 7,
     "metadata": {},
     "output_type": "execute_result"
    }
   ],
   "source": [
    "from sklearn import linear_model\n",
    "regr=linear_model.LinearRegression()\n",
    "regr.fit(diabetes_X_train,diabetes_y_train)\n"
   ]
  },
  {
   "cell_type": "code",
   "execution_count": 8,
   "metadata": {},
   "outputs": [
    {
     "data": {
      "text/plain": [
       "array([  3.03499549e-01,  -2.37639315e+02,   5.10530605e+02,\n",
       "         3.27736980e+02,  -8.14131709e+02,   4.92814588e+02,\n",
       "         1.02848452e+02,   1.84606489e+02,   7.43519617e+02,\n",
       "         7.60951722e+01])"
      ]
     },
     "execution_count": 8,
     "metadata": {},
     "output_type": "execute_result"
    }
   ],
   "source": [
    "regr.coef_"
   ]
  },
  {
   "cell_type": "code",
   "execution_count": 9,
   "metadata": {},
   "outputs": [
    {
     "data": {
      "text/plain": [
       "2004.5676026898211"
      ]
     },
     "execution_count": 9,
     "metadata": {},
     "output_type": "execute_result"
    }
   ],
   "source": [
    "np.mean((regr.predict(diabetes_X_test)-diabetes_y_test)**2)\n"
   ]
  },
  {
   "cell_type": "code",
   "execution_count": 10,
   "metadata": {},
   "outputs": [
    {
     "data": {
      "text/plain": [
       "0.58507530226905735"
      ]
     },
     "execution_count": 10,
     "metadata": {},
     "output_type": "execute_result"
    }
   ],
   "source": [
    "# Explained variance score: 1 is perfect prediction\n",
    "# and 0 means that there is no linear relationship\n",
    "# between X and y.\n",
    "regr.score(diabetes_X_test,diabetes_y_test)\n"
   ]
  },
  {
   "cell_type": "markdown",
   "metadata": {},
   "source": [
    "### Shrinkage，收缩\n",
    "\n",
    "如果每个维度的点很少，那么噪声会引起较大的变化。\n"
   ]
  },
  {
   "cell_type": "code",
   "execution_count": 11,
   "metadata": {},
   "outputs": [],
   "source": [
    "X=np.c_[.5,1].T\n",
    "y=[.5,1]\n",
    "test=np.c_[0,2].T\n",
    "regr=linear_model.LinearRegression()\n"
   ]
  },
  {
   "cell_type": "code",
   "execution_count": 13,
   "metadata": {},
   "outputs": [
    {
     "data": {
      "image/png": "[encoded data removed]",
      "text/plain": [
       "<matplotlib.figure.Figure at 0x298357c3978>"
      ]
     },
     "metadata": {},
     "output_type": "display_data"
    }
   ],
   "source": [
    "import matplotlib.pyplot as plt\n",
    "plt.figure()\n",
    "\n",
    "np.random.seed(0)\n",
    "for _ in range(6):\n",
    "    this_X=.1*np.random.normal(size=(2,1))+X\n",
    "    regr.fit(this_X,y)\n",
    "    plt.plot(test,regr.predict(test))\n",
    "    plt.scatter(this_X,y,s=3)\n",
    "plt.show()"
   ]
  },
  {
   "cell_type": "markdown",
   "metadata": {},
   "source": [
    "在高维统计学习中，一个解决方案是收缩回归系数到0，任意两个随机选定的观测结果看起来都是不相关的。这叫做Ridge regression。"
   ]
  },
  {
   "cell_type": "code",
   "execution_count": 14,
   "metadata": {},
   "outputs": [
    {
     "data": {
      "image/png": "[encoded data removed]",
      "text/plain": [
       "<matplotlib.figure.Figure at 0x298357c3908>"
      ]
     },
     "metadata": {},
     "output_type": "display_data"
    }
   ],
   "source": [
    "regr = linear_model.Ridge(alpha=.1)\n",
    "\n",
    "plt.figure() \n",
    "\n",
    "np.random.seed(0)\n",
    "for _ in range(6): \n",
    "    this_X = .1*np.random.normal(size=(2, 1)) + X\n",
    "    regr.fit(this_X, y)\n",
    "    plt.plot(test, regr.predict(test)) \n",
    "    plt.scatter(this_X, y, s=3)\n",
    "plt.show()"
   ]
  },
  {
   "cell_type": "markdown",
   "metadata": {},
   "source": [
    "这是一个bias/variance调和的例子，ridge alpha系数越大，bias越高，variance越低。\n",
    "我们可以选择alpha来最小化误差。\n"
   ]
  },
  {
   "cell_type": "code",
   "execution_count": 15,
   "metadata": {},
   "outputs": [
    {
     "name": "stdout",
     "output_type": "stream",
     "text": [
      "[0.58511106838835292, 0.58520730154446743, 0.58546775406984897, 0.58555120365039137, 0.58307170855541601, 0.57058999437280078]\n"
     ]
    }
   ],
   "source": [
    "alphas = np.logspace(-4, -1, 6)\n",
    "from __future__ import print_function\n",
    "print([regr.set_params(alpha=alpha).fit(diabetes_X_train, diabetes_y_train,).score(diabetes_X_test, diabetes_y_test) for alpha in alphas]) "
   ]
  },
  {
   "cell_type": "markdown",
   "metadata": {},
   "source": [
    "### Sparsity，稀疏性。\n",
    "\n",
    "仍然是针对糖尿病数据集，因为其具有10个feature，很难直觉上预测一个model，但是我们可以降低维度来考虑。\n",
    "通过上面的图片，我们可以看出，尽快feature2在全模型上与y的相关系数很强，但当考虑feature1的时候，feature2并没有传递什么信息。\n",
    "为了改善这个问题，只选择能够传递信息的feature，然后将无关的feature设置为0.Ridge回归将会减弱他们的影响，但是不会设置为0.另一个惩罚方法，成为Lasso，可以实现设置一些系数为0.这样的方法称为稀疏算法。\n"
   ]
  },
  {
   "cell_type": "code",
   "execution_count": 16,
   "metadata": {},
   "outputs": [],
   "source": [
    "regr=linear_model.Lasso()\n",
    "scores=[regr.set_params(alpha=alpha).fit(diabetes_X_train, diabetes_y_train).score(diabetes_X_test, diabetes_y_test) for alpha in alphas]\n"
   ]
  },
  {
   "cell_type": "code",
   "execution_count": 17,
   "metadata": {},
   "outputs": [
    {
     "data": {
      "text/plain": [
       "Lasso(alpha=0.025118864315095794, copy_X=True, fit_intercept=True,\n",
       "   max_iter=1000, normalize=False, positive=False, precompute=False,\n",
       "   random_state=None, selection='cyclic', tol=0.0001, warm_start=False)"
      ]
     },
     "execution_count": 17,
     "metadata": {},
     "output_type": "execute_result"
    }
   ],
   "source": [
    "best_score=alphas[scores.index(max(scores))]\n",
    "regr.alpha=best_score\n",
    "regr.fit(diabetes_X_train,diabetes_y_train)\n"
   ]
  },
  {
   "cell_type": "code",
   "execution_count": 18,
   "metadata": {},
   "outputs": [
    {
     "data": {
      "text/plain": [
       "array([   0.        , -212.43764548,  517.19478111,  313.77959962,\n",
       "       -160.8303982 ,   -0.        , -187.19554705,   69.38229038,\n",
       "        508.66011217,   71.84239008])"
      ]
     },
     "execution_count": 18,
     "metadata": {},
     "output_type": "execute_result"
    }
   ],
   "source": [
    "regr.coef_"
   ]
  },
  {
   "cell_type": "markdown",
   "metadata": {},
   "source": [
    "可以看到有些数值为0."
   ]
  },
  {
   "cell_type": "markdown",
   "metadata": {},
   "source": [
    "### Classification，分类\n",
    "\n",
    "对于分类问题，在iris中，线性回归不是正确的方法，因为它会给远离决策边界的数据过于重视。一个线性方法是拟合一个激活函数或者logistic函数，如上面所示。"
   ]
  },
  {
   "cell_type": "code",
   "execution_count": 19,
   "metadata": {},
   "outputs": [
    {
     "data": {
      "text/plain": [
       "LogisticRegression(C=100000.0, class_weight=None, dual=False,\n",
       "          fit_intercept=True, intercept_scaling=1, max_iter=100,\n",
       "          multi_class='ovr', n_jobs=1, penalty='l2', random_state=None,\n",
       "          solver='liblinear', tol=0.0001, verbose=0, warm_start=False)"
      ]
     },
     "execution_count": 19,
     "metadata": {},
     "output_type": "execute_result"
    }
   ],
   "source": [
    "logistic=linear_model.LogisticRegression(C=1e5)\n",
    "logistic.fit(iris_X_train,iris_y_train)"
   ]
  },
  {
   "cell_type": "markdown",
   "metadata": {},
   "source": [
    "\n",
    "## Support vector machines (SVMs)\n",
    "\n",
    "### Linear SVMs，线性支持向量机\n",
    "SVM属于判别模型族：他们试图找到样本的组合来建立一个最大化两个类别之间的差距的平面。正则化由C参数设置，对于C来说，一个小的值意味着利用分离线周围的许多或所有观察值来计算余量（更多的正则化）; C的较大值意味着边界在靠近分离线的观察值上计算（较少正则化）。\n",
    "\n",
    "SVMs可以用于回归——SVR，或者用于分类——SVC。\n"
   ]
  },
  {
   "cell_type": "code",
   "execution_count": 20,
   "metadata": {},
   "outputs": [
    {
     "data": {
      "text/plain": [
       "SVC(C=1.0, cache_size=200, class_weight=None, coef0=0.0,\n",
       "  decision_function_shape='ovr', degree=3, gamma='auto', kernel='linear',\n",
       "  max_iter=-1, probability=False, random_state=None, shrinking=True,\n",
       "  tol=0.001, verbose=False)"
      ]
     },
     "execution_count": 20,
     "metadata": {},
     "output_type": "execute_result"
    }
   ],
   "source": [
    "from sklearn import svm\n",
    "svc=svm.SVC(kernel='linear')\n",
    "svc.fit(iris_X_train,iris_y_train)"
   ]
  },
  {
   "cell_type": "markdown",
   "metadata": {},
   "source": [
    "### Using kernels，使用核\n",
    "特征空间中的类不总是线性可分的。解决的办法是建立一个不是线性但可能是多项式的决策函数。可以通过设置kernel参数来决定。\n"
   ]
  }
 ],
 "metadata": {
  "kernelspec": {
   "display_name": "Python 3",
   "language": "python",
   "name": "python3"
  },
  "language_info": {
   "codemirror_mode": {
    "name": "ipython",
    "version": 3
   },
   "file_extension": ".py",
   "mimetype": "text/x-python",
   "name": "python",
   "nbconvert_exporter": "python",
   "pygments_lexer": "ipython3",
   "version": "3.5.2"
  }
 },
 "nbformat": 4,
 "nbformat_minor": 2
}
