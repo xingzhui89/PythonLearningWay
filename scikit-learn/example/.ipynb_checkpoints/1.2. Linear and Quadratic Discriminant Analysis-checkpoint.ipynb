{
 "cells": [
  {
   "cell_type": "markdown",
   "metadata": {},
   "source": [
    "Linear Discriminant Analysis ，线性判别分析\n",
    "Quadratic Discriminant Analysis ，二次判别分析。\n",
    "以上两种是经典的分类器，因为其存在closed-form的解，并且很容易计算得到，没有一些超参数需要调整，经过大量实例检验。\n"
   ]
  }
 ],
 "metadata": {
  "kernelspec": {
   "display_name": "Python 3",
   "language": "python",
   "name": "python3"
  },
  "language_info": {
   "codemirror_mode": {
    "name": "ipython",
    "version": 3
   },
   "file_extension": ".py",
   "mimetype": "text/x-python",
   "name": "python",
   "nbconvert_exporter": "python",
   "pygments_lexer": "ipython3",
   "version": "3.5.2"
  }
 },
 "nbformat": 4,
 "nbformat_minor": 2
}
